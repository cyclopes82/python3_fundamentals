{
 "cells": [
  {
   "cell_type": "markdown",
   "id": "7a5c08fc-0ecb-4963-be76-ac3a3562813b",
   "metadata": {},
   "source": [
    "## LRU Cache"
   ]
  },
  {
   "cell_type": "code",
   "execution_count": 1,
   "id": "01485cc4-a02a-4ebe-aaa0-dbfeda5d3185",
   "metadata": {},
   "outputs": [],
   "source": [
    "def cache(func):\n",
    "    def inner(*args):\n",
    "        result = func(*args)\n",
    "        return result\n",
    "    return inner"
   ]
  },
  {
   "cell_type": "code",
   "execution_count": 2,
   "id": "4eaf9bbc-b2c8-4b63-93d4-2484c12b02ad",
   "metadata": {},
   "outputs": [],
   "source": [
    "cache_dict = {}\n",
    "\n",
    "def cache(func):\n",
    "    def inner(*args):\n",
    "        if args in cache_dict:\n",
    "            return cache_dict[args]\n",
    "        else:\n",
    "            result = func(*args)\n",
    "            cache_dict[args] = result\n",
    "            return result\n",
    "    return inner            "
   ]
  },
  {
   "cell_type": "code",
   "execution_count": 3,
   "id": "cb01f8ce-b434-4cd6-a35d-d860b0fbe474",
   "metadata": {},
   "outputs": [],
   "source": [
    "@cache\n",
    "def add(a, b):\n",
    "    return a + b\n",
    "\n",
    "@cache\n",
    "def mult(a, b):\n",
    "    return a * b"
   ]
  },
  {
   "cell_type": "code",
   "execution_count": 4,
   "id": "f57c8e2e-a7cc-400e-989e-41f3cbf88224",
   "metadata": {},
   "outputs": [
    {
     "data": {
      "text/plain": [
       "3"
      ]
     },
     "execution_count": 4,
     "metadata": {},
     "output_type": "execute_result"
    }
   ],
   "source": [
    "add(1, 2)"
   ]
  },
  {
   "cell_type": "code",
   "execution_count": 5,
   "id": "b6039e51-2073-47fa-acc5-887dd8855883",
   "metadata": {},
   "outputs": [
    {
     "data": {
      "text/plain": [
       "{(1, 2): 3}"
      ]
     },
     "execution_count": 5,
     "metadata": {},
     "output_type": "execute_result"
    }
   ],
   "source": [
    "cache_dict"
   ]
  },
  {
   "cell_type": "code",
   "execution_count": 7,
   "id": "9056f6f6-95cb-42fd-87c3-3bd097cf40dc",
   "metadata": {},
   "outputs": [
    {
     "data": {
      "text/plain": [
       "3"
      ]
     },
     "execution_count": 7,
     "metadata": {},
     "output_type": "execute_result"
    }
   ],
   "source": [
    "mult(1, 2) ## This is giving a result of ADD "
   ]
  },
  {
   "cell_type": "code",
   "execution_count": 14,
   "id": "59439dfd-03d6-4a99-9e22-ce141f03dbc9",
   "metadata": {},
   "outputs": [],
   "source": [
    "\n",
    "\n",
    "def cache(func):\n",
    "    print('Initializing cache')\n",
    "    cache_dict = {}\n",
    "    def inner(*args):\n",
    "        if args in cache_dict:\n",
    "            print('cache hit')\n",
    "            return cache_dict[args]\n",
    "        else:\n",
    "            print('cache miss')\n",
    "            result = func(*args)\n",
    "            cache_dict[args] = result\n",
    "            return result\n",
    "    return inner  "
   ]
  },
  {
   "cell_type": "code",
   "execution_count": 16,
   "id": "f2309f3b-ef3a-465b-bb89-a90979b06456",
   "metadata": {},
   "outputs": [
    {
     "name": "stdout",
     "output_type": "stream",
     "text": [
      "Initializing cache\n",
      "Initializing cache\n"
     ]
    }
   ],
   "source": [
    "@cache\n",
    "def add(a, b):\n",
    "    print('add running')\n",
    "    return a + b\n",
    "\n",
    "@cache\n",
    "def mult(a, b):\n",
    "    print('mult running')\n",
    "    return a * b"
   ]
  },
  {
   "cell_type": "code",
   "execution_count": 17,
   "id": "7b5578ea-0a6d-4210-95b1-3fb0f13f75fd",
   "metadata": {},
   "outputs": [
    {
     "name": "stdout",
     "output_type": "stream",
     "text": [
      "cache miss\n",
      "add running\n"
     ]
    },
    {
     "data": {
      "text/plain": [
       "3"
      ]
     },
     "execution_count": 17,
     "metadata": {},
     "output_type": "execute_result"
    }
   ],
   "source": [
    "add(1,2)"
   ]
  },
  {
   "cell_type": "code",
   "execution_count": 12,
   "id": "ac9c46b7-bcfc-403c-b808-9e4a31c54025",
   "metadata": {},
   "outputs": [
    {
     "data": {
      "text/plain": [
       "(<cell at 0x000001B0C2884430: dict object at 0x000001B0C289CB00>,\n",
       " <cell at 0x000001B0C2885C60: function object at 0x000001B0C2862CA0>)"
      ]
     },
     "execution_count": 12,
     "metadata": {},
     "output_type": "execute_result"
    }
   ],
   "source": [
    "add.__closure__"
   ]
  },
  {
   "cell_type": "code",
   "execution_count": 13,
   "id": "a2d2dafa-e3dd-4f9e-a2be-c699b833c218",
   "metadata": {},
   "outputs": [
    {
     "data": {
      "text/plain": [
       "(<cell at 0x000001B0C2884400: dict object at 0x000001B0C28A6D80>,\n",
       " <cell at 0x000001B0C2885960: function object at 0x000001B0C2862A20>)"
      ]
     },
     "execution_count": 13,
     "metadata": {},
     "output_type": "execute_result"
    }
   ],
   "source": [
    "mult.__closure__"
   ]
  },
  {
   "cell_type": "code",
   "execution_count": 18,
   "id": "ab277747-e8e4-491b-b55f-705d60b78fb3",
   "metadata": {},
   "outputs": [
    {
     "name": "stdout",
     "output_type": "stream",
     "text": [
      "cache hit\n"
     ]
    },
    {
     "data": {
      "text/plain": [
       "3"
      ]
     },
     "execution_count": 18,
     "metadata": {},
     "output_type": "execute_result"
    }
   ],
   "source": [
    "add(1,2)"
   ]
  },
  {
   "cell_type": "code",
   "execution_count": 19,
   "id": "a098e797-b15a-44f2-a91d-010d489ee828",
   "metadata": {},
   "outputs": [],
   "source": [
    "from functools import lru_cache "
   ]
  },
  {
   "cell_type": "code",
   "execution_count": 20,
   "id": "2191b45b-1286-4666-85f5-984c28f4dafa",
   "metadata": {},
   "outputs": [],
   "source": [
    "@lru_cache(maxsize=2)\n",
    "def add(a, b):\n",
    "    print('add called ...')\n",
    "    return a + b"
   ]
  },
  {
   "cell_type": "code",
   "execution_count": 21,
   "id": "640af4d8-75c3-463c-8191-3de77a152444",
   "metadata": {},
   "outputs": [
    {
     "name": "stdout",
     "output_type": "stream",
     "text": [
      "add called ...\n"
     ]
    },
    {
     "data": {
      "text/plain": [
       "3"
      ]
     },
     "execution_count": 21,
     "metadata": {},
     "output_type": "execute_result"
    }
   ],
   "source": [
    " add(1,2)"
   ]
  },
  {
   "cell_type": "code",
   "execution_count": 22,
   "id": "cd6d663c-f2dc-47d7-91e6-a412e2cc5ee2",
   "metadata": {},
   "outputs": [
    {
     "name": "stdout",
     "output_type": "stream",
     "text": [
      "add called ...\n"
     ]
    },
    {
     "data": {
      "text/plain": [
       "7"
      ]
     },
     "execution_count": 22,
     "metadata": {},
     "output_type": "execute_result"
    }
   ],
   "source": [
    "add(3,4)"
   ]
  },
  {
   "cell_type": "code",
   "execution_count": 23,
   "id": "80f997a0-813b-4e7e-9b7a-e89b3c31a53f",
   "metadata": {},
   "outputs": [
    {
     "data": {
      "text/plain": [
       "3"
      ]
     },
     "execution_count": 23,
     "metadata": {},
     "output_type": "execute_result"
    }
   ],
   "source": [
    "add(1,2)"
   ]
  },
  {
   "cell_type": "code",
   "execution_count": 24,
   "id": "2537f4e3-d446-4fa4-a57e-e787f416ed80",
   "metadata": {},
   "outputs": [
    {
     "name": "stdout",
     "output_type": "stream",
     "text": [
      "add called ...\n"
     ]
    },
    {
     "data": {
      "text/plain": [
       "11"
      ]
     },
     "execution_count": 24,
     "metadata": {},
     "output_type": "execute_result"
    }
   ],
   "source": [
    "add(5,6)"
   ]
  },
  {
   "cell_type": "code",
   "execution_count": 25,
   "id": "6eebc7d1-50d9-408a-9bf6-95f4e786db02",
   "metadata": {},
   "outputs": [
    {
     "name": "stdout",
     "output_type": "stream",
     "text": [
      "add called ...\n"
     ]
    },
    {
     "data": {
      "text/plain": [
       "7"
      ]
     },
     "execution_count": 25,
     "metadata": {},
     "output_type": "execute_result"
    }
   ],
   "source": [
    "add(3,4)"
   ]
  },
  {
   "cell_type": "code",
   "execution_count": 26,
   "id": "129ab8cb-bdcf-492b-9a83-fd279f40848c",
   "metadata": {},
   "outputs": [],
   "source": [
    "def fib(n):\n",
    "    print(f'fib({n}) called ...')\n",
    "    if n <= 1:\n",
    "        return n\n",
    "    return fib(n-1) + fib(n-2)"
   ]
  },
  {
   "cell_type": "code",
   "execution_count": 27,
   "id": "d34d23fb-be9c-4fce-8c1c-1e7c48a83510",
   "metadata": {},
   "outputs": [
    {
     "name": "stdout",
     "output_type": "stream",
     "text": [
      "fib(5) called ...\n",
      "fib(4) called ...\n",
      "fib(3) called ...\n",
      "fib(2) called ...\n",
      "fib(1) called ...\n",
      "fib(0) called ...\n",
      "fib(1) called ...\n",
      "fib(2) called ...\n",
      "fib(1) called ...\n",
      "fib(0) called ...\n",
      "fib(3) called ...\n",
      "fib(2) called ...\n",
      "fib(1) called ...\n",
      "fib(0) called ...\n",
      "fib(1) called ...\n"
     ]
    },
    {
     "data": {
      "text/plain": [
       "5"
      ]
     },
     "execution_count": 27,
     "metadata": {},
     "output_type": "execute_result"
    }
   ],
   "source": [
    "fib(5)"
   ]
  },
  {
   "cell_type": "code",
   "execution_count": 28,
   "id": "d4023922-5188-448e-82b1-c9f56ce7acb6",
   "metadata": {},
   "outputs": [],
   "source": [
    "@lru_cache(maxsize=100)\n",
    "def fib(n):\n",
    "    print(f'fib({n}) called ...')\n",
    "    if n <= 1:\n",
    "        return n\n",
    "    return fib(n-1) + fib(n-2)"
   ]
  },
  {
   "cell_type": "code",
   "execution_count": 29,
   "id": "a344407e-03d4-4409-ba3b-203141bb3b56",
   "metadata": {},
   "outputs": [
    {
     "name": "stdout",
     "output_type": "stream",
     "text": [
      "fib(5) called ...\n",
      "fib(4) called ...\n",
      "fib(3) called ...\n",
      "fib(2) called ...\n",
      "fib(1) called ...\n",
      "fib(0) called ...\n"
     ]
    },
    {
     "data": {
      "text/plain": [
       "5"
      ]
     },
     "execution_count": 29,
     "metadata": {},
     "output_type": "execute_result"
    }
   ],
   "source": [
    "fib(5)"
   ]
  },
  {
   "cell_type": "code",
   "execution_count": 30,
   "id": "cfc0a609-29d0-45d2-8b9c-9262ca55f08d",
   "metadata": {},
   "outputs": [
    {
     "name": "stdout",
     "output_type": "stream",
     "text": [
      "fib(50) called ...\n",
      "fib(49) called ...\n",
      "fib(48) called ...\n",
      "fib(47) called ...\n",
      "fib(46) called ...\n",
      "fib(45) called ...\n",
      "fib(44) called ...\n",
      "fib(43) called ...\n",
      "fib(42) called ...\n",
      "fib(41) called ...\n",
      "fib(40) called ...\n",
      "fib(39) called ...\n",
      "fib(38) called ...\n",
      "fib(37) called ...\n",
      "fib(36) called ...\n",
      "fib(35) called ...\n",
      "fib(34) called ...\n",
      "fib(33) called ...\n",
      "fib(32) called ...\n",
      "fib(31) called ...\n",
      "fib(30) called ...\n",
      "fib(29) called ...\n",
      "fib(28) called ...\n",
      "fib(27) called ...\n",
      "fib(26) called ...\n",
      "fib(25) called ...\n",
      "fib(24) called ...\n",
      "fib(23) called ...\n",
      "fib(22) called ...\n",
      "fib(21) called ...\n",
      "fib(20) called ...\n",
      "fib(19) called ...\n",
      "fib(18) called ...\n",
      "fib(17) called ...\n",
      "fib(16) called ...\n",
      "fib(15) called ...\n",
      "fib(14) called ...\n",
      "fib(13) called ...\n",
      "fib(12) called ...\n",
      "fib(11) called ...\n",
      "fib(10) called ...\n",
      "fib(9) called ...\n",
      "fib(8) called ...\n",
      "fib(7) called ...\n",
      "fib(6) called ...\n"
     ]
    },
    {
     "data": {
      "text/plain": [
       "12586269025"
      ]
     },
     "execution_count": 30,
     "metadata": {},
     "output_type": "execute_result"
    }
   ],
   "source": [
    "fib(50)"
   ]
  },
  {
   "cell_type": "code",
   "execution_count": null,
   "id": "22691bd3-5df7-4cc5-a677-765a5459511f",
   "metadata": {},
   "outputs": [],
   "source": []
  }
 ],
 "metadata": {
  "kernelspec": {
   "display_name": "Python 3 (ipykernel)",
   "language": "python",
   "name": "python3"
  },
  "language_info": {
   "codemirror_mode": {
    "name": "ipython",
    "version": 3
   },
   "file_extension": ".py",
   "mimetype": "text/x-python",
   "name": "python",
   "nbconvert_exporter": "python",
   "pygments_lexer": "ipython3",
   "version": "3.11.7"
  }
 },
 "nbformat": 4,
 "nbformat_minor": 5
}
