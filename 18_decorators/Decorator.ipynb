{
 "cells": [
  {
   "cell_type": "markdown",
   "id": "b4bf1c11-d8f8-48e6-99f1-1cbb549a36e3",
   "metadata": {},
   "source": [
    "# Decorators"
   ]
  },
  {
   "cell_type": "code",
   "execution_count": 1,
   "id": "d2e22f99-9243-45fd-a9b6-9f3d1ae6b147",
   "metadata": {},
   "outputs": [],
   "source": [
    "def wrapper(func):\n",
    "\n",
    "    def inner(*args, **kwargs):\n",
    "        result = func(*args, **kwargs)\n",
    "        return result\n",
    "\n",
    "    return inner"
   ]
  },
  {
   "cell_type": "code",
   "execution_count": 2,
   "id": "a7a04602-c8b0-4b8f-bce2-31762170c436",
   "metadata": {},
   "outputs": [],
   "source": [
    "def add(a, b, c):\n",
    "    return a + b + c\n",
    "\n",
    "def greet(name):\n",
    "    return f'Hello {name}!'\n",
    "\n",
    "def join(data, *, item_sep=',', line_sep='\\n'):\n",
    "    return line_sep.join(\n",
    "        [\n",
    "            item_sep.join(str(item) for item in row)\n",
    "            for row in data\n",
    "        ]\n",
    "    )"
   ]
  },
  {
   "cell_type": "code",
   "execution_count": 3,
   "id": "d122ea56-e443-4378-8f8a-4ad11e3f83ee",
   "metadata": {},
   "outputs": [
    {
     "data": {
      "text/plain": [
       "6"
      ]
     },
     "execution_count": 3,
     "metadata": {},
     "output_type": "execute_result"
    }
   ],
   "source": [
    "add(1,2,3)"
   ]
  },
  {
   "cell_type": "code",
   "execution_count": 4,
   "id": "a0d03f33-31f4-487b-9858-964608845fe7",
   "metadata": {},
   "outputs": [
    {
     "data": {
      "text/plain": [
       "'Hello Daph!'"
      ]
     },
     "execution_count": 4,
     "metadata": {},
     "output_type": "execute_result"
    }
   ],
   "source": [
    "greet(\"Daph\")"
   ]
  },
  {
   "cell_type": "code",
   "execution_count": 5,
   "id": "e65e92e7-8f5d-44ff-86d7-e6a793a6ab06",
   "metadata": {},
   "outputs": [
    {
     "data": {
      "text/plain": [
       "'1,2,3\\n4,5,6\\n7,8,9'"
      ]
     },
     "execution_count": 5,
     "metadata": {},
     "output_type": "execute_result"
    }
   ],
   "source": [
    "join([[1, 2, 3], [4, 5, 6], [7, 8, 9]])"
   ]
  },
  {
   "cell_type": "code",
   "execution_count": 6,
   "id": "8e614ede-d318-4691-a5f8-d6e43dc2dd45",
   "metadata": {},
   "outputs": [],
   "source": [
    "add_wraped = wrapper(add)\n",
    "greet_wraped = wrapper(greet)\n",
    "join_wraped = wrapper(join)"
   ]
  },
  {
   "cell_type": "code",
   "execution_count": 7,
   "id": "19e280f5-91b3-4d22-8bec-daec9381646b",
   "metadata": {},
   "outputs": [
    {
     "data": {
      "text/plain": [
       "6"
      ]
     },
     "execution_count": 7,
     "metadata": {},
     "output_type": "execute_result"
    }
   ],
   "source": [
    "add_wraped(1,2,3)"
   ]
  },
  {
   "cell_type": "code",
   "execution_count": 8,
   "id": "e574c78e-2fa3-4e69-b5de-1836a99e2cfc",
   "metadata": {},
   "outputs": [
    {
     "data": {
      "text/plain": [
       "'Hello Python!'"
      ]
     },
     "execution_count": 8,
     "metadata": {},
     "output_type": "execute_result"
    }
   ],
   "source": [
    "greet_wraped('Python')"
   ]
  },
  {
   "cell_type": "code",
   "execution_count": 9,
   "id": "785c0517-301c-45be-bbee-343af7bbe891",
   "metadata": {},
   "outputs": [],
   "source": [
    "def log(func):\n",
    "    def inner(*args, **kwargs):\n",
    "        result = func(*args, **kwargs)\n",
    "        print(f'{func.__name__} called ... result={result}')\n",
    "        return result\n",
    "    return inner"
   ]
  },
  {
   "cell_type": "code",
   "execution_count": 11,
   "id": "aad5c0d2-de77-42b4-9ba7-03bc63424fd0",
   "metadata": {},
   "outputs": [],
   "source": [
    "add_logged = log(add)\n",
    "greet_logged = log(greet)\n",
    "join_logged = log(join)"
   ]
  },
  {
   "cell_type": "code",
   "execution_count": 12,
   "id": "234b253d-1991-4599-922f-0428e3f24400",
   "metadata": {},
   "outputs": [
    {
     "name": "stdout",
     "output_type": "stream",
     "text": [
      "add called ... result=6\n"
     ]
    },
    {
     "data": {
      "text/plain": [
       "6"
      ]
     },
     "execution_count": 12,
     "metadata": {},
     "output_type": "execute_result"
    }
   ],
   "source": [
    "add_logged(1,2,3)"
   ]
  },
  {
   "cell_type": "code",
   "execution_count": 13,
   "id": "80186faa-4840-4729-9a2d-94bb203e0af1",
   "metadata": {},
   "outputs": [
    {
     "data": {
      "text/plain": [
       "2243957565344"
      ]
     },
     "execution_count": 13,
     "metadata": {},
     "output_type": "execute_result"
    }
   ],
   "source": [
    "id(add)"
   ]
  },
  {
   "cell_type": "code",
   "execution_count": 14,
   "id": "c47d8198-201f-435d-8072-c0b614099ee8",
   "metadata": {},
   "outputs": [],
   "source": [
    "add = log(add)"
   ]
  },
  {
   "cell_type": "code",
   "execution_count": 15,
   "id": "f562f66f-ef73-4b8f-bb0d-2482a3f9e468",
   "metadata": {},
   "outputs": [
    {
     "data": {
      "text/plain": [
       "2243958973248"
      ]
     },
     "execution_count": 15,
     "metadata": {},
     "output_type": "execute_result"
    }
   ],
   "source": [
    "id(add)"
   ]
  },
  {
   "cell_type": "code",
   "execution_count": 16,
   "id": "62c390fb-c561-4804-85a4-aabdfe85c305",
   "metadata": {},
   "outputs": [
    {
     "data": {
      "text/plain": [
       "(<cell at 0x0000020A76837580: function object at 0x0000020A764B27A0>,)"
      ]
     },
     "execution_count": 16,
     "metadata": {},
     "output_type": "execute_result"
    }
   ],
   "source": [
    "add.__closure__"
   ]
  },
  {
   "cell_type": "code",
   "execution_count": 17,
   "id": "34571e35-4125-4eeb-8049-dcf79b0fb400",
   "metadata": {},
   "outputs": [
    {
     "data": {
      "text/plain": [
       "'0x20a764b27a0'"
      ]
     },
     "execution_count": 17,
     "metadata": {},
     "output_type": "execute_result"
    }
   ],
   "source": [
    "hex(2243957565344)"
   ]
  },
  {
   "cell_type": "code",
   "execution_count": 18,
   "id": "d5708e37-b2fa-45eb-b7a7-cfd113b25bc0",
   "metadata": {},
   "outputs": [
    {
     "name": "stdout",
     "output_type": "stream",
     "text": [
      "add called ... result=6\n"
     ]
    },
    {
     "data": {
      "text/plain": [
       "6"
      ]
     },
     "execution_count": 18,
     "metadata": {},
     "output_type": "execute_result"
    }
   ],
   "source": [
    "add(1,2,3)"
   ]
  },
  {
   "cell_type": "code",
   "execution_count": 19,
   "id": "f9997a58-23ba-457a-9d21-3d5b96fb2921",
   "metadata": {},
   "outputs": [],
   "source": [
    "def add(a, b, c):\n",
    "    return a + b + c\n",
    "add = log(add)\n",
    "\n",
    "def greet(name):\n",
    "    return f'Hello {name}!'\n",
    "greet = log(greet)\n",
    "\n",
    "def join(data, *, item_sep=',', line_sep='\\n'):\n",
    "    return line_sep.join(\n",
    "        [\n",
    "            item_sep.join(str(item) for item in row)\n",
    "            for row in data\n",
    "        ]\n",
    "    )\n",
    "join = log(join)"
   ]
  },
  {
   "cell_type": "code",
   "execution_count": 20,
   "id": "37c61513-7923-442c-8ade-04313cb519b9",
   "metadata": {},
   "outputs": [
    {
     "name": "stdout",
     "output_type": "stream",
     "text": [
      "greet called ... result=Hello Pratik!\n"
     ]
    },
    {
     "data": {
      "text/plain": [
       "'Hello Pratik!'"
      ]
     },
     "execution_count": 20,
     "metadata": {},
     "output_type": "execute_result"
    }
   ],
   "source": [
    "greet('Pratik')"
   ]
  },
  {
   "cell_type": "code",
   "execution_count": 21,
   "id": "9ff88e9e-f878-4dab-be91-7bf5784d0a9c",
   "metadata": {},
   "outputs": [],
   "source": [
    "@log\n",
    "def add(a, b, c):\n",
    "    return a + b + c"
   ]
  },
  {
   "cell_type": "code",
   "execution_count": 22,
   "id": "d76b7a84-4b18-4a6d-8e2b-1bb0a3dc6dce",
   "metadata": {},
   "outputs": [
    {
     "name": "stdout",
     "output_type": "stream",
     "text": [
      "add called ... result=6\n"
     ]
    },
    {
     "data": {
      "text/plain": [
       "6"
      ]
     },
     "execution_count": 22,
     "metadata": {},
     "output_type": "execute_result"
    }
   ],
   "source": [
    "add(1, 2, 3)"
   ]
  },
  {
   "cell_type": "code",
   "execution_count": 39,
   "id": "f07a6f4b-ac1d-4559-b28f-5f586c1e2b25",
   "metadata": {},
   "outputs": [],
   "source": [
    "import logging"
   ]
  },
  {
   "cell_type": "code",
   "execution_count": 43,
   "id": "faa3bfc6-6fee-4c54-8949-029975b50c83",
   "metadata": {},
   "outputs": [],
   "source": [
    "logging.basicConfig(\n",
    "     filename='log_file_name.log',\n",
    "     level=logging.INFO, \n",
    "     format= '[%(asctime)s] {%(pathname)s:%(lineno)d} %(levelname)s - %(message)s',\n",
    "     datefmt='%H:%M:%S'\n",
    " )"
   ]
  },
  {
   "cell_type": "code",
   "execution_count": 44,
   "id": "fb4f0a19-5701-4695-87e2-c78ae23c4ddc",
   "metadata": {},
   "outputs": [],
   "source": [
    "logger = logging.getLogger('Custom Log')"
   ]
  },
  {
   "cell_type": "code",
   "execution_count": 45,
   "id": "da76b99e-5263-48aa-8e84-f9b5ae8456c4",
   "metadata": {},
   "outputs": [
    {
     "name": "stderr",
     "output_type": "stream",
     "text": [
      "--- Logging error ---\n",
      "Traceback (most recent call last):\n",
      "  File \"C:\\Users\\prati\\AppData\\Local\\Programs\\Python\\Python311\\Lib\\logging\\__init__.py\", line 449, in format\n",
      "    return self._format(record)\n",
      "           ^^^^^^^^^^^^^^^^^^^^\n",
      "  File \"C:\\Users\\prati\\AppData\\Local\\Programs\\Python\\Python311\\Lib\\logging\\__init__.py\", line 445, in _format\n",
      "    return self._fmt % values\n",
      "           ~~~~~~~~~~^~~~~~~~\n",
      "KeyError: 'lelvelname'\n",
      "\n",
      "During handling of the above exception, another exception occurred:\n",
      "\n",
      "Traceback (most recent call last):\n",
      "  File \"C:\\Users\\prati\\AppData\\Local\\Programs\\Python\\Python311\\Lib\\logging\\__init__.py\", line 1110, in emit\n",
      "    msg = self.format(record)\n",
      "          ^^^^^^^^^^^^^^^^^^^\n",
      "  File \"C:\\Users\\prati\\AppData\\Local\\Programs\\Python\\Python311\\Lib\\logging\\__init__.py\", line 953, in format\n",
      "    return fmt.format(record)\n",
      "           ^^^^^^^^^^^^^^^^^^\n",
      "  File \"C:\\Users\\prati\\AppData\\Local\\Programs\\Python\\Python311\\Lib\\logging\\__init__.py\", line 690, in format\n",
      "    s = self.formatMessage(record)\n",
      "        ^^^^^^^^^^^^^^^^^^^^^^^^^^\n",
      "  File \"C:\\Users\\prati\\AppData\\Local\\Programs\\Python\\Python311\\Lib\\logging\\__init__.py\", line 659, in formatMessage\n",
      "    return self._style.format(record)\n",
      "           ^^^^^^^^^^^^^^^^^^^^^^^^^^\n",
      "  File \"C:\\Users\\prati\\AppData\\Local\\Programs\\Python\\Python311\\Lib\\logging\\__init__.py\", line 451, in format\n",
      "    raise ValueError('Formatting field not found in record: %s' % e)\n",
      "ValueError: Formatting field not found in record: 'lelvelname'\n",
      "Call stack:\n",
      "  File \"<frozen runpy>\", line 198, in _run_module_as_main\n",
      "  File \"<frozen runpy>\", line 88, in _run_code\n",
      "  File \"D:\\Learning\\Current\\python3_fundamentals\\py311\\Lib\\site-packages\\ipykernel_launcher.py\", line 17, in <module>\n",
      "    app.launch_new_instance()\n",
      "  File \"D:\\Learning\\Current\\python3_fundamentals\\py311\\Lib\\site-packages\\traitlets\\config\\application.py\", line 1075, in launch_instance\n",
      "    app.start()\n",
      "  File \"D:\\Learning\\Current\\python3_fundamentals\\py311\\Lib\\site-packages\\ipykernel\\kernelapp.py\", line 739, in start\n",
      "    self.io_loop.start()\n",
      "  File \"D:\\Learning\\Current\\python3_fundamentals\\py311\\Lib\\site-packages\\tornado\\platform\\asyncio.py\", line 205, in start\n",
      "    self.asyncio_loop.run_forever()\n",
      "  File \"C:\\Users\\prati\\AppData\\Local\\Programs\\Python\\Python311\\Lib\\asyncio\\base_events.py\", line 607, in run_forever\n",
      "    self._run_once()\n",
      "  File \"C:\\Users\\prati\\AppData\\Local\\Programs\\Python\\Python311\\Lib\\asyncio\\base_events.py\", line 1922, in _run_once\n",
      "    handle._run()\n",
      "  File \"C:\\Users\\prati\\AppData\\Local\\Programs\\Python\\Python311\\Lib\\asyncio\\events.py\", line 80, in _run\n",
      "    self._context.run(self._callback, *self._args)\n",
      "  File \"D:\\Learning\\Current\\python3_fundamentals\\py311\\Lib\\site-packages\\ipykernel\\kernelbase.py\", line 542, in dispatch_queue\n",
      "    await self.process_one()\n",
      "  File \"D:\\Learning\\Current\\python3_fundamentals\\py311\\Lib\\site-packages\\ipykernel\\kernelbase.py\", line 531, in process_one\n",
      "    await dispatch(*args)\n",
      "  File \"D:\\Learning\\Current\\python3_fundamentals\\py311\\Lib\\site-packages\\ipykernel\\kernelbase.py\", line 437, in dispatch_shell\n",
      "    await result\n",
      "  File \"D:\\Learning\\Current\\python3_fundamentals\\py311\\Lib\\site-packages\\ipykernel\\ipkernel.py\", line 359, in execute_request\n",
      "    await super().execute_request(stream, ident, parent)\n",
      "  File \"D:\\Learning\\Current\\python3_fundamentals\\py311\\Lib\\site-packages\\ipykernel\\kernelbase.py\", line 775, in execute_request\n",
      "    reply_content = await reply_content\n",
      "  File \"D:\\Learning\\Current\\python3_fundamentals\\py311\\Lib\\site-packages\\ipykernel\\ipkernel.py\", line 446, in do_execute\n",
      "    res = shell.run_cell(\n",
      "  File \"D:\\Learning\\Current\\python3_fundamentals\\py311\\Lib\\site-packages\\ipykernel\\zmqshell.py\", line 549, in run_cell\n",
      "    return super().run_cell(*args, **kwargs)\n",
      "  File \"D:\\Learning\\Current\\python3_fundamentals\\py311\\Lib\\site-packages\\IPython\\core\\interactiveshell.py\", line 3051, in run_cell\n",
      "    result = self._run_cell(\n",
      "  File \"D:\\Learning\\Current\\python3_fundamentals\\py311\\Lib\\site-packages\\IPython\\core\\interactiveshell.py\", line 3106, in _run_cell\n",
      "    result = runner(coro)\n",
      "  File \"D:\\Learning\\Current\\python3_fundamentals\\py311\\Lib\\site-packages\\IPython\\core\\async_helpers.py\", line 129, in _pseudo_sync_runner\n",
      "    coro.send(None)\n",
      "  File \"D:\\Learning\\Current\\python3_fundamentals\\py311\\Lib\\site-packages\\IPython\\core\\interactiveshell.py\", line 3311, in run_cell_async\n",
      "    has_raised = await self.run_ast_nodes(code_ast.body, cell_name,\n",
      "  File \"D:\\Learning\\Current\\python3_fundamentals\\py311\\Lib\\site-packages\\IPython\\core\\interactiveshell.py\", line 3493, in run_ast_nodes\n",
      "    if await self.run_code(code, result, async_=asy):\n",
      "  File \"D:\\Learning\\Current\\python3_fundamentals\\py311\\Lib\\site-packages\\IPython\\core\\interactiveshell.py\", line 3553, in run_code\n",
      "    exec(code_obj, self.user_global_ns, self.user_ns)\n",
      "  File \"C:\\Users\\prati\\AppData\\Local\\Temp\\ipykernel_16736\\552530682.py\", line 1, in <module>\n",
      "    logger.debug('debug message')\n",
      "Message: 'debug message'\n",
      "Arguments: ()\n"
     ]
    }
   ],
   "source": [
    "logger.debug('debug message')"
   ]
  },
  {
   "cell_type": "code",
   "execution_count": null,
   "id": "3d001393-2c84-4b34-b527-bcca760f5300",
   "metadata": {},
   "outputs": [],
   "source": []
  }
 ],
 "metadata": {
  "kernelspec": {
   "display_name": "Python 3 (ipykernel)",
   "language": "python",
   "name": "python3"
  },
  "language_info": {
   "codemirror_mode": {
    "name": "ipython",
    "version": 3
   },
   "file_extension": ".py",
   "mimetype": "text/x-python",
   "name": "python",
   "nbconvert_exporter": "python",
   "pygments_lexer": "ipython3",
   "version": "3.11.7"
  }
 },
 "nbformat": 4,
 "nbformat_minor": 5
}
