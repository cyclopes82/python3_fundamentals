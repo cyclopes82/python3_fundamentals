{
 "cells": [
  {
   "cell_type": "markdown",
   "id": "3b52e829-71e1-4a5a-8636-3592cf252b4a",
   "metadata": {},
   "source": [
    "## MAP"
   ]
  },
  {
   "cell_type": "code",
   "execution_count": 1,
   "id": "8f9dbaa5-f1f1-4e65-b584-006863b3c84c",
   "metadata": {},
   "outputs": [],
   "source": [
    "def my_map(func, *args):\n",
    "    return func(*args)"
   ]
  },
  {
   "cell_type": "code",
   "execution_count": 2,
   "id": "7fe982da-6630-4aa8-8540-bceeafb551f1",
   "metadata": {},
   "outputs": [
    {
     "data": {
      "text/plain": [
       "3"
      ]
     },
     "execution_count": 2,
     "metadata": {},
     "output_type": "execute_result"
    }
   ],
   "source": [
    "my_map(lambda x,y: x + y, 1,2)"
   ]
  },
  {
   "cell_type": "code",
   "execution_count": 3,
   "id": "e7ab1d11-6221-473c-8285-ef97b1420591",
   "metadata": {},
   "outputs": [],
   "source": [
    "data = ['a', 'ab', 'abc', 'abcd']"
   ]
  },
  {
   "cell_type": "code",
   "execution_count": 6,
   "id": "38a222e2-b7eb-4568-99b4-b86494c4abca",
   "metadata": {},
   "outputs": [],
   "source": [
    "lengths = [len(element) for element in data]"
   ]
  },
  {
   "cell_type": "code",
   "execution_count": 7,
   "id": "390744a8-d098-4899-bd8a-0e4409b48013",
   "metadata": {},
   "outputs": [
    {
     "data": {
      "text/plain": [
       "[1, 2, 3, 4]"
      ]
     },
     "execution_count": 7,
     "metadata": {},
     "output_type": "execute_result"
    }
   ],
   "source": [
    "lengths"
   ]
  },
  {
   "cell_type": "code",
   "execution_count": 9,
   "id": "3a9a7edc-b921-41b7-a61e-9718aa61e760",
   "metadata": {},
   "outputs": [],
   "source": [
    "lengths = (len(element) for element in data)"
   ]
  },
  {
   "cell_type": "code",
   "execution_count": 10,
   "id": "f3529467-ee69-4a38-badf-6df66fcb1f73",
   "metadata": {},
   "outputs": [
    {
     "data": {
      "text/plain": [
       "True"
      ]
     },
     "execution_count": 10,
     "metadata": {},
     "output_type": "execute_result"
    }
   ],
   "source": [
    "3 in lengths"
   ]
  },
  {
   "cell_type": "code",
   "execution_count": 11,
   "id": "ae85bcbe-95b6-44fc-8c7a-48df1900c9ff",
   "metadata": {},
   "outputs": [],
   "source": [
    "def my_len(x):\n",
    "    return len(x)"
   ]
  },
  {
   "cell_type": "code",
   "execution_count": 12,
   "id": "94d488ad-f7dc-491b-883c-6bca1b69877d",
   "metadata": {},
   "outputs": [],
   "source": [
    "lengths = map(len, data)"
   ]
  },
  {
   "cell_type": "code",
   "execution_count": 15,
   "id": "b919b543-4c84-4ea0-8229-51d4f5773133",
   "metadata": {},
   "outputs": [
    {
     "data": {
      "text/plain": [
       "<map at 0x2730c239390>"
      ]
     },
     "execution_count": 15,
     "metadata": {},
     "output_type": "execute_result"
    }
   ],
   "source": [
    "lengths #Generator i.e. Iterator"
   ]
  },
  {
   "cell_type": "code",
   "execution_count": 14,
   "id": "ffb70fc9-4d37-4441-96c6-ec0ff0836589",
   "metadata": {},
   "outputs": [
    {
     "data": {
      "text/plain": [
       "[1, 2, 3, 4]"
      ]
     },
     "execution_count": 14,
     "metadata": {},
     "output_type": "execute_result"
    }
   ],
   "source": [
    "list(lengths)"
   ]
  },
  {
   "cell_type": "code",
   "execution_count": null,
   "id": "1ad8c987-2045-441e-bffe-7b754006efc2",
   "metadata": {},
   "outputs": [],
   "source": []
  }
 ],
 "metadata": {
  "kernelspec": {
   "display_name": "Python 3 (ipykernel)",
   "language": "python",
   "name": "python3"
  },
  "language_info": {
   "codemirror_mode": {
    "name": "ipython",
    "version": 3
   },
   "file_extension": ".py",
   "mimetype": "text/x-python",
   "name": "python",
   "nbconvert_exporter": "python",
   "pygments_lexer": "ipython3",
   "version": "3.11.7"
  }
 },
 "nbformat": 4,
 "nbformat_minor": 5
}
