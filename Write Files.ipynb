{
 "cells": [
  {
   "cell_type": "code",
   "execution_count": 1,
   "id": "e3adf43d-dea3-4c15-b2ad-1800e1f5a9a2",
   "metadata": {},
   "outputs": [],
   "source": [
    "# Write Files"
   ]
  },
  {
   "cell_type": "code",
   "execution_count": 2,
   "id": "a2a26d00-c046-44c0-821c-85836325c9a8",
   "metadata": {},
   "outputs": [],
   "source": [
    "f = open('test.csv', 'w')"
   ]
  },
  {
   "cell_type": "code",
   "execution_count": 3,
   "id": "a2bd098c-b73b-48ea-b7be-1c9b8b213838",
   "metadata": {},
   "outputs": [
    {
     "data": {
      "text/plain": [
       "3"
      ]
     },
     "execution_count": 3,
     "metadata": {},
     "output_type": "execute_result"
    }
   ],
   "source": [
    "f.write('abc')"
   ]
  },
  {
   "cell_type": "code",
   "execution_count": 4,
   "id": "0f445361-656b-47e5-a247-a9131877c9f9",
   "metadata": {},
   "outputs": [
    {
     "data": {
      "text/plain": [
       "7"
      ]
     },
     "execution_count": 4,
     "metadata": {},
     "output_type": "execute_result"
    }
   ],
   "source": [
    "f.write('1234567')"
   ]
  },
  {
   "cell_type": "code",
   "execution_count": 5,
   "id": "0e2bc2b9-4555-4607-967d-d0c3656e7862",
   "metadata": {},
   "outputs": [],
   "source": [
    "f.close()"
   ]
  },
  {
   "cell_type": "code",
   "execution_count": 6,
   "id": "72100085-e086-43ba-b5fc-8fd13565b09a",
   "metadata": {},
   "outputs": [
    {
     "name": "stdout",
     "output_type": "stream",
     "text": [
      "['abc1234567']\n"
     ]
    }
   ],
   "source": [
    "with open('test.csv') as f:\n",
    "    print(f.readlines())"
   ]
  },
  {
   "cell_type": "code",
   "execution_count": 7,
   "id": "a5ce155a-7c64-4b43-a58a-aee72747c0e7",
   "metadata": {},
   "outputs": [],
   "source": [
    "with open('test.csv', 'w') as f:\n",
    "    f.write('abc\\n')\n",
    "    f.write('12345\\n')"
   ]
  },
  {
   "cell_type": "code",
   "execution_count": 10,
   "id": "f30ff85c-f67b-488f-8904-bc681a3b0b25",
   "metadata": {},
   "outputs": [
    {
     "name": "stdout",
     "output_type": "stream",
     "text": [
      "['abc\\n', '12345\\n']\n"
     ]
    }
   ],
   "source": [
    "with open('test.csv') as f:\n",
    "    print(f.readlines())"
   ]
  },
  {
   "cell_type": "code",
   "execution_count": 11,
   "id": "79cfc176-9d2c-4a0b-bafa-558f47a703b3",
   "metadata": {},
   "outputs": [],
   "source": [
    "data = ['line1', 'line2', 'line3']"
   ]
  },
  {
   "cell_type": "code",
   "execution_count": 12,
   "id": "5515da0b-0561-41e9-8258-4d3fde4a9ad9",
   "metadata": {},
   "outputs": [],
   "source": [
    "with open('test.csv', 'w') as f:\n",
    "    f.writelines(data)"
   ]
  },
  {
   "cell_type": "code",
   "execution_count": 13,
   "id": "ca81ef46-8a00-4b34-9141-cb57fab301ae",
   "metadata": {},
   "outputs": [
    {
     "name": "stdout",
     "output_type": "stream",
     "text": [
      "['line1line2line3']\n"
     ]
    }
   ],
   "source": [
    "with open('test.csv', 'r') as f:\n",
    "    print(f.readlines())"
   ]
  },
  {
   "cell_type": "code",
   "execution_count": 14,
   "id": "e30152ff-1ed6-4671-8819-2ede184ca881",
   "metadata": {},
   "outputs": [],
   "source": [
    "data = ['line1\\n', 'line2\\n', 'line3\\n']"
   ]
  },
  {
   "cell_type": "code",
   "execution_count": 15,
   "id": "74a594f6-2c78-4338-920f-d6eae6ec91b0",
   "metadata": {},
   "outputs": [],
   "source": [
    "with open('test.csv', 'w') as f:\n",
    "    f.writelines(data)"
   ]
  },
  {
   "cell_type": "code",
   "execution_count": 16,
   "id": "c48cb539-3938-4207-af73-2ac060415cc0",
   "metadata": {},
   "outputs": [
    {
     "name": "stdout",
     "output_type": "stream",
     "text": [
      "['line1\\n', 'line2\\n', 'line3\\n']\n"
     ]
    }
   ],
   "source": [
    "with open('test.csv', 'r') as f:\n",
    "    print(f.readlines())"
   ]
  },
  {
   "cell_type": "code",
   "execution_count": 17,
   "id": "422d5355-f4b3-4887-b98e-ca727f574e8e",
   "metadata": {},
   "outputs": [],
   "source": [
    "data = ['line1', 'line2', 'line3']"
   ]
  },
  {
   "cell_type": "code",
   "execution_count": 18,
   "id": "a4de57da-c3fa-41c9-becc-8faaed15f204",
   "metadata": {},
   "outputs": [],
   "source": [
    "with open('test.csv', 'w') as f:\n",
    "    f.write('\\n'.join(data))"
   ]
  },
  {
   "cell_type": "code",
   "execution_count": 19,
   "id": "3ab57d16-7878-4b82-b4a3-3005c03e5a31",
   "metadata": {},
   "outputs": [
    {
     "name": "stdout",
     "output_type": "stream",
     "text": [
      "['line1\\n', 'line2\\n', 'line3']\n"
     ]
    }
   ],
   "source": [
    "with open('test.csv', 'r') as f:\n",
    "    print(f.readlines())"
   ]
  },
  {
   "cell_type": "code",
   "execution_count": 20,
   "id": "d705cc20-f8fa-49cd-bd23-759626e81fe7",
   "metadata": {},
   "outputs": [
    {
     "ename": "ValueError",
     "evalue": "bogus",
     "output_type": "error",
     "traceback": [
      "\u001b[1;31m---------------------------------------------------------------------------\u001b[0m",
      "\u001b[1;31mValueError\u001b[0m                                Traceback (most recent call last)",
      "Cell \u001b[1;32mIn[20], line 2\u001b[0m\n\u001b[0;32m      1\u001b[0m \u001b[38;5;28;01mwith\u001b[39;00m \u001b[38;5;28mopen\u001b[39m(\u001b[38;5;124m'\u001b[39m\u001b[38;5;124mtest.csv\u001b[39m\u001b[38;5;124m'\u001b[39m, \u001b[38;5;124m'\u001b[39m\u001b[38;5;124mr\u001b[39m\u001b[38;5;124m'\u001b[39m) \u001b[38;5;28;01mas\u001b[39;00m file:\n\u001b[1;32m----> 2\u001b[0m     \u001b[38;5;28;01mraise\u001b[39;00m \u001b[38;5;167;01mValueError\u001b[39;00m(\u001b[38;5;124m'\u001b[39m\u001b[38;5;124mbogus\u001b[39m\u001b[38;5;124m'\u001b[39m)\n",
      "\u001b[1;31mValueError\u001b[0m: bogus"
     ]
    }
   ],
   "source": [
    "with open('test.csv', 'r') as file:\n",
    "    raise ValueError('bogus')"
   ]
  },
  {
   "cell_type": "code",
   "execution_count": 21,
   "id": "63c827f2-c90b-4a55-a3d3-d7b2080377d3",
   "metadata": {},
   "outputs": [
    {
     "data": {
      "text/plain": [
       "<_io.TextIOWrapper name='test.csv' mode='r' encoding='cp1252'>"
      ]
     },
     "execution_count": 21,
     "metadata": {},
     "output_type": "execute_result"
    }
   ],
   "source": [
    "file"
   ]
  },
  {
   "cell_type": "code",
   "execution_count": 22,
   "id": "fdc7619f-6469-4d72-abab-740243569668",
   "metadata": {},
   "outputs": [
    {
     "data": {
      "text/plain": [
       "True"
      ]
     },
     "execution_count": 22,
     "metadata": {},
     "output_type": "execute_result"
    }
   ],
   "source": [
    "file.closed"
   ]
  },
  {
   "cell_type": "code",
   "execution_count": 24,
   "id": "c7938d76-e56d-467b-8c65-8d1f848d4aba",
   "metadata": {},
   "outputs": [
    {
     "name": "stdout",
     "output_type": "stream",
     "text": [
      "line1\n",
      "line2\n",
      "line3"
     ]
    }
   ],
   "source": [
    "with open('test.csv', 'r') as f:\n",
    "    for line in f:\n",
    "        print(line, end='')"
   ]
  },
  {
   "cell_type": "code",
   "execution_count": 25,
   "id": "f2e9ab0f-76f1-4879-b0d7-55cd8aa5f674",
   "metadata": {},
   "outputs": [],
   "source": [
    "with open('test.csv', 'a') as f:\n",
    "    f.write('line4\\n')\n",
    "    f.write('line5\\n')"
   ]
  },
  {
   "cell_type": "code",
   "execution_count": 26,
   "id": "c154ea8f-133a-4179-8c07-2699630113e4",
   "metadata": {},
   "outputs": [
    {
     "name": "stdout",
     "output_type": "stream",
     "text": [
      "line1\n",
      "line2\n",
      "line3line4\n",
      "line5\n"
     ]
    }
   ],
   "source": [
    "with open('test.csv', 'r') as f:\n",
    "    for line in f:\n",
    "        print(line, end='')"
   ]
  },
  {
   "cell_type": "code",
   "execution_count": 27,
   "id": "d1e68b86-4d53-4189-bb87-79b574416ce1",
   "metadata": {},
   "outputs": [],
   "source": [
    "with open('does_not_exist.txt', 'a') as f:\n",
    "    f.write('Line 1')"
   ]
  },
  {
   "cell_type": "code",
   "execution_count": 28,
   "id": "0c881a6a-729f-4eef-a0ab-027e5e0b3c35",
   "metadata": {},
   "outputs": [
    {
     "name": "stdout",
     "output_type": "stream",
     "text": [
      "['Line 1']\n"
     ]
    }
   ],
   "source": [
    "with open('does_not_exist.txt', 'r') as f:\n",
    "    print(f.readlines())"
   ]
  },
  {
   "cell_type": "code",
   "execution_count": 34,
   "id": "b6d2edb4-aded-423c-964b-2deb8278e90c",
   "metadata": {},
   "outputs": [],
   "source": [
    "source_file = 'DEXUSEU.csv'"
   ]
  },
  {
   "cell_type": "code",
   "execution_count": 35,
   "id": "c8888605-16a4-49c2-92c9-2f557a7ec460",
   "metadata": {},
   "outputs": [
    {
     "ename": "FileNotFoundError",
     "evalue": "[Errno 2] No such file or directory: 'DEXUSEU.csv'",
     "output_type": "error",
     "traceback": [
      "\u001b[1;31m---------------------------------------------------------------------------\u001b[0m",
      "\u001b[1;31mFileNotFoundError\u001b[0m                         Traceback (most recent call last)",
      "Cell \u001b[1;32mIn[35], line 1\u001b[0m\n\u001b[1;32m----> 1\u001b[0m \u001b[38;5;28;01mwith\u001b[39;00m \u001b[38;5;28;43mopen\u001b[39;49m\u001b[43m(\u001b[49m\u001b[43msource_file\u001b[49m\u001b[43m)\u001b[49m \u001b[38;5;28;01mas\u001b[39;00m f:\n\u001b[0;32m      2\u001b[0m     \u001b[38;5;28;01mfor\u001b[39;00m _ \u001b[38;5;129;01min\u001b[39;00m \u001b[38;5;28mrange\u001b[39m(\u001b[38;5;241m5\u001b[39m):\n\u001b[0;32m      3\u001b[0m         \u001b[38;5;28mprint\u001b[39m(\u001b[38;5;28mnext\u001b[39m(f)\u001b[38;5;241m.\u001b[39mstrip())\n",
      "File \u001b[1;32mD:\\Learning\\Current\\python3_fundamentals\\py311\\Lib\\site-packages\\IPython\\core\\interactiveshell.py:310\u001b[0m, in \u001b[0;36m_modified_open\u001b[1;34m(file, *args, **kwargs)\u001b[0m\n\u001b[0;32m    303\u001b[0m \u001b[38;5;28;01mif\u001b[39;00m file \u001b[38;5;129;01min\u001b[39;00m {\u001b[38;5;241m0\u001b[39m, \u001b[38;5;241m1\u001b[39m, \u001b[38;5;241m2\u001b[39m}:\n\u001b[0;32m    304\u001b[0m     \u001b[38;5;28;01mraise\u001b[39;00m \u001b[38;5;167;01mValueError\u001b[39;00m(\n\u001b[0;32m    305\u001b[0m         \u001b[38;5;124mf\u001b[39m\u001b[38;5;124m\"\u001b[39m\u001b[38;5;124mIPython won\u001b[39m\u001b[38;5;124m'\u001b[39m\u001b[38;5;124mt let you open fd=\u001b[39m\u001b[38;5;132;01m{\u001b[39;00mfile\u001b[38;5;132;01m}\u001b[39;00m\u001b[38;5;124m by default \u001b[39m\u001b[38;5;124m\"\u001b[39m\n\u001b[0;32m    306\u001b[0m         \u001b[38;5;124m\"\u001b[39m\u001b[38;5;124mas it is likely to crash IPython. If you know what you are doing, \u001b[39m\u001b[38;5;124m\"\u001b[39m\n\u001b[0;32m    307\u001b[0m         \u001b[38;5;124m\"\u001b[39m\u001b[38;5;124myou can use builtins\u001b[39m\u001b[38;5;124m'\u001b[39m\u001b[38;5;124m open.\u001b[39m\u001b[38;5;124m\"\u001b[39m\n\u001b[0;32m    308\u001b[0m     )\n\u001b[1;32m--> 310\u001b[0m \u001b[38;5;28;01mreturn\u001b[39;00m \u001b[43mio_open\u001b[49m\u001b[43m(\u001b[49m\u001b[43mfile\u001b[49m\u001b[43m,\u001b[49m\u001b[43m \u001b[49m\u001b[38;5;241;43m*\u001b[39;49m\u001b[43margs\u001b[49m\u001b[43m,\u001b[49m\u001b[43m \u001b[49m\u001b[38;5;241;43m*\u001b[39;49m\u001b[38;5;241;43m*\u001b[39;49m\u001b[43mkwargs\u001b[49m\u001b[43m)\u001b[49m\n",
      "\u001b[1;31mFileNotFoundError\u001b[0m: [Errno 2] No such file or directory: 'DEXUSEU.csv'"
     ]
    }
   ],
   "source": [
    "with open(source_file) as f:\n",
    "    for _ in range(5):\n",
    "        print(next(f).strip())\n",
    "    "
   ]
  },
  {
   "cell_type": "code",
   "execution_count": null,
   "id": "ac4d06f0-082b-4ac2-868a-38ace45aa1da",
   "metadata": {},
   "outputs": [],
   "source": []
  }
 ],
 "metadata": {
  "kernelspec": {
   "display_name": "Python 3 (ipykernel)",
   "language": "python",
   "name": "python3"
  },
  "language_info": {
   "codemirror_mode": {
    "name": "ipython",
    "version": 3
   },
   "file_extension": ".py",
   "mimetype": "text/x-python",
   "name": "python",
   "nbconvert_exporter": "python",
   "pygments_lexer": "ipython3",
   "version": "3.11.7"
  }
 },
 "nbformat": 4,
 "nbformat_minor": 5
}
