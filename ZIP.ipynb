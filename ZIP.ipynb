{
 "cells": [
  {
   "cell_type": "code",
   "execution_count": null,
   "id": "4184f337-e414-4e40-b76b-aea498c4b048",
   "metadata": {},
   "outputs": [],
   "source": [
    "## ZIP"
   ]
  },
  {
   "cell_type": "code",
   "execution_count": null,
   "id": "9f10a673-4952-4a60-9562-7506f024e9e0",
   "metadata": {},
   "outputs": [],
   "source": [
    "l = [1, 2, 3, 4, 5]\n",
    "t = (10,20, 30)"
   ]
  },
  {
   "cell_type": "code",
   "execution_count": null,
   "id": "d2ac29b2-6a6d-4a57-a98e-e0114025de7c",
   "metadata": {},
   "outputs": [],
   "source": [
    "result = zip(l, t)"
   ]
  },
  {
   "cell_type": "code",
   "execution_count": null,
   "id": "e28bc273-597e-48f5-bb39-7e452e84ec8c",
   "metadata": {},
   "outputs": [],
   "source": [
    "result"
   ]
  },
  {
   "cell_type": "code",
   "execution_count": null,
   "id": "661a8773-b484-4baa-82dd-327f62b90d05",
   "metadata": {},
   "outputs": [],
   "source": [
    "next(result)"
   ]
  },
  {
   "cell_type": "code",
   "execution_count": null,
   "id": "abf523c4-d390-4a19-9c2f-6f609f5f142e",
   "metadata": {},
   "outputs": [],
   "source": [
    "next(result)"
   ]
  },
  {
   "cell_type": "code",
   "execution_count": null,
   "id": "913c02b3-ce99-46f7-94a0-8fca5be8f716",
   "metadata": {},
   "outputs": [],
   "source": [
    "next(result)"
   ]
  },
  {
   "cell_type": "code",
   "execution_count": null,
   "id": "13c13a85-72b2-41ae-ae2d-6eccd7a24e55",
   "metadata": {},
   "outputs": [],
   "source": [
    "next(result)"
   ]
  },
  {
   "cell_type": "code",
   "execution_count": null,
   "id": "84c3459d-af54-49e5-bfa9-dfe4fc3315ce",
   "metadata": {},
   "outputs": [],
   "source": [
    "list(zip(l, t))"
   ]
  },
  {
   "cell_type": "code",
   "execution_count": null,
   "id": "e38287bc-463b-4a24-9117-3fb150efca0b",
   "metadata": {},
   "outputs": [],
   "source": [
    "combo = list(zip(l, t))"
   ]
  },
  {
   "cell_type": "code",
   "execution_count": null,
   "id": "9de51201-d214-4500-86ac-bd438e13d8f8",
   "metadata": {},
   "outputs": [],
   "source": [
    "combo"
   ]
  },
  {
   "cell_type": "code",
   "execution_count": null,
   "id": "52860fee-7adb-4501-abc0-792f3146008b",
   "metadata": {},
   "outputs": [],
   "source": [
    "from time import perf_counter"
   ]
  },
  {
   "cell_type": "code",
   "execution_count": null,
   "id": "5f73bf06-dc60-4753-b777-d166082913c9",
   "metadata": {},
   "outputs": [],
   "source": [
    "start = perf_counter()\n",
    "l1 = range(100_000_000_000)\n",
    "l2 = range(100_000_000_000)\n",
    "combo = zip(l1, l2)\n",
    "end = perf_counter()\n",
    "print(f'elapsed: {end -start}')"
   ]
  },
  {
   "cell_type": "code",
   "execution_count": null,
   "id": "994da836-7994-4a85-94f2-acea3598d305",
   "metadata": {},
   "outputs": [],
   "source": [
    "start = perf_counter()\n",
    "l1 = range(10_000_000)\n",
    "l2 = range(10_000_000)\n",
    "combo = list(zip(l1, l2))\n",
    "end = perf_counter()\n",
    "print(f'elapsed: {end -start}')"
   ]
  },
  {
   "cell_type": "code",
   "execution_count": null,
   "id": "63105926-c654-4423-8958-d3cba4880b7b",
   "metadata": {},
   "outputs": [],
   "source": [
    "d = dict([('a', 1), ('b', 2), ('c',3)])"
   ]
  },
  {
   "cell_type": "code",
   "execution_count": null,
   "id": "a66f1b1f-6bf2-446d-b733-016309218c29",
   "metadata": {},
   "outputs": [],
   "source": [
    "d"
   ]
  },
  {
   "cell_type": "code",
   "execution_count": null,
   "id": "e7d37f7a-bcc8-4d46-878b-8a275309713a",
   "metadata": {},
   "outputs": [],
   "source": []
  }
 ],
 "metadata": {
  "kernelspec": {
   "display_name": "Python 3 (ipykernel)",
   "language": "python",
   "name": "python3"
  },
  "language_info": {
   "codemirror_mode": {
    "name": "ipython",
    "version": 3
   },
   "file_extension": ".py",
   "mimetype": "text/x-python",
   "name": "python",
   "nbconvert_exporter": "python",
   "pygments_lexer": "ipython3",
   "version": "3.11.7"
  }
 },
 "nbformat": 4,
 "nbformat_minor": 5
}
