{
 "cells": [
  {
   "cell_type": "markdown",
   "id": "8da2b804-6f11-412c-ac6b-6b17a7e2359c",
   "metadata": {},
   "source": [
    "Basics Data Type"
   ]
  },
  {
   "cell_type": "code",
   "execution_count": 1,
   "id": "94953ce9-ff0e-433f-97c0-f31af06b737a",
   "metadata": {},
   "outputs": [
    {
     "data": {
      "text/plain": [
       "1"
      ]
     },
     "execution_count": 1,
     "metadata": {},
     "output_type": "execute_result"
    }
   ],
   "source": [
    "1"
   ]
  },
  {
   "cell_type": "code",
   "execution_count": 2,
   "id": "93ea6f62-aff3-43a9-bb0a-0c4492e4dce1",
   "metadata": {},
   "outputs": [
    {
     "data": {
      "text/plain": [
       "-10"
      ]
     },
     "execution_count": 2,
     "metadata": {},
     "output_type": "execute_result"
    }
   ],
   "source": [
    "-10"
   ]
  },
  {
   "cell_type": "code",
   "execution_count": 3,
   "id": "1bc9e176-890c-4c7b-a189-fc838d90c58a",
   "metadata": {},
   "outputs": [
    {
     "data": {
      "text/plain": [
       "True"
      ]
     },
     "execution_count": 3,
     "metadata": {},
     "output_type": "execute_result"
    }
   ],
   "source": [
    "True"
   ]
  },
  {
   "cell_type": "code",
   "execution_count": 4,
   "id": "f70dcf94-4899-489e-bbe6-cfde104303ee",
   "metadata": {},
   "outputs": [
    {
     "data": {
      "text/plain": [
       "0.1"
      ]
     },
     "execution_count": 4,
     "metadata": {},
     "output_type": "execute_result"
    }
   ],
   "source": [
    "0.1"
   ]
  },
  {
   "cell_type": "code",
   "execution_count": 5,
   "id": "1da930c8-216f-4469-b110-62a78c5fcc1e",
   "metadata": {},
   "outputs": [
    {
     "data": {
      "text/plain": [
       "'0.1000000000000000055511151'"
      ]
     },
     "execution_count": 5,
     "metadata": {},
     "output_type": "execute_result"
    }
   ],
   "source": [
    "format(0.1, '.25f')"
   ]
  },
  {
   "cell_type": "code",
   "execution_count": 6,
   "id": "66a3b217-c70c-4826-b2a2-8ceb573e8c2b",
   "metadata": {},
   "outputs": [
    {
     "data": {
      "text/plain": [
       "'0.1250000000000000000000000'"
      ]
     },
     "execution_count": 6,
     "metadata": {},
     "output_type": "execute_result"
    }
   ],
   "source": [
    "format(0.125, '.25f')"
   ]
  },
  {
   "cell_type": "code",
   "execution_count": 8,
   "id": "66454f5b-4c62-47ea-b874-eb1565d0ba9d",
   "metadata": {},
   "outputs": [
    {
     "data": {
      "text/plain": [
       "True"
      ]
     },
     "execution_count": 8,
     "metadata": {},
     "output_type": "execute_result"
    }
   ],
   "source": [
    "1 + 1 + 1 == 3\n"
   ]
  },
  {
   "cell_type": "code",
   "execution_count": 9,
   "id": "df425aba-4e8e-427c-a5fc-55c9c7d8736b",
   "metadata": {},
   "outputs": [
    {
     "data": {
      "text/plain": [
       "True"
      ]
     },
     "execution_count": 9,
     "metadata": {},
     "output_type": "execute_result"
    }
   ],
   "source": [
    "0.125 + 0.125 + 0.125 == 0.375"
   ]
  },
  {
   "cell_type": "code",
   "execution_count": 10,
   "id": "3780e228-4b74-47ee-8862-e8f64f712d7d",
   "metadata": {},
   "outputs": [
    {
     "data": {
      "text/plain": [
       "False"
      ]
     },
     "execution_count": 10,
     "metadata": {},
     "output_type": "execute_result"
    }
   ],
   "source": [
    "0.1 + 0.1 + 0.1 == 0.3"
   ]
  },
  {
   "cell_type": "code",
   "execution_count": 12,
   "id": "5bf9b861-ff97-4513-b083-e0beea77b216",
   "metadata": {},
   "outputs": [
    {
     "data": {
      "text/plain": [
       "'0.3000000000000000444089210'"
      ]
     },
     "execution_count": 12,
     "metadata": {},
     "output_type": "execute_result"
    }
   ],
   "source": [
    "format(0.1 + 0.1 + 0.1, '.25f')"
   ]
  },
  {
   "cell_type": "code",
   "execution_count": 13,
   "id": "6002312a-6cdd-4f52-9c76-cebfa90243af",
   "metadata": {},
   "outputs": [
    {
     "data": {
      "text/plain": [
       "'0.2999999999999999888977698'"
      ]
     },
     "execution_count": 13,
     "metadata": {},
     "output_type": "execute_result"
    }
   ],
   "source": [
    "format(0.3, '.25f')"
   ]
  },
  {
   "cell_type": "code",
   "execution_count": 14,
   "id": "f24d7a3d-3a61-474f-a558-29ff926c0ac0",
   "metadata": {},
   "outputs": [
    {
     "data": {
      "text/plain": [
       "True"
      ]
     },
     "execution_count": 14,
     "metadata": {},
     "output_type": "execute_result"
    }
   ],
   "source": [
    "abs((0.1 + 0.1 + 0.1) - 0.3) <0.001"
   ]
  },
  {
   "cell_type": "code",
   "execution_count": 15,
   "id": "c1d24756-29ec-4c21-a5f2-61c85ee20838",
   "metadata": {},
   "outputs": [
    {
     "data": {
      "text/plain": [
       "(3602879701896397, 36028797018963968)"
      ]
     },
     "execution_count": 15,
     "metadata": {},
     "output_type": "execute_result"
    }
   ],
   "source": [
    "(0.1).as_integer_ratio()"
   ]
  }
 ],
 "metadata": {
  "kernelspec": {
   "display_name": "Python 3 (ipykernel)",
   "language": "python",
   "name": "python3"
  },
  "language_info": {
   "codemirror_mode": {
    "name": "ipython",
    "version": 3
   },
   "file_extension": ".py",
   "mimetype": "text/x-python",
   "name": "python",
   "nbconvert_exporter": "python",
   "pygments_lexer": "ipython3",
   "version": "3.11.7"
  }
 },
 "nbformat": 4,
 "nbformat_minor": 5
}
