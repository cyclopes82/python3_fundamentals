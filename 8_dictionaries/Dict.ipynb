{
 "cells": [
  {
   "cell_type": "markdown",
   "id": "1983c833-9e63-47a2-99bc-3adda7524825",
   "metadata": {},
   "source": [
    "## Associative Arrays and Dictioanaries"
   ]
  },
  {
   "cell_type": "code",
   "execution_count": 1,
   "id": "bfb6ac52-9309-4252-a486-7f2b9c77f744",
   "metadata": {},
   "outputs": [],
   "source": [
    "d = {'a': 1, 'b': 2, 'c': 3}"
   ]
  },
  {
   "cell_type": "code",
   "execution_count": 2,
   "id": "8ab6ca3a-2e56-4045-ba7e-66b2a6a5bb89",
   "metadata": {},
   "outputs": [
    {
     "data": {
      "text/plain": [
       "{'a': 1, 'b': 2, 'c': 3}"
      ]
     },
     "execution_count": 2,
     "metadata": {},
     "output_type": "execute_result"
    }
   ],
   "source": [
    "d"
   ]
  },
  {
   "cell_type": "code",
   "execution_count": 3,
   "id": "daf47de8-fd52-46dd-a7e4-3cadba64ebf0",
   "metadata": {},
   "outputs": [],
   "source": [
    "person ={\n",
    "     'first_name': 'Pratik',\n",
    "     'last_name': 'Patil',\n",
    "      'year_born': 2016,\n",
    "}"
   ]
  },
  {
   "cell_type": "code",
   "execution_count": 4,
   "id": "4ca7ef5d-405e-4808-a566-accc4fa60dbb",
   "metadata": {},
   "outputs": [
    {
     "data": {
      "text/plain": [
       "2016"
      ]
     },
     "execution_count": 4,
     "metadata": {},
     "output_type": "execute_result"
    }
   ],
   "source": [
    "person['year_born']"
   ]
  },
  {
   "cell_type": "code",
   "execution_count": 5,
   "id": "288f6eb0-23c7-476f-907c-5b1c18caf00b",
   "metadata": {},
   "outputs": [],
   "source": [
    "person['year_born'] = 1990"
   ]
  },
  {
   "cell_type": "code",
   "execution_count": 6,
   "id": "8fcf276d-6f3e-4f28-b0b9-630c2a4bc713",
   "metadata": {},
   "outputs": [
    {
     "data": {
      "text/plain": [
       "{'first_name': 'Pratik', 'last_name': 'Patil', 'year_born': 1990}"
      ]
     },
     "execution_count": 6,
     "metadata": {},
     "output_type": "execute_result"
    }
   ],
   "source": [
    "person"
   ]
  },
  {
   "cell_type": "code",
   "execution_count": 7,
   "id": "f543f587-22c6-41ee-8a9e-1b0466ef702d",
   "metadata": {},
   "outputs": [],
   "source": [
    "person['month_born'] = 'June'"
   ]
  },
  {
   "cell_type": "code",
   "execution_count": 8,
   "id": "1159e9b5-7eed-418e-81e3-3ef6b9df9cfb",
   "metadata": {},
   "outputs": [
    {
     "data": {
      "text/plain": [
       "{'first_name': 'Pratik',\n",
       " 'last_name': 'Patil',\n",
       " 'year_born': 1990,\n",
       " 'month_born': 'June'}"
      ]
     },
     "execution_count": 8,
     "metadata": {},
     "output_type": "execute_result"
    }
   ],
   "source": [
    "person"
   ]
  },
  {
   "cell_type": "code",
   "execution_count": 9,
   "id": "d88ebb07-1ccf-4eaf-9da3-9ab0f0de7240",
   "metadata": {},
   "outputs": [],
   "source": [
    "l = [1, 2, 3]"
   ]
  },
  {
   "cell_type": "code",
   "execution_count": 10,
   "id": "6c995e0c-e1d4-44f0-9cd0-c86cd0aeb14c",
   "metadata": {},
   "outputs": [
    {
     "ename": "TypeError",
     "evalue": "unhashable type: 'list'",
     "output_type": "error",
     "traceback": [
      "\u001b[1;31m---------------------------------------------------------------------------\u001b[0m",
      "\u001b[1;31mTypeError\u001b[0m                                 Traceback (most recent call last)",
      "Cell \u001b[1;32mIn[10], line 1\u001b[0m\n\u001b[1;32m----> 1\u001b[0m d \u001b[38;5;241m=\u001b[39m {l : \u001b[38;5;241m100\u001b[39m}\n",
      "\u001b[1;31mTypeError\u001b[0m: unhashable type: 'list'"
     ]
    }
   ],
   "source": [
    "d = {l : 100}"
   ]
  },
  {
   "cell_type": "code",
   "execution_count": 11,
   "id": "55617657-5383-4337-8b34-7bf9756a5a62",
   "metadata": {},
   "outputs": [
    {
     "data": {
      "text/plain": [
       "100"
      ]
     },
     "execution_count": 11,
     "metadata": {},
     "output_type": "execute_result"
    }
   ],
   "source": [
    "hash(100)"
   ]
  },
  {
   "cell_type": "code",
   "execution_count": 12,
   "id": "61d1816c-5ab7-4d71-b523-1392167e2382",
   "metadata": {},
   "outputs": [
    {
     "data": {
      "text/plain": [
       "322818021289917443"
      ]
     },
     "execution_count": 12,
     "metadata": {},
     "output_type": "execute_result"
    }
   ],
   "source": [
    "hash(3.14)"
   ]
  },
  {
   "cell_type": "code",
   "execution_count": 14,
   "id": "ff049f4b-9b48-4a56-a2a0-bc06eaf40be1",
   "metadata": {},
   "outputs": [
    {
     "data": {
      "text/plain": [
       "-3550055125485641917"
      ]
     },
     "execution_count": 14,
     "metadata": {},
     "output_type": "execute_result"
    }
   ],
   "source": [
    "hash((1, 2))"
   ]
  },
  {
   "cell_type": "code",
   "execution_count": 16,
   "id": "a163f0fa-698c-4e4f-9034-0056fb9390b2",
   "metadata": {},
   "outputs": [
    {
     "ename": "TypeError",
     "evalue": "unhashable type: 'list'",
     "output_type": "error",
     "traceback": [
      "\u001b[1;31m---------------------------------------------------------------------------\u001b[0m",
      "\u001b[1;31mTypeError\u001b[0m                                 Traceback (most recent call last)",
      "Cell \u001b[1;32mIn[16], line 1\u001b[0m\n\u001b[1;32m----> 1\u001b[0m \u001b[38;5;28;43mhash\u001b[39;49m\u001b[43m(\u001b[49m\u001b[43m(\u001b[49m\u001b[43m[\u001b[49m\u001b[38;5;241;43m1\u001b[39;49m\u001b[43m,\u001b[49m\u001b[38;5;241;43m2\u001b[39;49m\u001b[43m]\u001b[49m\u001b[43m,\u001b[49m\u001b[43m \u001b[49m\u001b[38;5;241;43m3\u001b[39;49m\u001b[43m,\u001b[49m\u001b[43m \u001b[49m\u001b[38;5;241;43m4\u001b[39;49m\u001b[43m)\u001b[49m\u001b[43m)\u001b[49m\n",
      "\u001b[1;31mTypeError\u001b[0m: unhashable type: 'list'"
     ]
    }
   ],
   "source": [
    "hash(([1,2], 3, 4))"
   ]
  },
  {
   "cell_type": "code",
   "execution_count": 15,
   "id": "8bbe56ec-bd09-459b-85ee-0cc85d559f91",
   "metadata": {},
   "outputs": [
    {
     "ename": "TypeError",
     "evalue": "unhashable type: 'list'",
     "output_type": "error",
     "traceback": [
      "\u001b[1;31m---------------------------------------------------------------------------\u001b[0m",
      "\u001b[1;31mTypeError\u001b[0m                                 Traceback (most recent call last)",
      "Cell \u001b[1;32mIn[15], line 1\u001b[0m\n\u001b[1;32m----> 1\u001b[0m \u001b[38;5;28;43mhash\u001b[39;49m\u001b[43m(\u001b[49m\u001b[43ml\u001b[49m\u001b[43m)\u001b[49m\n",
      "\u001b[1;31mTypeError\u001b[0m: unhashable type: 'list'"
     ]
    }
   ],
   "source": [
    "hash(l)"
   ]
  },
  {
   "cell_type": "code",
   "execution_count": 17,
   "id": "9802a62f-3c36-4835-a798-fed6c902f3cf",
   "metadata": {},
   "outputs": [],
   "source": [
    "d = {'a': 1, 'b': 2, 'c': 3}"
   ]
  },
  {
   "cell_type": "code",
   "execution_count": 18,
   "id": "22c3c27e-d3ea-43e7-9ac0-ae79ac6ae0e6",
   "metadata": {},
   "outputs": [
    {
     "data": {
      "text/plain": [
       "1688212148032"
      ]
     },
     "execution_count": 18,
     "metadata": {},
     "output_type": "execute_result"
    }
   ],
   "source": [
    "id(d)"
   ]
  },
  {
   "cell_type": "code",
   "execution_count": 19,
   "id": "2911a9b6-cd5d-4b2c-8a29-1b5234131ce0",
   "metadata": {},
   "outputs": [],
   "source": [
    "del d['a']"
   ]
  },
  {
   "cell_type": "code",
   "execution_count": 20,
   "id": "4e9f2cf8-32a6-4ab0-90f7-ac744b58eae2",
   "metadata": {},
   "outputs": [
    {
     "data": {
      "text/plain": [
       "1688212148032"
      ]
     },
     "execution_count": 20,
     "metadata": {},
     "output_type": "execute_result"
    }
   ],
   "source": [
    "id(d)"
   ]
  },
  {
   "cell_type": "code",
   "execution_count": 21,
   "id": "571270b7-76a0-4eb8-bd62-f0b52ebdb48f",
   "metadata": {},
   "outputs": [
    {
     "data": {
      "text/plain": [
       "{'__name__': '__main__',\n",
       " '__doc__': 'Automatically created module for IPython interactive environment',\n",
       " '__package__': None,\n",
       " '__loader__': None,\n",
       " '__spec__': None,\n",
       " '__builtin__': <module 'builtins' (built-in)>,\n",
       " '__builtins__': <module 'builtins' (built-in)>,\n",
       " '_ih': ['',\n",
       "  \"d = {'a': 1, 'b': 2, 'c': 3}\",\n",
       "  'd',\n",
       "  \"person ={\\n     'first_name': 'Pratik',\\n     'last_name': 'Patil',\\n      'year_born': 2016,\\n}\",\n",
       "  \"person['year_born']\",\n",
       "  \"person['year_born'] = 1990\",\n",
       "  'person',\n",
       "  \"person['month_born'] = 'June'\",\n",
       "  'person',\n",
       "  'l = [1, 2, 3]',\n",
       "  'd = {l : 100}',\n",
       "  'hash(100)',\n",
       "  'hash(3.14)',\n",
       "  'has((1, 2))',\n",
       "  'hash((1, 2))',\n",
       "  'hash(l)',\n",
       "  'hash(([1,2], 3, 4))',\n",
       "  \"d = {'a': 1, 'b': 2, 'c': 3}\",\n",
       "  'id(d)',\n",
       "  \"del d['a']\",\n",
       "  'id(d)',\n",
       "  'globals()'],\n",
       " '_oh': {2: {'a': 1, 'b': 2, 'c': 3},\n",
       "  4: 2016,\n",
       "  6: {'first_name': 'Pratik',\n",
       "   'last_name': 'Patil',\n",
       "   'year_born': 1990,\n",
       "   'month_born': 'June'},\n",
       "  8: {'first_name': 'Pratik',\n",
       "   'last_name': 'Patil',\n",
       "   'year_born': 1990,\n",
       "   'month_born': 'June'},\n",
       "  11: 100,\n",
       "  12: 322818021289917443,\n",
       "  14: -3550055125485641917,\n",
       "  18: 1688212148032,\n",
       "  20: 1688212148032},\n",
       " '_dh': [WindowsPath('D:/Learning/Current/python3_fundamentals/8_dictionaries')],\n",
       " 'In': ['',\n",
       "  \"d = {'a': 1, 'b': 2, 'c': 3}\",\n",
       "  'd',\n",
       "  \"person ={\\n     'first_name': 'Pratik',\\n     'last_name': 'Patil',\\n      'year_born': 2016,\\n}\",\n",
       "  \"person['year_born']\",\n",
       "  \"person['year_born'] = 1990\",\n",
       "  'person',\n",
       "  \"person['month_born'] = 'June'\",\n",
       "  'person',\n",
       "  'l = [1, 2, 3]',\n",
       "  'd = {l : 100}',\n",
       "  'hash(100)',\n",
       "  'hash(3.14)',\n",
       "  'has((1, 2))',\n",
       "  'hash((1, 2))',\n",
       "  'hash(l)',\n",
       "  'hash(([1,2], 3, 4))',\n",
       "  \"d = {'a': 1, 'b': 2, 'c': 3}\",\n",
       "  'id(d)',\n",
       "  \"del d['a']\",\n",
       "  'id(d)',\n",
       "  'globals()'],\n",
       " 'Out': {2: {'a': 1, 'b': 2, 'c': 3},\n",
       "  4: 2016,\n",
       "  6: {'first_name': 'Pratik',\n",
       "   'last_name': 'Patil',\n",
       "   'year_born': 1990,\n",
       "   'month_born': 'June'},\n",
       "  8: {'first_name': 'Pratik',\n",
       "   'last_name': 'Patil',\n",
       "   'year_born': 1990,\n",
       "   'month_born': 'June'},\n",
       "  11: 100,\n",
       "  12: 322818021289917443,\n",
       "  14: -3550055125485641917,\n",
       "  18: 1688212148032,\n",
       "  20: 1688212148032},\n",
       " 'get_ipython': <bound method InteractiveShell.get_ipython of <ipykernel.zmqshell.ZMQInteractiveShell object at 0x0000018910E5FF50>>,\n",
       " 'exit': <IPython.core.autocall.ZMQExitAutocall at 0x18910e78950>,\n",
       " 'quit': <IPython.core.autocall.ZMQExitAutocall at 0x18910e78950>,\n",
       " 'open': <function io.open(file, mode='r', buffering=-1, encoding=None, errors=None, newline=None, closefd=True, opener=None)>,\n",
       " '_': 1688212148032,\n",
       " '__': 1688212148032,\n",
       " '___': -3550055125485641917,\n",
       " '__session__': 'D:\\\\Learning\\\\Current\\\\python3_fundamentals\\\\8_dictionaries\\\\Untitled.ipynb',\n",
       " '_i': 'id(d)',\n",
       " '_ii': \"del d['a']\",\n",
       " '_iii': 'id(d)',\n",
       " '_i1': \"d = {'a': 1, 'b': 2, 'c': 3}\",\n",
       " 'd': {'b': 2, 'c': 3},\n",
       " '_i2': 'd',\n",
       " '_2': {'a': 1, 'b': 2, 'c': 3},\n",
       " '_i3': \"person ={\\n     'first_name': 'Pratik',\\n     'last_name': 'Patil',\\n      'year_born': 2016,\\n}\",\n",
       " 'person': {'first_name': 'Pratik',\n",
       "  'last_name': 'Patil',\n",
       "  'year_born': 1990,\n",
       "  'month_born': 'June'},\n",
       " '_i4': \"person['year_born']\",\n",
       " '_4': 2016,\n",
       " '_i5': \"person['year_born'] = 1990\",\n",
       " '_i6': 'person',\n",
       " '_6': {'first_name': 'Pratik',\n",
       "  'last_name': 'Patil',\n",
       "  'year_born': 1990,\n",
       "  'month_born': 'June'},\n",
       " '_i7': \"person['month_born'] = 'June'\",\n",
       " '_i8': 'person',\n",
       " '_8': {'first_name': 'Pratik',\n",
       "  'last_name': 'Patil',\n",
       "  'year_born': 1990,\n",
       "  'month_born': 'June'},\n",
       " '_i9': 'l = [1, 2, 3]',\n",
       " 'l': [1, 2, 3],\n",
       " '_i10': 'd = {l : 100}',\n",
       " '_i11': 'hash(100)',\n",
       " '_11': 100,\n",
       " '_i12': 'hash(3.14)',\n",
       " '_12': 322818021289917443,\n",
       " '_i13': 'has((1, 2))',\n",
       " '_i14': 'hash((1, 2))',\n",
       " '_14': -3550055125485641917,\n",
       " '_i15': 'hash(l)',\n",
       " '_i16': 'hash(([1,2], 3, 4))',\n",
       " '_i17': \"d = {'a': 1, 'b': 2, 'c': 3}\",\n",
       " '_i18': 'id(d)',\n",
       " '_18': 1688212148032,\n",
       " '_i19': \"del d['a']\",\n",
       " '_i20': 'id(d)',\n",
       " '_20': 1688212148032,\n",
       " '_i21': 'globals()'}"
      ]
     },
     "execution_count": 21,
     "metadata": {},
     "output_type": "execute_result"
    }
   ],
   "source": [
    "globals()"
   ]
  },
  {
   "cell_type": "code",
   "execution_count": 23,
   "id": "61afc49e-6cad-46c2-8420-773f65cab642",
   "metadata": {},
   "outputs": [
    {
     "data": {
      "text/plain": [
       "dict"
      ]
     },
     "execution_count": 23,
     "metadata": {},
     "output_type": "execute_result"
    }
   ],
   "source": [
    "type(globals())"
   ]
  },
  {
   "cell_type": "code",
   "execution_count": 25,
   "id": "a9e4eb29-d612-4042-8f98-64ce3cd6157c",
   "metadata": {},
   "outputs": [
    {
     "data": {
      "text/plain": [
       "{'first_name': 'Pratik',\n",
       " 'last_name': 'Patil',\n",
       " 'year_born': 1990,\n",
       " 'month_born': 'June'}"
      ]
     },
     "execution_count": 25,
     "metadata": {},
     "output_type": "execute_result"
    }
   ],
   "source": [
    "globals()['person']"
   ]
  },
  {
   "cell_type": "markdown",
   "id": "51c1be6f-ade3-4bb6-ad22-208c617f48c0",
   "metadata": {},
   "source": [
    "## Iterating Dictionaries"
   ]
  },
  {
   "cell_type": "code",
   "execution_count": 27,
   "id": "0e0284f0-5069-4cdb-88d9-29d24609036a",
   "metadata": {},
   "outputs": [],
   "source": [
    "d = {\n",
    "    'key_1': 1,\n",
    "    'key_2': 2,\n",
    "    3.14: 'pi',\n",
    "}"
   ]
  },
  {
   "cell_type": "code",
   "execution_count": 28,
   "id": "5dd07d87-4698-4852-9a6b-df4108088d14",
   "metadata": {},
   "outputs": [
    {
     "name": "stdout",
     "output_type": "stream",
     "text": [
      "key_1\n",
      "key_2\n",
      "3.14\n"
     ]
    }
   ],
   "source": [
    "for k in d:\n",
    "    print(k)"
   ]
  },
  {
   "cell_type": "code",
   "execution_count": 29,
   "id": "eaba92cd-c0ee-4981-b2b9-28149bfb33b3",
   "metadata": {},
   "outputs": [
    {
     "name": "stdout",
     "output_type": "stream",
     "text": [
      "d[key_1] = 1\n",
      "d[key_2] = 2\n",
      "d[3.14] = pi\n"
     ]
    }
   ],
   "source": [
    "for k in d:\n",
    "    print(f'd[{k}] = {d[k]}')"
   ]
  },
  {
   "cell_type": "code",
   "execution_count": 30,
   "id": "d2e05eee-9417-429e-9f25-a9fb12060848",
   "metadata": {},
   "outputs": [
    {
     "name": "stdout",
     "output_type": "stream",
     "text": [
      "1\n",
      "2\n",
      "pi\n"
     ]
    }
   ],
   "source": [
    "for v in d.values():\n",
    "    print(v)"
   ]
  },
  {
   "cell_type": "code",
   "execution_count": 31,
   "id": "99782b37-46e3-4843-a9f4-47c9711e61b2",
   "metadata": {},
   "outputs": [
    {
     "name": "stdout",
     "output_type": "stream",
     "text": [
      "key_1 1\n",
      "key_2 2\n",
      "3.14 pi\n"
     ]
    }
   ],
   "source": [
    "for key, value in d.items():\n",
    "    print(key, value)"
   ]
  }
 ],
 "metadata": {
  "kernelspec": {
   "display_name": "Python 3 (ipykernel)",
   "language": "python",
   "name": "python3"
  },
  "language_info": {
   "codemirror_mode": {
    "name": "ipython",
    "version": 3
   },
   "file_extension": ".py",
   "mimetype": "text/x-python",
   "name": "python",
   "nbconvert_exporter": "python",
   "pygments_lexer": "ipython3",
   "version": "3.11.7"
  }
 },
 "nbformat": 4,
 "nbformat_minor": 5
}
