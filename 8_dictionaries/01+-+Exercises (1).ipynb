{
 "cells": [
  {
   "cell_type": "markdown",
   "id": "corporate-husband",
   "metadata": {},
   "source": [
    "### Solutions"
   ]
  },
  {
   "cell_type": "markdown",
   "id": "romance-tracker",
   "metadata": {},
   "source": [
    "#### Question 1"
   ]
  },
  {
   "cell_type": "markdown",
   "id": "empty-slovenia",
   "metadata": {},
   "source": [
    "Use a dictionary to count the frequency of the characters `a-z A-Z` in a given string.\n",
    "\n",
    "You should write your code to be as general as possible, so that it will work with any string of any given length.\n",
    "\n",
    "Your resulting dictionary should only contain keys for characters that occured at least once (i.e. no zero count characters should be present.)\n",
    "\n",
    "Hint: you will probably want to use the `ord()` function that we studied earlier along with the unicode character codes for `a`, `z`, `A` and `Z`."
   ]
  },
  {
   "cell_type": "markdown",
   "id": "thousand-handling",
   "metadata": {},
   "source": [
    "For example, if the given string is:\n",
    "\n",
    "```\n",
    "s = 'Aa, Bb - A a B C'\n",
    "```\n",
    "\n",
    "then your resulting dictionary should be:\n",
    "\n",
    "```\n",
    "{\n",
    "    'A': 2, \n",
    "    'a': 2, \n",
    "    'B': 2, \n",
    "    'b': 1, \n",
    "    'C': 1\n",
    "}\n",
    "```\n",
    "\n",
    "(Note that the order of the keys in the dictionary is not important)"
   ]
  },
  {
   "cell_type": "markdown",
   "id": "considerable-orchestra",
   "metadata": {},
   "source": [
    "Here are two sample strings you can use:"
   ]
  },
  {
   "cell_type": "code",
   "execution_count": 1,
   "id": "baking-logic",
   "metadata": {},
   "outputs": [],
   "source": [
    "s1 = \"\"\"\n",
    "“'And' and 'or' are the basic operations of logic. Together with 'no' (the logical operation \n",
    "of negation) they are a complete set of basic logical operations — all other logical \n",
    "operations, no matter how complex, can be obtained by suitable combinations of these.” \n",
    "― John von Neumann, The Computer and the Brain\n",
    "\"\"\"\n",
    "\n",
    "s2 = \"\"\"\n",
    "Lorem ipsum dolor sit amet, consectetur adipiscing elit, sed do eiusmod tempor incididunt ut \n",
    "labore et dolore magna aliqua. Ut enim ad minim veniam, quis nostrud exercitation ullamco laboris \n",
    "nisi ut aliquip ex ea commodo consequat. Duis aute irure dolor in reprehenderit in voluptate velit \n",
    "esse cillum dolore eu fugiat nulla pariatur. Excepteur sint occaecat cupidatat non proident, sunt \n",
    "in culpa qui officia deserunt mollit anim id est laborum.\n",
    "\"\"\""
   ]
  },
  {
   "cell_type": "code",
   "execution_count": 2,
   "id": "703a60d1-e3f6-48a2-be22-929789fdd80e",
   "metadata": {},
   "outputs": [
    {
     "name": "stdout",
     "output_type": "stream",
     "text": [
      "97\n",
      "122\n",
      "65\n",
      "90\n"
     ]
    }
   ],
   "source": [
    "print(ord('a'))\n",
    "print(ord('z'))\n",
    "print(ord('A'))\n",
    "print(ord('Z'))\n"
   ]
  },
  {
   "cell_type": "code",
   "execution_count": 5,
   "id": "d7f6aac2-550e-4102-b0db-f5544547aae8",
   "metadata": {},
   "outputs": [
    {
     "data": {
      "text/plain": [
       "{'A': 1,\n",
       " 'n': 20,\n",
       " 'd': 4,\n",
       " 'a': 23,\n",
       " 'o': 31,\n",
       " 'r': 12,\n",
       " 'e': 27,\n",
       " 't': 21,\n",
       " 'h': 11,\n",
       " 'b': 7,\n",
       " 's': 9,\n",
       " 'i': 17,\n",
       " 'c': 10,\n",
       " 'p': 7,\n",
       " 'f': 4,\n",
       " 'l': 12,\n",
       " 'g': 6,\n",
       " 'T': 2,\n",
       " 'w': 2,\n",
       " 'y': 2,\n",
       " 'm': 6,\n",
       " 'x': 1,\n",
       " 'u': 3,\n",
       " 'J': 1,\n",
       " 'v': 1,\n",
       " 'N': 1,\n",
       " 'C': 1,\n",
       " 'B': 1}"
      ]
     },
     "execution_count": 5,
     "metadata": {},
     "output_type": "execute_result"
    }
   ],
   "source": [
    "char_count = {}\n",
    "\n",
    "for char in s1:\n",
    "    if (ord(char)>= ord('a') and ord(char)<= ord('z')) or (ord(char)>= ord('A') and ord(char)<= ord('Z')):\n",
    "        char_count[char] = char_count.get(char, 0) + 1\n",
    "\n",
    "char_count"
   ]
  },
  {
   "cell_type": "markdown",
   "id": "double-engine",
   "metadata": {},
   "source": [
    "#### Question 2"
   ]
  },
  {
   "cell_type": "markdown",
   "id": "finnish-villa",
   "metadata": {},
   "source": [
    "Given the following dictionaries:"
   ]
  },
  {
   "cell_type": "code",
   "execution_count": 6,
   "id": "racial-medline",
   "metadata": {},
   "outputs": [],
   "source": [
    "d1 = {'a': 10, 'b': 20, 'c': 30}\n",
    "d2 = {'d': 100, 'e': 200, 'f': 300}\n",
    "d3 = {'f': 30, 'g': 40}"
   ]
  },
  {
   "cell_type": "markdown",
   "id": "north-information",
   "metadata": {},
   "source": [
    "Construct two lists, one containing all the keys of both dictionaries, and one containing all the values of each dictionary. (It is OK for values or keys to be repeated in the lists)."
   ]
  },
  {
   "cell_type": "markdown",
   "id": "automotive-railway",
   "metadata": {},
   "source": [
    "In the example above you should end up with two lists containing the elements:\n",
    "\n",
    "```\n",
    "'a', 'b', 'c', 'd', 'e', 'f', 'f', 'g'\n",
    "```\n",
    "\n",
    "and\n",
    "\n",
    "```\n",
    "10, 20, 30, 100, 200, 300, 30, 40\n",
    "```"
   ]
  },
  {
   "cell_type": "markdown",
   "id": "military-tuning",
   "metadata": {},
   "source": [
    "Note that the order in which the elements appear in each list is not important."
   ]
  },
  {
   "cell_type": "code",
   "execution_count": 8,
   "id": "b63dcb2b-47fa-4c76-8689-9a01911be2bd",
   "metadata": {},
   "outputs": [
    {
     "data": {
      "text/plain": [
       "['a', 'b', 'c', 'd', 'e', 'f', 'f', 'g']"
      ]
     },
     "execution_count": 8,
     "metadata": {},
     "output_type": "execute_result"
    }
   ],
   "source": [
    "keys = list(d1) + list(d2) + list(d3)"
   ]
  },
  {
   "cell_type": "code",
   "execution_count": 12,
   "id": "6681567e-4e79-48a6-9f81-e2df3fff0bcd",
   "metadata": {},
   "outputs": [
    {
     "data": {
      "text/plain": [
       "[10, 20, 30, 100, 200, 300, 30, 40]"
      ]
     },
     "execution_count": 12,
     "metadata": {},
     "output_type": "execute_result"
    }
   ],
   "source": [
    "list(d1.values()) + list(d2.values()) + list(d3.values())"
   ]
  },
  {
   "cell_type": "markdown",
   "id": "hawaiian-proxy",
   "metadata": {},
   "source": [
    "#### Question 3"
   ]
  },
  {
   "cell_type": "code",
   "execution_count": 15,
   "id": "584d9515-80c5-43ca-9f5e-05dbd7b41431",
   "metadata": {},
   "outputs": [
    {
     "data": {
      "text/plain": [
       "['a', 'b', 'c', 'd', 'e', 'f', 'f', 'g']"
      ]
     },
     "execution_count": 15,
     "metadata": {},
     "output_type": "execute_result"
    }
   ],
   "source": [
    "keys = []\n",
    "values = []\n",
    "for d in (d1, d2, d3):\n",
    "    keys.extend(d.keys())\n",
    "    values.extend(d.values())\n",
    "\n",
    "keys"
   ]
  },
  {
   "cell_type": "code",
   "execution_count": 16,
   "id": "17bb979a-5645-4712-ae09-32fca9fd88d2",
   "metadata": {},
   "outputs": [
    {
     "data": {
      "text/plain": [
       "[10, 20, 30, 100, 200, 300, 30, 40]"
      ]
     },
     "execution_count": 16,
     "metadata": {},
     "output_type": "execute_result"
    }
   ],
   "source": [
    "values"
   ]
  },
  {
   "cell_type": "markdown",
   "id": "cardiac-contractor",
   "metadata": {},
   "source": [
    "In this example, suppose you have a grade book designed as follows:"
   ]
  },
  {
   "cell_type": "code",
   "execution_count": 25,
   "id": "decreased-dress",
   "metadata": {},
   "outputs": [],
   "source": [
    "grades = {\n",
    "    'John': [90, 95, 98],\n",
    "    'Eric': [86, 84, 92],\n",
    "    'Michael': [90, 89, 85]\n",
    "}"
   ]
  },
  {
   "cell_type": "markdown",
   "id": "alleged-relevance",
   "metadata": {},
   "source": [
    "This grade book is a dictionary that consists of the student's name as the key, and the value is a list representing results for a series of tests, from most recent to oldest."
   ]
  },
  {
   "cell_type": "markdown",
   "id": "hidden-crystal",
   "metadata": {},
   "source": [
    "A new exam has just been graded, and you receive the grades for that specific exam also as a dictionary:"
   ]
  },
  {
   "cell_type": "code",
   "execution_count": 21,
   "id": "acceptable-clinic",
   "metadata": {},
   "outputs": [],
   "source": [
    "exam = {\n",
    "    'Eric': 99,\n",
    "    'John': 100\n",
    "}"
   ]
  },
  {
   "cell_type": "markdown",
   "id": "interracial-florence",
   "metadata": {},
   "source": [
    "Write code that updates the grades dictionary by adding the latest test result to the beginning of each list corresponding to the student.\n",
    "\n",
    "If the new exam grade is missing for a student, assign the value `None` as the latest grade in the `grades` dictionary."
   ]
  },
  {
   "cell_type": "markdown",
   "id": "judicial-release",
   "metadata": {},
   "source": [
    "For the data given above, your `grades` dictionary should now contain the following information:\n",
    "\n",
    "```\n",
    "{\n",
    "    'John': [100, 90, 95, 98],\n",
    "    'Eric': [99, 86, 84, 92],\n",
    "    'Michael': [None, 90, 89, 85]\n",
    "}\n",
    "```"
   ]
  },
  {
   "cell_type": "code",
   "execution_count": 22,
   "id": "8f6c5527-e13e-4e4f-ba16-df5c933e5f00",
   "metadata": {},
   "outputs": [
    {
     "data": {
      "text/plain": [
       "{'John': [100, 90, 95, 98], 'Eric': [99, 86, 84, 92], 'Michael': [90, 89, 85]}"
      ]
     },
     "execution_count": 22,
     "metadata": {},
     "output_type": "execute_result"
    }
   ],
   "source": [
    "for student, marks in exam.items():\n",
    "    grades[student].insert(0,marks)\n",
    "\n",
    "grades"
   ]
  },
  {
   "cell_type": "code",
   "execution_count": 26,
   "id": "9e7e785b-0856-44bc-b151-bf6b74885bcb",
   "metadata": {},
   "outputs": [],
   "source": [
    "for student in grades:\n",
    "    grades[student].insert(0, exam.get(student))"
   ]
  },
  {
   "cell_type": "code",
   "execution_count": 27,
   "id": "dad0008c-9e14-4834-83dd-c5d680fdbc06",
   "metadata": {},
   "outputs": [
    {
     "data": {
      "text/plain": [
       "{'John': [100, 90, 95, 98],\n",
       " 'Eric': [99, 86, 84, 92],\n",
       " 'Michael': [None, 90, 89, 85]}"
      ]
     },
     "execution_count": 27,
     "metadata": {},
     "output_type": "execute_result"
    }
   ],
   "source": [
    "grades"
   ]
  },
  {
   "cell_type": "raw",
   "id": "3cdb74c6-ed34-497f-9ac2-830533334714",
   "metadata": {},
   "source": []
  }
 ],
 "metadata": {
  "kernelspec": {
   "display_name": "Python 3 (ipykernel)",
   "language": "python",
   "name": "python3"
  },
  "language_info": {
   "codemirror_mode": {
    "name": "ipython",
    "version": 3
   },
   "file_extension": ".py",
   "mimetype": "text/x-python",
   "name": "python",
   "nbconvert_exporter": "python",
   "pygments_lexer": "ipython3",
   "version": "3.11.7"
  }
 },
 "nbformat": 4,
 "nbformat_minor": 5
}
