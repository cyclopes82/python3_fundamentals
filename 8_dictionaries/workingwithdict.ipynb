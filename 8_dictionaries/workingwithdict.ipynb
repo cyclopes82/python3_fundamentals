{
 "cells": [
  {
   "cell_type": "code",
   "execution_count": 1,
   "id": "2e7b5768-02b5-4e58-b1eb-56a3ad0d5d05",
   "metadata": {},
   "outputs": [],
   "source": [
    "## Working with Dictionaries"
   ]
  },
  {
   "cell_type": "code",
   "execution_count": 2,
   "id": "65a76f4c-3279-44f4-b3e5-c28665b5c2ad",
   "metadata": {},
   "outputs": [],
   "source": [
    "data = {\n",
    "    'open':100,\n",
    "    'high':110,\n",
    "    'low':95,\n",
    "    'close':110,\n",
    "    3.14: 'pip'\n",
    "}"
   ]
  },
  {
   "cell_type": "code",
   "execution_count": 3,
   "id": "c2d0ddce-e4b3-4863-848b-0dd97975dd0b",
   "metadata": {},
   "outputs": [
    {
     "data": {
      "text/plain": [
       "True"
      ]
     },
     "execution_count": 3,
     "metadata": {},
     "output_type": "execute_result"
    }
   ],
   "source": [
    "'open' in data"
   ]
  },
  {
   "cell_type": "code",
   "execution_count": 4,
   "id": "ebd7a11d-7f37-4d1f-adb2-17f2f9af932d",
   "metadata": {},
   "outputs": [
    {
     "data": {
      "text/plain": [
       "False"
      ]
     },
     "execution_count": 4,
     "metadata": {},
     "output_type": "execute_result"
    }
   ],
   "source": [
    "'x' in data"
   ]
  },
  {
   "cell_type": "code",
   "execution_count": 6,
   "id": "af4774b0-1c27-43da-9257-db48289a55a2",
   "metadata": {},
   "outputs": [
    {
     "data": {
      "text/plain": [
       "{}"
      ]
     },
     "execution_count": 6,
     "metadata": {},
     "output_type": "execute_result"
    }
   ],
   "source": [
    "data.clear()\n",
    "data"
   ]
  },
  {
   "cell_type": "code",
   "execution_count": 7,
   "id": "18fbf53d-8820-4d04-a185-dd344781f3e1",
   "metadata": {},
   "outputs": [],
   "source": [
    "data = {\n",
    "    'open':100,\n",
    "    'high':110,\n",
    "    'low':95,\n",
    "    'close':110,\n",
    "    3.14: 'pip'\n",
    "}"
   ]
  },
  {
   "cell_type": "code",
   "execution_count": 8,
   "id": "dc189f0e-04cb-4e58-9de8-45a28ebc51ff",
   "metadata": {},
   "outputs": [
    {
     "data": {
      "text/plain": [
       "5"
      ]
     },
     "execution_count": 8,
     "metadata": {},
     "output_type": "execute_result"
    }
   ],
   "source": [
    "len(data)"
   ]
  },
  {
   "cell_type": "code",
   "execution_count": 9,
   "id": "e14c290a-d220-4b71-954c-a3ad3d8a6973",
   "metadata": {},
   "outputs": [],
   "source": [
    "data_copy = data.copy()"
   ]
  },
  {
   "cell_type": "code",
   "execution_count": 10,
   "id": "81116396-a8b2-43d1-83cc-c3a5f06b4500",
   "metadata": {},
   "outputs": [
    {
     "data": {
      "text/plain": [
       "{'open': 100, 'high': 110, 'low': 95, 'close': 110, 3.14: 'pip'}"
      ]
     },
     "execution_count": 10,
     "metadata": {},
     "output_type": "execute_result"
    }
   ],
   "source": [
    "data"
   ]
  },
  {
   "cell_type": "code",
   "execution_count": 11,
   "id": "6d9feb62-12bc-4e6d-8d5c-1736cb33d477",
   "metadata": {},
   "outputs": [
    {
     "data": {
      "text/plain": [
       "{'open': 100, 'high': 110, 'low': 95, 'close': 110, 3.14: 'pip'}"
      ]
     },
     "execution_count": 11,
     "metadata": {},
     "output_type": "execute_result"
    }
   ],
   "source": [
    "data_copy"
   ]
  },
  {
   "cell_type": "code",
   "execution_count": 12,
   "id": "1bfb0fa1-74f2-4816-92a3-f4386eaf450c",
   "metadata": {},
   "outputs": [
    {
     "data": {
      "text/plain": [
       "False"
      ]
     },
     "execution_count": 12,
     "metadata": {},
     "output_type": "execute_result"
    }
   ],
   "source": [
    "data is data_copy"
   ]
  },
  {
   "cell_type": "code",
   "execution_count": 13,
   "id": "f9f025cb-4002-4e3d-83a0-0e3e407b41d2",
   "metadata": {},
   "outputs": [],
   "source": [
    "data = dict.fromkeys(['open','high','low','close'],0)"
   ]
  },
  {
   "cell_type": "code",
   "execution_count": 14,
   "id": "96d8f12e-c157-4748-9a56-6acd23c8520b",
   "metadata": {},
   "outputs": [
    {
     "data": {
      "text/plain": [
       "{'open': 0, 'high': 0, 'low': 0, 'close': 0}"
      ]
     },
     "execution_count": 14,
     "metadata": {},
     "output_type": "execute_result"
    }
   ],
   "source": [
    "data"
   ]
  },
  {
   "cell_type": "code",
   "execution_count": 15,
   "id": "606d86eb-6156-469d-b27f-f63e84f21e59",
   "metadata": {},
   "outputs": [
    {
     "data": {
      "text/plain": [
       "['open', 'high', 'low', 'close']"
      ]
     },
     "execution_count": 15,
     "metadata": {},
     "output_type": "execute_result"
    }
   ],
   "source": [
    "list(data)"
   ]
  },
  {
   "cell_type": "code",
   "execution_count": 16,
   "id": "7a01d64b-e14d-4217-af67-ab70f2b5a239",
   "metadata": {},
   "outputs": [
    {
     "data": {
      "text/plain": [
       "{}"
      ]
     },
     "execution_count": 16,
     "metadata": {},
     "output_type": "execute_result"
    }
   ],
   "source": [
    "d1 = {}\n",
    "d1"
   ]
  },
  {
   "cell_type": "code",
   "execution_count": 17,
   "id": "c58d1562-b30e-418e-8719-ac8e724a3f68",
   "metadata": {},
   "outputs": [
    {
     "data": {
      "text/plain": [
       "{}"
      ]
     },
     "execution_count": 17,
     "metadata": {},
     "output_type": "execute_result"
    }
   ],
   "source": [
    "d1 = dict()\n",
    "d1"
   ]
  }
 ],
 "metadata": {
  "kernelspec": {
   "display_name": "Python 3 (ipykernel)",
   "language": "python",
   "name": "python3"
  },
  "language_info": {
   "codemirror_mode": {
    "name": "ipython",
    "version": 3
   },
   "file_extension": ".py",
   "mimetype": "text/x-python",
   "name": "python",
   "nbconvert_exporter": "python",
   "pygments_lexer": "ipython3",
   "version": "3.11.7"
  }
 },
 "nbformat": 4,
 "nbformat_minor": 5
}
