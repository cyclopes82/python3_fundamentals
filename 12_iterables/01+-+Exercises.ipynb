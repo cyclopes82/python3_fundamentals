{
 "cells": [
  {
   "cell_type": "markdown",
   "id": "actual-product",
   "metadata": {},
   "source": [
    "### Solutions"
   ]
  },
  {
   "cell_type": "markdown",
   "id": "choice-local",
   "metadata": {},
   "source": [
    "#### Question 1"
   ]
  },
  {
   "cell_type": "markdown",
   "id": "later-brown",
   "metadata": {},
   "source": [
    "Given the following list:"
   ]
  },
  {
   "cell_type": "code",
   "execution_count": 1,
   "id": "bound-religion",
   "metadata": {},
   "outputs": [],
   "source": [
    "l = [10, 'abc', 3.14, True]"
   ]
  },
  {
   "cell_type": "markdown",
   "id": "fatty-quantity",
   "metadata": {},
   "source": [
    "Write code that prints out the index number and value at that index for every element of `l`."
   ]
  },
  {
   "cell_type": "code",
   "execution_count": 3,
   "id": "1b79691d-640a-47d8-8b38-54a5ddc853b8",
   "metadata": {},
   "outputs": [
    {
     "name": "stdout",
     "output_type": "stream",
     "text": [
      "l[0] = 10\n",
      "l[1] = abc\n",
      "l[2] = 3.14\n",
      "l[3] = True\n"
     ]
    }
   ],
   "source": [
    "for i, item in enumerate(l):\n",
    "    print(f'l[{i}] = {item}')"
   ]
  },
  {
   "cell_type": "markdown",
   "id": "based-baking",
   "metadata": {},
   "source": [
    "#### Question 2"
   ]
  },
  {
   "cell_type": "markdown",
   "id": "mental-venture",
   "metadata": {},
   "source": [
    "We saw in this section how generator expressions can be more efficient, not only in terms os memory, but also in terms of computation time when not all values in the generator are iterated."
   ]
  },
  {
   "cell_type": "markdown",
   "id": "referenced-italy",
   "metadata": {},
   "source": [
    "Create a generator expression that when iterated over will produce the integers from `1` to `10_000` raised to the power of `1`, `2`, `3`, etc."
   ]
  },
  {
   "cell_type": "markdown",
   "id": "shared-serbia",
   "metadata": {},
   "source": [
    "So this generator should produce these results:"
   ]
  },
  {
   "cell_type": "markdown",
   "id": "cheap-emission",
   "metadata": {},
   "source": [
    "```\n",
    "1**1, 2**2, 3**3, 4**4, ...\n",
    "```"
   ]
  },
  {
   "cell_type": "markdown",
   "id": "liable-connectivity",
   "metadata": {},
   "source": [
    "Once you have created a generator expression to do this, time your results to create the generator and iterate through the first 5 elements of the generator."
   ]
  },
  {
   "cell_type": "markdown",
   "id": "divided-senior",
   "metadata": {},
   "source": [
    "Then, do the same thing, but using a list comprehension instead of a generator expression."
   ]
  },
  {
   "cell_type": "markdown",
   "id": "mexican-latin",
   "metadata": {},
   "source": [
    "Hint: you should use the `perf_counter` apprioach we have seen a few times in previous lectures:\n",
    "\n",
    "```\n",
    "from time import perf_counter\n",
    "\n",
    "start = perf_counter()\n",
    "# your code goes here\n",
    "end = perf_counter()\n",
    "print('elapsed:', end - start)\n",
    "```\n"
   ]
  },
  {
   "cell_type": "markdown",
   "id": "caroline-queen",
   "metadata": {},
   "source": [
    "To make timings more accurate, you should time a loop that repeats your code at least 10 times."
   ]
  },
  {
   "cell_type": "code",
   "execution_count": 4,
   "id": "26c29849-4f9a-424d-b92b-a8c6eb995398",
   "metadata": {},
   "outputs": [],
   "source": [
    "powers = ( i ** i for i in range(1, 10_000))"
   ]
  },
  {
   "cell_type": "code",
   "execution_count": 6,
   "id": "beca8a57-0872-4169-8c49-15ea6ab81869",
   "metadata": {},
   "outputs": [
    {
     "name": "stdout",
     "output_type": "stream",
     "text": [
      "1\n",
      "4\n",
      "27\n",
      "256\n",
      "3125\n"
     ]
    }
   ],
   "source": [
    "for i in range(5):\n",
    "    print(next(powers))\n",
    "    "
   ]
  },
  {
   "cell_type": "raw",
   "id": "6ad54272-7509-4317-8a1b-0ed3adfde67e",
   "metadata": {},
   "source": [
    "from time import perf_counter"
   ]
  },
  {
   "cell_type": "code",
   "execution_count": 13,
   "id": "f96235f3-7c72-4945-aa0d-5e03afed2379",
   "metadata": {},
   "outputs": [
    {
     "name": "stdout",
     "output_type": "stream",
     "text": [
      "1\n",
      "4\n",
      "27\n",
      "256\n",
      "3125\n",
      "elapsed: 0.0004553999751806259\n"
     ]
    }
   ],
   "source": [
    "from time import perf_counter\n",
    "start = perf_counter()\n",
    "powers = ( i ** i for i in range(1, 10_000))\n",
    "for i in range(5):\n",
    "    print(next(powers))\n",
    "end = perf_counter()\n",
    "print('elapsed:', end - start)"
   ]
  },
  {
   "cell_type": "code",
   "execution_count": 15,
   "id": "b022fb5c-2c73-4fe6-8128-08acc58ace9c",
   "metadata": {},
   "outputs": [
    {
     "name": "stdout",
     "output_type": "stream",
     "text": [
      "1\n",
      "4\n",
      "27\n",
      "256\n",
      "3125\n",
      "elapsed: 6.686367500107735\n"
     ]
    }
   ],
   "source": [
    "from time import perf_counter\n",
    "start = perf_counter()\n",
    "powers = [ i ** i for i in range(1, 10_000)]\n",
    "for i in range(5):\n",
    "    print(powers[i])\n",
    "end = perf_counter()\n",
    "print('elapsed:', end - start)"
   ]
  },
  {
   "cell_type": "code",
   "execution_count": null,
   "id": "9c5572df-47da-441a-a061-ebf88014d122",
   "metadata": {},
   "outputs": [],
   "source": []
  }
 ],
 "metadata": {
  "kernelspec": {
   "display_name": "Python 3 (ipykernel)",
   "language": "python",
   "name": "python3"
  },
  "language_info": {
   "codemirror_mode": {
    "name": "ipython",
    "version": 3
   },
   "file_extension": ".py",
   "mimetype": "text/x-python",
   "name": "python",
   "nbconvert_exporter": "python",
   "pygments_lexer": "ipython3",
   "version": "3.11.7"
  }
 },
 "nbformat": 4,
 "nbformat_minor": 5
}
