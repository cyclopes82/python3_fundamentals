{
 "cells": [
  {
   "cell_type": "markdown",
   "id": "73ac9930-c068-4659-a415-155be32150e0",
   "metadata": {},
   "source": [
    "## Iterables and Iterators"
   ]
  },
  {
   "cell_type": "code",
   "execution_count": 1,
   "id": "aff2ec24-28cc-4dce-ad9b-4e53e8f9b113",
   "metadata": {},
   "outputs": [],
   "source": [
    "l = [1, 2, 3]"
   ]
  },
  {
   "cell_type": "code",
   "execution_count": 2,
   "id": "ab64679e-daab-4f8b-a619-8f306e919882",
   "metadata": {},
   "outputs": [],
   "source": [
    "iterator = iter(l)"
   ]
  },
  {
   "cell_type": "code",
   "execution_count": 3,
   "id": "99bca5d2-e157-43e6-abb0-8f24d9e60a6a",
   "metadata": {},
   "outputs": [
    {
     "data": {
      "text/plain": [
       "list_iterator"
      ]
     },
     "execution_count": 3,
     "metadata": {},
     "output_type": "execute_result"
    }
   ],
   "source": [
    "type(iterator)"
   ]
  },
  {
   "cell_type": "code",
   "execution_count": 4,
   "id": "59f491d7-6635-4f0f-a9fb-c49d2d506bcf",
   "metadata": {},
   "outputs": [
    {
     "data": {
      "text/plain": [
       "1"
      ]
     },
     "execution_count": 4,
     "metadata": {},
     "output_type": "execute_result"
    }
   ],
   "source": [
    "next(iterator)"
   ]
  },
  {
   "cell_type": "code",
   "execution_count": 5,
   "id": "d9aa45d4-6307-4b33-a691-7101118871f2",
   "metadata": {},
   "outputs": [
    {
     "data": {
      "text/plain": [
       "2"
      ]
     },
     "execution_count": 5,
     "metadata": {},
     "output_type": "execute_result"
    }
   ],
   "source": [
    "next(iterator)"
   ]
  },
  {
   "cell_type": "code",
   "execution_count": 6,
   "id": "0b308883-5f07-44ac-a5c7-eca7bdf40e1e",
   "metadata": {},
   "outputs": [
    {
     "data": {
      "text/plain": [
       "3"
      ]
     },
     "execution_count": 6,
     "metadata": {},
     "output_type": "execute_result"
    }
   ],
   "source": [
    "next(iterator)"
   ]
  },
  {
   "cell_type": "code",
   "execution_count": 7,
   "id": "aa31710f-6b98-4867-ba82-27fc3b3dec7c",
   "metadata": {},
   "outputs": [
    {
     "ename": "StopIteration",
     "evalue": "",
     "output_type": "error",
     "traceback": [
      "\u001b[1;31m---------------------------------------------------------------------------\u001b[0m",
      "\u001b[1;31mStopIteration\u001b[0m                             Traceback (most recent call last)",
      "Cell \u001b[1;32mIn[7], line 1\u001b[0m\n\u001b[1;32m----> 1\u001b[0m \u001b[38;5;28;43mnext\u001b[39;49m\u001b[43m(\u001b[49m\u001b[43miterator\u001b[49m\u001b[43m)\u001b[49m\n",
      "\u001b[1;31mStopIteration\u001b[0m: "
     ]
    }
   ],
   "source": [
    "next(iterator)"
   ]
  },
  {
   "cell_type": "code",
   "execution_count": 8,
   "id": "5fe17270-a911-497f-ad1d-a1e10019bbbb",
   "metadata": {},
   "outputs": [
    {
     "ename": "StopIteration",
     "evalue": "",
     "output_type": "error",
     "traceback": [
      "\u001b[1;31m---------------------------------------------------------------------------\u001b[0m",
      "\u001b[1;31mStopIteration\u001b[0m                             Traceback (most recent call last)",
      "Cell \u001b[1;32mIn[8], line 1\u001b[0m\n\u001b[1;32m----> 1\u001b[0m \u001b[38;5;28;43mnext\u001b[39;49m\u001b[43m(\u001b[49m\u001b[43miterator\u001b[49m\u001b[43m)\u001b[49m\n",
      "\u001b[1;31mStopIteration\u001b[0m: "
     ]
    }
   ],
   "source": [
    "next(iterator)"
   ]
  },
  {
   "cell_type": "code",
   "execution_count": 9,
   "id": "91d83cbe-3dcc-476a-83f7-4ffc07057b51",
   "metadata": {},
   "outputs": [
    {
     "data": {
      "text/plain": [
       "2050770225088"
      ]
     },
     "execution_count": 9,
     "metadata": {},
     "output_type": "execute_result"
    }
   ],
   "source": [
    "id(iterator)"
   ]
  },
  {
   "cell_type": "code",
   "execution_count": 10,
   "id": "9f9643bc-2585-4c83-912f-c02fee0c69d4",
   "metadata": {},
   "outputs": [],
   "source": [
    "iterator = iter(l)"
   ]
  },
  {
   "cell_type": "code",
   "execution_count": 11,
   "id": "41cc0648-edf0-448f-a0c8-dfbb14e547b5",
   "metadata": {},
   "outputs": [
    {
     "data": {
      "text/plain": [
       "2050788164944"
      ]
     },
     "execution_count": 11,
     "metadata": {},
     "output_type": "execute_result"
    }
   ],
   "source": [
    "id(iterator)"
   ]
  },
  {
   "cell_type": "code",
   "execution_count": 12,
   "id": "08d40246-d791-44ed-9204-b2c43ebd7c9a",
   "metadata": {},
   "outputs": [
    {
     "name": "stdout",
     "output_type": "stream",
     "text": [
      "1\n",
      "2\n",
      "3\n"
     ]
    }
   ],
   "source": [
    "for element in l:\n",
    "    print(element)"
   ]
  },
  {
   "cell_type": "code",
   "execution_count": 13,
   "id": "35ac0f03-d84b-45f2-9e9b-7f00a230c893",
   "metadata": {},
   "outputs": [
    {
     "name": "stdout",
     "output_type": "stream",
     "text": [
      "1\n",
      "2\n",
      "3\n"
     ]
    },
    {
     "ename": "StopIteration",
     "evalue": "",
     "output_type": "error",
     "traceback": [
      "\u001b[1;31m---------------------------------------------------------------------------\u001b[0m",
      "\u001b[1;31mStopIteration\u001b[0m                             Traceback (most recent call last)",
      "Cell \u001b[1;32mIn[13], line 4\u001b[0m\n\u001b[0;32m      1\u001b[0m iterator \u001b[38;5;241m=\u001b[39m \u001b[38;5;28miter\u001b[39m(l)\n\u001b[0;32m      3\u001b[0m \u001b[38;5;28;01mwhile\u001b[39;00m \u001b[38;5;28;01mTrue\u001b[39;00m:\n\u001b[1;32m----> 4\u001b[0m     element \u001b[38;5;241m=\u001b[39m \u001b[38;5;28;43mnext\u001b[39;49m\u001b[43m(\u001b[49m\u001b[43miterator\u001b[49m\u001b[43m)\u001b[49m\n\u001b[0;32m      5\u001b[0m     \u001b[38;5;28mprint\u001b[39m(element)\n",
      "\u001b[1;31mStopIteration\u001b[0m: "
     ]
    }
   ],
   "source": [
    "iterator = iter(l)\n",
    "\n",
    "while True:\n",
    "    element = next(iterator)\n",
    "    print(element)"
   ]
  },
  {
   "cell_type": "code",
   "execution_count": 14,
   "id": "0861f4ce-b133-41e2-83a0-d0063c405990",
   "metadata": {},
   "outputs": [
    {
     "name": "stdout",
     "output_type": "stream",
     "text": [
      "1\n",
      "2\n",
      "3\n",
      "Done Iterating\n"
     ]
    }
   ],
   "source": [
    "iterator = iter(l)\n",
    "\n",
    "try:\n",
    "    while True:\n",
    "        element = next(iterator)\n",
    "        print(element)\n",
    "except StopIteration:\n",
    "    print(\"Done Iterating\")\n",
    "    pass"
   ]
  },
  {
   "cell_type": "code",
   "execution_count": 15,
   "id": "c7e440eb-293f-40c2-8fe5-0ae67bafbeab",
   "metadata": {},
   "outputs": [],
   "source": [
    "r = range(10)"
   ]
  },
  {
   "cell_type": "code",
   "execution_count": 16,
   "id": "b161ccc5-c3fe-4b40-914d-85d21b847558",
   "metadata": {},
   "outputs": [
    {
     "data": {
      "text/plain": [
       "range(0, 10)"
      ]
     },
     "execution_count": 16,
     "metadata": {},
     "output_type": "execute_result"
    }
   ],
   "source": [
    "r"
   ]
  },
  {
   "cell_type": "code",
   "execution_count": 17,
   "id": "b40a60f2-2ac8-4d02-8e8b-ed1a3ddb9fcd",
   "metadata": {},
   "outputs": [],
   "source": [
    "r_iter = iter(r)"
   ]
  },
  {
   "cell_type": "code",
   "execution_count": 18,
   "id": "f3a9fc5a-e76e-4de1-bc3b-c3d81f8e3d1e",
   "metadata": {},
   "outputs": [
    {
     "data": {
      "text/plain": [
       "0"
      ]
     },
     "execution_count": 18,
     "metadata": {},
     "output_type": "execute_result"
    }
   ],
   "source": [
    "next(r_iter)"
   ]
  },
  {
   "cell_type": "code",
   "execution_count": 19,
   "id": "2ad8e472-8a24-41f5-b4c8-78a243b0a55e",
   "metadata": {},
   "outputs": [
    {
     "data": {
      "text/plain": [
       "1"
      ]
     },
     "execution_count": 19,
     "metadata": {},
     "output_type": "execute_result"
    }
   ],
   "source": [
    "next(r_iter)"
   ]
  },
  {
   "cell_type": "code",
   "execution_count": 20,
   "id": "79242579-c928-4ac2-bbd7-7a9b94d4014d",
   "metadata": {},
   "outputs": [
    {
     "data": {
      "text/plain": [
       "[2, 3, 4, 5, 6, 7, 8, 9]"
      ]
     },
     "execution_count": 20,
     "metadata": {},
     "output_type": "execute_result"
    }
   ],
   "source": [
    "list(r_iter)"
   ]
  },
  {
   "cell_type": "code",
   "execution_count": 21,
   "id": "ee96abdf-83d7-4a20-8ec1-86a8d0cb8732",
   "metadata": {},
   "outputs": [],
   "source": [
    "from time import perf_counter"
   ]
  },
  {
   "cell_type": "code",
   "execution_count": 23,
   "id": "d7c07259-4b07-44ac-bef6-b31869b18bf2",
   "metadata": {},
   "outputs": [
    {
     "name": "stdout",
     "output_type": "stream",
     "text": [
      "elapsed: 5.669984966516495e-05\n"
     ]
    }
   ],
   "source": [
    "start = perf_counter()\n",
    "l = range(100_000_000)\n",
    "end = perf_counter()\n",
    "print(f'elapsed: {end -start}')"
   ]
  },
  {
   "cell_type": "code",
   "execution_count": 24,
   "id": "c7189ec9-6ba5-4157-bc36-c8e3c4b250bb",
   "metadata": {},
   "outputs": [
    {
     "name": "stdout",
     "output_type": "stream",
     "text": [
      "elapsed: 2.0320349000394344\n"
     ]
    }
   ],
   "source": [
    "start = perf_counter()\n",
    "l = list(range(100_000_000))\n",
    "end = perf_counter()\n",
    "print(f'elapsed: {end -start}')"
   ]
  },
  {
   "cell_type": "code",
   "execution_count": 25,
   "id": "039dbce8-6b58-4c34-82ab-fbc89b4f604e",
   "metadata": {},
   "outputs": [],
   "source": [
    "del l"
   ]
  },
  {
   "cell_type": "code",
   "execution_count": 26,
   "id": "38f6d265-9020-4f9f-913e-e9a0aa7251ac",
   "metadata": {},
   "outputs": [],
   "source": [
    "#Range is lazy Iterables"
   ]
  },
  {
   "cell_type": "code",
   "execution_count": 27,
   "id": "cd85b70d-d4a6-4f2f-b7e8-8c74960ef555",
   "metadata": {},
   "outputs": [],
   "source": [
    "#Enum is iterator hence you can't call it multple times"
   ]
  },
  {
   "cell_type": "code",
   "execution_count": 28,
   "id": "1b639579-4fa4-4110-85aa-8d5f0837558a",
   "metadata": {},
   "outputs": [],
   "source": [
    "enum = enumerate('abc')"
   ]
  },
  {
   "cell_type": "code",
   "execution_count": 29,
   "id": "eb5f303d-11e0-4120-a4e9-40b2e18f8130",
   "metadata": {},
   "outputs": [
    {
     "data": {
      "text/plain": [
       "[(0, 'a'), (1, 'b'), (2, 'c')]"
      ]
     },
     "execution_count": 29,
     "metadata": {},
     "output_type": "execute_result"
    }
   ],
   "source": [
    "list(enum)"
   ]
  },
  {
   "cell_type": "code",
   "execution_count": 30,
   "id": "0dc40dd5-460e-43c4-b254-3ddd2fcb2cd8",
   "metadata": {},
   "outputs": [
    {
     "data": {
      "text/plain": [
       "[]"
      ]
     },
     "execution_count": 30,
     "metadata": {},
     "output_type": "execute_result"
    }
   ],
   "source": [
    "list(enum)"
   ]
  },
  {
   "cell_type": "code",
   "execution_count": 31,
   "id": "44e159a7-7768-40c1-ae46-0a441e268c2e",
   "metadata": {},
   "outputs": [
    {
     "ename": "StopIteration",
     "evalue": "",
     "output_type": "error",
     "traceback": [
      "\u001b[1;31m---------------------------------------------------------------------------\u001b[0m",
      "\u001b[1;31mStopIteration\u001b[0m                             Traceback (most recent call last)",
      "Cell \u001b[1;32mIn[31], line 1\u001b[0m\n\u001b[1;32m----> 1\u001b[0m \u001b[38;5;28;43mnext\u001b[39;49m\u001b[43m(\u001b[49m\u001b[43menum\u001b[49m\u001b[43m)\u001b[49m\n",
      "\u001b[1;31mStopIteration\u001b[0m: "
     ]
    }
   ],
   "source": [
    "next(enum)"
   ]
  },
  {
   "cell_type": "code",
   "execution_count": null,
   "id": "ca4498fb-0ea6-4ddc-bb4c-cbd74407b1b1",
   "metadata": {},
   "outputs": [],
   "source": []
  }
 ],
 "metadata": {
  "kernelspec": {
   "display_name": "Python 3 (ipykernel)",
   "language": "python",
   "name": "python3"
  },
  "language_info": {
   "codemirror_mode": {
    "name": "ipython",
    "version": 3
   },
   "file_extension": ".py",
   "mimetype": "text/x-python",
   "name": "python",
   "nbconvert_exporter": "python",
   "pygments_lexer": "ipython3",
   "version": "3.11.7"
  }
 },
 "nbformat": 4,
 "nbformat_minor": 5
}
