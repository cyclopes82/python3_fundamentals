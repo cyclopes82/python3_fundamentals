{
 "cells": [
  {
   "cell_type": "markdown",
   "id": "8301543c-28dc-45e2-b64c-2c1fa434af93",
   "metadata": {},
   "source": [
    "## Generators"
   ]
  },
  {
   "cell_type": "code",
   "execution_count": 1,
   "id": "b008b444-0e70-4935-91ec-fc6aa3edb7aa",
   "metadata": {},
   "outputs": [],
   "source": [
    "squares = [ i **2 for i in range(5)]"
   ]
  },
  {
   "cell_type": "code",
   "execution_count": 2,
   "id": "a08bc98b-52ce-43b0-badf-f588de3eaba8",
   "metadata": {},
   "outputs": [
    {
     "data": {
      "text/plain": [
       "[0, 1, 4, 9, 16]"
      ]
     },
     "execution_count": 2,
     "metadata": {},
     "output_type": "execute_result"
    }
   ],
   "source": [
    "squares"
   ]
  },
  {
   "cell_type": "code",
   "execution_count": 3,
   "id": "a6d52a58-cc40-400b-9f6c-c489055bce6e",
   "metadata": {},
   "outputs": [],
   "source": [
    "squares = ( i **2 for i in range(5))"
   ]
  },
  {
   "cell_type": "code",
   "execution_count": 4,
   "id": "691d2487-51fc-4f0f-8b05-82b6d1aec141",
   "metadata": {},
   "outputs": [
    {
     "data": {
      "text/plain": [
       "<generator object <genexpr> at 0x000001A7C95335E0>"
      ]
     },
     "execution_count": 4,
     "metadata": {},
     "output_type": "execute_result"
    }
   ],
   "source": [
    "squares"
   ]
  },
  {
   "cell_type": "code",
   "execution_count": 5,
   "id": "5e2c3bc7-2f04-4ec2-8606-49e460b9edfd",
   "metadata": {},
   "outputs": [
    {
     "data": {
      "text/plain": [
       "generator"
      ]
     },
     "execution_count": 5,
     "metadata": {},
     "output_type": "execute_result"
    }
   ],
   "source": [
    "type(squares)"
   ]
  },
  {
   "cell_type": "code",
   "execution_count": 6,
   "id": "3618d0c4-ee91-4c10-81ce-cedca64e3ff0",
   "metadata": {},
   "outputs": [
    {
     "name": "stdout",
     "output_type": "stream",
     "text": [
      "0\n",
      "1\n",
      "4\n",
      "9\n",
      "16\n"
     ]
    }
   ],
   "source": [
    "for i in squares:\n",
    "    print(i)"
   ]
  },
  {
   "cell_type": "code",
   "execution_count": 7,
   "id": "c328c176-6e5b-4c85-860e-666df0b86523",
   "metadata": {},
   "outputs": [],
   "source": [
    "for i in squares:\n",
    "    print(i)"
   ]
  },
  {
   "cell_type": "code",
   "execution_count": 8,
   "id": "f5fc8287-1b83-4fde-a32a-8bc0b231193e",
   "metadata": {},
   "outputs": [],
   "source": [
    "squares = ( i **2 for i in range(5))"
   ]
  },
  {
   "cell_type": "code",
   "execution_count": 9,
   "id": "20299323-5ade-4bfd-b78e-84f4328cdfb2",
   "metadata": {},
   "outputs": [
    {
     "name": "stdout",
     "output_type": "stream",
     "text": [
      "0\n",
      "1\n",
      "4\n",
      "9\n",
      "16\n"
     ]
    }
   ],
   "source": [
    "for i in squares:\n",
    "    print(i)"
   ]
  },
  {
   "cell_type": "code",
   "execution_count": 10,
   "id": "2327472e-f6f6-4dc4-a597-d1cb1a3f7ecd",
   "metadata": {},
   "outputs": [],
   "source": [
    "squares = ( i **2 for i in range(5))"
   ]
  },
  {
   "cell_type": "code",
   "execution_count": 11,
   "id": "c2481e08-998c-4635-bc0f-21c0e3ea5a75",
   "metadata": {},
   "outputs": [
    {
     "data": {
      "text/plain": [
       "True"
      ]
     },
     "execution_count": 11,
     "metadata": {},
     "output_type": "execute_result"
    }
   ],
   "source": [
    "iter(squares) is squares"
   ]
  },
  {
   "cell_type": "code",
   "execution_count": 12,
   "id": "12a7a4d9-2a09-42e6-8131-b1873a31250b",
   "metadata": {},
   "outputs": [
    {
     "data": {
      "text/plain": [
       "0"
      ]
     },
     "execution_count": 12,
     "metadata": {},
     "output_type": "execute_result"
    }
   ],
   "source": [
    "next(squares)"
   ]
  },
  {
   "cell_type": "code",
   "execution_count": 13,
   "id": "2843941f-6e09-4fa3-9291-c46c85e3e75c",
   "metadata": {},
   "outputs": [
    {
     "data": {
      "text/plain": [
       "1"
      ]
     },
     "execution_count": 13,
     "metadata": {},
     "output_type": "execute_result"
    }
   ],
   "source": [
    "next(squares)"
   ]
  },
  {
   "cell_type": "code",
   "execution_count": 14,
   "id": "914acdf3-55fa-4b8b-bdc0-46ecd2824a33",
   "metadata": {},
   "outputs": [],
   "source": [
    "# We need to be extra carefull while using generators because we can consume/exhaust it by mistake"
   ]
  },
  {
   "cell_type": "code",
   "execution_count": 15,
   "id": "d838717b-4494-4137-a136-5490ac9e8c7c",
   "metadata": {},
   "outputs": [],
   "source": [
    "squares = ( i **2 for i in range(5))"
   ]
  },
  {
   "cell_type": "code",
   "execution_count": 18,
   "id": "7d92d829-e76a-413b-8454-43f082862e81",
   "metadata": {},
   "outputs": [
    {
     "data": {
      "text/plain": [
       "False"
      ]
     },
     "execution_count": 18,
     "metadata": {},
     "output_type": "execute_result"
    }
   ],
   "source": [
    "3 in squares #This will exhaust iterators squares"
   ]
  },
  {
   "cell_type": "code",
   "execution_count": 17,
   "id": "bbd776ea-e720-4820-a2c0-66756de914b9",
   "metadata": {},
   "outputs": [
    {
     "data": {
      "text/plain": [
       "[]"
      ]
     },
     "execution_count": 17,
     "metadata": {},
     "output_type": "execute_result"
    }
   ],
   "source": [
    "list(squares)"
   ]
  },
  {
   "cell_type": "code",
   "execution_count": 19,
   "id": "743f5565-3e12-4423-81c1-c498281caee3",
   "metadata": {},
   "outputs": [],
   "source": [
    "squares = ( i **2 for i in range(5))"
   ]
  },
  {
   "cell_type": "code",
   "execution_count": 21,
   "id": "389fd680-23e9-42f1-a0f3-6d0d4b671ea7",
   "metadata": {},
   "outputs": [
    {
     "data": {
      "text/plain": [
       "True"
      ]
     },
     "execution_count": 21,
     "metadata": {},
     "output_type": "execute_result"
    }
   ],
   "source": [
    "4 in squares"
   ]
  },
  {
   "cell_type": "code",
   "execution_count": 22,
   "id": "da91c3e5-b72b-4855-98c9-018a2e348de9",
   "metadata": {},
   "outputs": [],
   "source": [
    "from timeit import timeit\n"
   ]
  },
  {
   "cell_type": "code",
   "execution_count": 24,
   "id": "d6fb0dc6-2b8d-48c8-a3c4-5751c756fee6",
   "metadata": {},
   "outputs": [
    {
     "data": {
      "text/plain": [
       "2.5034605003893375"
      ]
     },
     "execution_count": 24,
     "metadata": {},
     "output_type": "execute_result"
    }
   ],
   "source": [
    "timeit('[ i ** 2 for i in range(25_000_000)]', number=1)"
   ]
  },
  {
   "cell_type": "code",
   "execution_count": 25,
   "id": "e20586c2-5ccb-4790-9013-792a14ed6546",
   "metadata": {},
   "outputs": [
    {
     "data": {
      "text/plain": [
       "4.100147634744644e-06"
      ]
     },
     "execution_count": 25,
     "metadata": {},
     "output_type": "execute_result"
    }
   ],
   "source": [
    "timeit('( i ** 2 for i in range(25_000_000))', number=1)"
   ]
  },
  {
   "cell_type": "code",
   "execution_count": null,
   "id": "db1df91e-e50c-4eec-aacd-d698a4e147bd",
   "metadata": {},
   "outputs": [],
   "source": []
  }
 ],
 "metadata": {
  "kernelspec": {
   "display_name": "Python 3 (ipykernel)",
   "language": "python",
   "name": "python3"
  },
  "language_info": {
   "codemirror_mode": {
    "name": "ipython",
    "version": 3
   },
   "file_extension": ".py",
   "mimetype": "text/x-python",
   "name": "python",
   "nbconvert_exporter": "python",
   "pygments_lexer": "ipython3",
   "version": "3.11.7"
  }
 },
 "nbformat": 4,
 "nbformat_minor": 5
}
