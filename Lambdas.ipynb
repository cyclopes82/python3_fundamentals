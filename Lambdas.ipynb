{
 "cells": [
  {
   "cell_type": "markdown",
   "id": "f0975d70-a4b4-456a-95ed-5f8afdc83193",
   "metadata": {},
   "source": [
    "# Lambda Functions"
   ]
  },
  {
   "cell_type": "code",
   "execution_count": 1,
   "id": "6e621ee8-5d67-43f0-837d-b40aa33e05f6",
   "metadata": {},
   "outputs": [
    {
     "data": {
      "text/plain": [
       "4"
      ]
     },
     "execution_count": 1,
     "metadata": {},
     "output_type": "execute_result"
    }
   ],
   "source": [
    "2 + 2"
   ]
  },
  {
   "cell_type": "code",
   "execution_count": 2,
   "id": "36aea9df-a8fb-49c9-b6b6-c4cc499e13a0",
   "metadata": {},
   "outputs": [
    {
     "data": {
      "text/plain": [
       "7"
      ]
     },
     "execution_count": 2,
     "metadata": {},
     "output_type": "execute_result"
    }
   ],
   "source": [
    "sum([1,2,3]) + max(0,1,-1)"
   ]
  },
  {
   "cell_type": "code",
   "execution_count": 3,
   "id": "81114fac-8879-48a2-b6e0-29c0e0edc945",
   "metadata": {},
   "outputs": [
    {
     "data": {
      "text/plain": [
       "<function __main__.<lambda>(a, b)>"
      ]
     },
     "execution_count": 3,
     "metadata": {},
     "output_type": "execute_result"
    }
   ],
   "source": [
    "lambda a, b : a + b"
   ]
  },
  {
   "cell_type": "code",
   "execution_count": 4,
   "id": "b3e21415-a711-4711-a2bc-16225ea0be77",
   "metadata": {},
   "outputs": [],
   "source": [
    "f = lambda a, b : a + b"
   ]
  },
  {
   "cell_type": "code",
   "execution_count": 5,
   "id": "09a7c034-ecea-4704-aee8-52b9574794ed",
   "metadata": {},
   "outputs": [
    {
     "data": {
      "text/plain": [
       "30"
      ]
     },
     "execution_count": 5,
     "metadata": {},
     "output_type": "execute_result"
    }
   ],
   "source": [
    "f(10,20)"
   ]
  },
  {
   "cell_type": "code",
   "execution_count": 6,
   "id": "253330b6-b1a8-43f9-9fce-9a3c570d7b25",
   "metadata": {},
   "outputs": [],
   "source": [
    "f1 = lambda a, b, c : max(a, b, c)"
   ]
  },
  {
   "cell_type": "code",
   "execution_count": 7,
   "id": "4871044e-8c33-49b1-ba45-314f0acfe6b2",
   "metadata": {},
   "outputs": [],
   "source": [
    "def f2(a, b, c):\n",
    "    return max(a, b, c)"
   ]
  },
  {
   "cell_type": "code",
   "execution_count": 8,
   "id": "73da9c54-51d6-4b83-962d-75a8df2e7db3",
   "metadata": {},
   "outputs": [
    {
     "data": {
      "text/plain": [
       "3"
      ]
     },
     "execution_count": 8,
     "metadata": {},
     "output_type": "execute_result"
    }
   ],
   "source": [
    "f1(1, 2, 3)"
   ]
  },
  {
   "cell_type": "code",
   "execution_count": 9,
   "id": "972f2916-0059-4383-8deb-7cfc2d3d35b3",
   "metadata": {},
   "outputs": [
    {
     "data": {
      "text/plain": [
       "3"
      ]
     },
     "execution_count": 9,
     "metadata": {},
     "output_type": "execute_result"
    }
   ],
   "source": [
    "f2(1, 2, 3)"
   ]
  },
  {
   "cell_type": "code",
   "execution_count": 14,
   "id": "a453f617-e50f-4bce-8db0-9a5d3a5351bc",
   "metadata": {},
   "outputs": [],
   "source": [
    "def identity(rows, cols):\n",
    "    return [\n",
    "        [1 if row == col else 0 for col in range(cols)]\n",
    "        for row in range(rows)\n",
    "    ]"
   ]
  },
  {
   "cell_type": "code",
   "execution_count": 15,
   "id": "85e0897d-1036-4af4-9994-0366e2c370f1",
   "metadata": {},
   "outputs": [
    {
     "data": {
      "text/plain": [
       "[[1, 0, 0, 0, 0],\n",
       " [0, 1, 0, 0, 0],\n",
       " [0, 0, 1, 0, 0],\n",
       " [0, 0, 0, 1, 0],\n",
       " [0, 0, 0, 0, 1]]"
      ]
     },
     "execution_count": 15,
     "metadata": {},
     "output_type": "execute_result"
    }
   ],
   "source": [
    "identity(5, 5,)"
   ]
  },
  {
   "cell_type": "code",
   "execution_count": 20,
   "id": "2ee862e1-1738-4b8f-8156-6d1ca801b04c",
   "metadata": {},
   "outputs": [],
   "source": [
    "f = lambda rows, cols : [[1 if row ==col else 0 for col in range(cols)] for row in range(rows)]"
   ]
  },
  {
   "cell_type": "code",
   "execution_count": 21,
   "id": "fce44be7-e253-4bee-bb44-ea032f783c36",
   "metadata": {},
   "outputs": [
    {
     "data": {
      "text/plain": [
       "[[1, 0, 0, 0, 0],\n",
       " [0, 1, 0, 0, 0],\n",
       " [0, 0, 1, 0, 0],\n",
       " [0, 0, 0, 1, 0],\n",
       " [0, 0, 0, 0, 1]]"
      ]
     },
     "execution_count": 21,
     "metadata": {},
     "output_type": "execute_result"
    }
   ],
   "source": [
    "f(5,5)"
   ]
  },
  {
   "cell_type": "code",
   "execution_count": 24,
   "id": "cc854057-1428-4143-b8f7-02211b31a5bf",
   "metadata": {},
   "outputs": [],
   "source": [
    "f = lambda a=10, b=2: a * b"
   ]
  },
  {
   "cell_type": "code",
   "execution_count": 25,
   "id": "473f5d2b-4055-468b-8fcd-4d5b6241384d",
   "metadata": {},
   "outputs": [
    {
     "data": {
      "text/plain": [
       "20"
      ]
     },
     "execution_count": 25,
     "metadata": {},
     "output_type": "execute_result"
    }
   ],
   "source": [
    "f()"
   ]
  },
  {
   "cell_type": "code",
   "execution_count": null,
   "id": "7d394e8d-5f13-4313-87a2-06b598f7c1d7",
   "metadata": {},
   "outputs": [],
   "source": []
  }
 ],
 "metadata": {
  "kernelspec": {
   "display_name": "Python 3 (ipykernel)",
   "language": "python",
   "name": "python3"
  },
  "language_info": {
   "codemirror_mode": {
    "name": "ipython",
    "version": 3
   },
   "file_extension": ".py",
   "mimetype": "text/x-python",
   "name": "python",
   "nbconvert_exporter": "python",
   "pygments_lexer": "ipython3",
   "version": "3.11.7"
  }
 },
 "nbformat": 4,
 "nbformat_minor": 5
}
