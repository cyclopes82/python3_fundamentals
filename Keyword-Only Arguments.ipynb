{
 "cells": [
  {
   "cell_type": "markdown",
   "id": "b7b8c3ec-4773-47cf-a772-2770d3d4c987",
   "metadata": {},
   "source": [
    "### Keyword-Only Arguments"
   ]
  },
  {
   "cell_type": "code",
   "execution_count": 2,
   "id": "4b8f2aea-9930-4578-ba8e-2fb355df9ceb",
   "metadata": {},
   "outputs": [],
   "source": [
    "def func(a, b, *args, c): #c is keyowrd argument\n",
    "    print(a)\n",
    "    print(b)\n",
    "    print(args)\n",
    "    print(c)"
   ]
  },
  {
   "cell_type": "code",
   "execution_count": 3,
   "id": "875c57b8-530c-40d3-9fdb-c1ea90427e40",
   "metadata": {},
   "outputs": [
    {
     "name": "stdout",
     "output_type": "stream",
     "text": [
      "10\n",
      "20\n",
      "(30, 40)\n",
      "50\n"
     ]
    }
   ],
   "source": [
    "func(10,20, 30, 40, c=50)"
   ]
  },
  {
   "cell_type": "code",
   "execution_count": 4,
   "id": "0e0b761d-8e93-4f20-a8fa-b3087fbd525f",
   "metadata": {},
   "outputs": [
    {
     "ename": "TypeError",
     "evalue": "func() missing 1 required keyword-only argument: 'c'",
     "output_type": "error",
     "traceback": [
      "\u001b[1;31m---------------------------------------------------------------------------\u001b[0m",
      "\u001b[1;31mTypeError\u001b[0m                                 Traceback (most recent call last)",
      "Cell \u001b[1;32mIn[4], line 1\u001b[0m\n\u001b[1;32m----> 1\u001b[0m \u001b[43mfunc\u001b[49m\u001b[43m(\u001b[49m\u001b[38;5;241;43m10\u001b[39;49m\u001b[43m,\u001b[49m\u001b[38;5;241;43m20\u001b[39;49m\u001b[43m,\u001b[49m\u001b[43m \u001b[49m\u001b[38;5;241;43m30\u001b[39;49m\u001b[43m,\u001b[49m\u001b[43m \u001b[49m\u001b[38;5;241;43m40\u001b[39;49m\u001b[43m,\u001b[49m\u001b[43m \u001b[49m\u001b[38;5;241;43m50\u001b[39;49m\u001b[43m)\u001b[49m\n",
      "\u001b[1;31mTypeError\u001b[0m: func() missing 1 required keyword-only argument: 'c'"
     ]
    }
   ],
   "source": [
    "func(10,20, 30, 40, 50)"
   ]
  },
  {
   "cell_type": "code",
   "execution_count": 5,
   "id": "83f8489f-d4ac-44a7-b5cf-d7c585167e60",
   "metadata": {},
   "outputs": [],
   "source": [
    "def func(a, b, *, c): #c is keyowrd argument\n",
    "    print(a)\n",
    "    print(b)\n",
    "    print(c)"
   ]
  },
  {
   "cell_type": "code",
   "execution_count": 6,
   "id": "47890717-f5bb-4cb8-8ef3-67c209ba9dc3",
   "metadata": {},
   "outputs": [
    {
     "ename": "TypeError",
     "evalue": "func() takes 2 positional arguments but 3 were given",
     "output_type": "error",
     "traceback": [
      "\u001b[1;31m---------------------------------------------------------------------------\u001b[0m",
      "\u001b[1;31mTypeError\u001b[0m                                 Traceback (most recent call last)",
      "Cell \u001b[1;32mIn[6], line 1\u001b[0m\n\u001b[1;32m----> 1\u001b[0m \u001b[43mfunc\u001b[49m\u001b[43m(\u001b[49m\u001b[38;5;241;43m10\u001b[39;49m\u001b[43m,\u001b[49m\u001b[43m \u001b[49m\u001b[38;5;241;43m20\u001b[39;49m\u001b[43m,\u001b[49m\u001b[43m \u001b[49m\u001b[38;5;241;43m30\u001b[39;49m\u001b[43m)\u001b[49m\n",
      "\u001b[1;31mTypeError\u001b[0m: func() takes 2 positional arguments but 3 were given"
     ]
    }
   ],
   "source": [
    "func(10, 20, 30)"
   ]
  },
  {
   "cell_type": "code",
   "execution_count": 7,
   "id": "3f2123c0-7da4-433d-8e1e-714f978dc066",
   "metadata": {},
   "outputs": [
    {
     "name": "stdout",
     "output_type": "stream",
     "text": [
      "10\n",
      "20\n",
      "30\n"
     ]
    }
   ],
   "source": [
    "func(10, 20, c=30)"
   ]
  },
  {
   "cell_type": "code",
   "execution_count": null,
   "id": "86eec2e9-b386-4fc6-a4e9-87268df487d4",
   "metadata": {},
   "outputs": [],
   "source": []
  }
 ],
 "metadata": {
  "kernelspec": {
   "display_name": "Python 3 (ipykernel)",
   "language": "python",
   "name": "python3"
  },
  "language_info": {
   "codemirror_mode": {
    "name": "ipython",
    "version": 3
   },
   "file_extension": ".py",
   "mimetype": "text/x-python",
   "name": "python",
   "nbconvert_exporter": "python",
   "pygments_lexer": "ipython3",
   "version": "3.11.7"
  }
 },
 "nbformat": 4,
 "nbformat_minor": 5
}
