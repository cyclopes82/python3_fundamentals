{
 "cells": [
  {
   "cell_type": "markdown",
   "id": "fb76e355-446c-4b95-920f-7a3b533fd245",
   "metadata": {},
   "source": [
    "### Unicode"
   ]
  },
  {
   "cell_type": "code",
   "execution_count": 1,
   "id": "f6b16553-d4dc-44d7-b788-9b6665436c6a",
   "metadata": {},
   "outputs": [
    {
     "data": {
      "text/plain": [
       "65"
      ]
     },
     "execution_count": 1,
     "metadata": {},
     "output_type": "execute_result"
    }
   ],
   "source": [
    "ord('A')"
   ]
  },
  {
   "cell_type": "code",
   "execution_count": 2,
   "id": "d0641783-7c6c-46bb-b647-9d1fb015a7d4",
   "metadata": {},
   "outputs": [
    {
     "data": {
      "text/plain": [
       "945"
      ]
     },
     "execution_count": 2,
     "metadata": {},
     "output_type": "execute_result"
    }
   ],
   "source": [
    "ord('α')"
   ]
  },
  {
   "cell_type": "code",
   "execution_count": 4,
   "id": "6c9a0882-fbc9-4937-9da8-95a14517be08",
   "metadata": {},
   "outputs": [
    {
     "data": {
      "text/plain": [
       "128013"
      ]
     },
     "execution_count": 4,
     "metadata": {},
     "output_type": "execute_result"
    }
   ],
   "source": [
    "ord('🐍')"
   ]
  },
  {
   "cell_type": "code",
   "execution_count": 5,
   "id": "28818d9b-58fa-49cb-8f0b-49163b75f0eb",
   "metadata": {},
   "outputs": [
    {
     "data": {
      "text/plain": [
       "'0x41'"
      ]
     },
     "execution_count": 5,
     "metadata": {},
     "output_type": "execute_result"
    }
   ],
   "source": [
    "hex(ord('A'))"
   ]
  },
  {
   "cell_type": "code",
   "execution_count": 6,
   "id": "573e47aa-cff4-42da-83ad-89df96edc9f3",
   "metadata": {},
   "outputs": [
    {
     "data": {
      "text/plain": [
       "'0x3b1'"
      ]
     },
     "execution_count": 6,
     "metadata": {},
     "output_type": "execute_result"
    }
   ],
   "source": [
    "hex(ord('α'))"
   ]
  },
  {
   "cell_type": "code",
   "execution_count": 7,
   "id": "dee9f71d-8d9e-4fe1-af78-44db5ba078db",
   "metadata": {},
   "outputs": [
    {
     "data": {
      "text/plain": [
       "'0x1f40d'"
      ]
     },
     "execution_count": 7,
     "metadata": {},
     "output_type": "execute_result"
    }
   ],
   "source": [
    "hex(ord('🐍'))"
   ]
  },
  {
   "cell_type": "code",
   "execution_count": 8,
   "id": "65e43b3c-41fd-4674-bef0-46b8a7a98a1e",
   "metadata": {},
   "outputs": [
    {
     "data": {
      "text/plain": [
       "945"
      ]
     },
     "execution_count": 8,
     "metadata": {},
     "output_type": "execute_result"
    }
   ],
   "source": [
    "int('3B1',16)"
   ]
  },
  {
   "cell_type": "code",
   "execution_count": 10,
   "id": "412efab5-a662-4bba-b0ff-b17e506d3a6f",
   "metadata": {},
   "outputs": [
    {
     "data": {
      "text/plain": [
       "'alpha'"
      ]
     },
     "execution_count": 10,
     "metadata": {},
     "output_type": "execute_result"
    }
   ],
   "source": [
    "α = 'alpha'\n",
    "α"
   ]
  },
  {
   "cell_type": "code",
   "execution_count": 11,
   "id": "c3955621-a03e-46ba-9f4e-c24cbea78abf",
   "metadata": {},
   "outputs": [
    {
     "ename": "SyntaxError",
     "evalue": "invalid character '🐍' (U+1F40D) (29788488.py, line 1)",
     "output_type": "error",
     "traceback": [
      "\u001b[1;36m  Cell \u001b[1;32mIn[11], line 1\u001b[1;36m\u001b[0m\n\u001b[1;33m    🐍 = 'snake'\u001b[0m\n\u001b[1;37m    ^\u001b[0m\n\u001b[1;31mSyntaxError\u001b[0m\u001b[1;31m:\u001b[0m invalid character '🐍' (U+1F40D)\n"
     ]
    }
   ],
   "source": [
    "🐍 = 'snake'"
   ]
  },
  {
   "cell_type": "code",
   "execution_count": 13,
   "id": "cc5e7e5f-033b-4a4d-a735-007c5078c18b",
   "metadata": {},
   "outputs": [],
   "source": [
    "var = \"\\N{Latin Capital Letter A}lways look on the bright side of life.\""
   ]
  },
  {
   "cell_type": "code",
   "execution_count": 14,
   "id": "dfe332be-f57f-468d-b55f-02d20ddf80d8",
   "metadata": {},
   "outputs": [
    {
     "data": {
      "text/plain": [
       "'Always look on the bright side of life.'"
      ]
     },
     "execution_count": 14,
     "metadata": {},
     "output_type": "execute_result"
    }
   ],
   "source": [
    "var"
   ]
  },
  {
   "cell_type": "code",
   "execution_count": 15,
   "id": "fb029710-7e67-4ada-b977-f555ef7d4ac5",
   "metadata": {},
   "outputs": [],
   "source": [
    "var ='\\u0041lways look on the bright side of life.'"
   ]
  },
  {
   "cell_type": "code",
   "execution_count": 16,
   "id": "fa4406a5-1fe0-4ecb-8678-7ccf3b384e86",
   "metadata": {},
   "outputs": [
    {
     "data": {
      "text/plain": [
       "'Always look on the bright side of life.'"
      ]
     },
     "execution_count": 16,
     "metadata": {},
     "output_type": "execute_result"
    }
   ],
   "source": [
    "var"
   ]
  },
  {
   "cell_type": "code",
   "execution_count": 18,
   "id": "be1c78c5-e52e-4086-b977-2e4dca108f90",
   "metadata": {},
   "outputs": [],
   "source": [
    "var ='\\U00000041lways look on the bright side of life.'"
   ]
  },
  {
   "cell_type": "code",
   "execution_count": 19,
   "id": "1b4ddff9-ff40-4b90-8cf6-2d4f48a791d9",
   "metadata": {},
   "outputs": [
    {
     "data": {
      "text/plain": [
       "'Always look on the bright side of life.'"
      ]
     },
     "execution_count": 19,
     "metadata": {},
     "output_type": "execute_result"
    }
   ],
   "source": [
    "var"
   ]
  },
  {
   "cell_type": "code",
   "execution_count": 21,
   "id": "ed0e9ec6-a68f-492c-81a8-51695cce36a7",
   "metadata": {},
   "outputs": [
    {
     "data": {
      "text/plain": [
       "'🐍'"
      ]
     },
     "execution_count": 21,
     "metadata": {},
     "output_type": "execute_result"
    }
   ],
   "source": [
    "'\\U0001F40D'"
   ]
  },
  {
   "cell_type": "code",
   "execution_count": 22,
   "id": "1206932e-827d-45ec-905b-19e99d3a0efe",
   "metadata": {},
   "outputs": [
    {
     "data": {
      "text/plain": [
       "'😀'"
      ]
     },
     "execution_count": 22,
     "metadata": {},
     "output_type": "execute_result"
    }
   ],
   "source": [
    "'\\N{Grinning Face}'"
   ]
  }
 ],
 "metadata": {
  "kernelspec": {
   "display_name": "Python 3 (ipykernel)",
   "language": "python",
   "name": "python3"
  },
  "language_info": {
   "codemirror_mode": {
    "name": "ipython",
    "version": 3
   },
   "file_extension": ".py",
   "mimetype": "text/x-python",
   "name": "python",
   "nbconvert_exporter": "python",
   "pygments_lexer": "ipython3",
   "version": "3.11.7"
  }
 },
 "nbformat": 4,
 "nbformat_minor": 5
}
