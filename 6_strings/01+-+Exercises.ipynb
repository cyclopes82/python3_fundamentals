{
 "cells": [
  {
   "cell_type": "markdown",
   "id": "b32a09ec",
   "metadata": {},
   "source": [
    "### Solutions"
   ]
  },
  {
   "cell_type": "markdown",
   "id": "89d7fa38",
   "metadata": {},
   "source": [
    "#### Question 1"
   ]
  },
  {
   "cell_type": "markdown",
   "id": "f4226de7",
   "metadata": {},
   "source": [
    "Given this string of comma separated characters, create three new variables containing the unicode codepoint (in hex), uppercase and lower case versions of each character (also comma delimited).\n",
    "\n",
    "For example, if the string was `'a, b, c'` you should generate three lists that look like:\n",
    "* `['0x61', '0x62', '0x63']`\n",
    "* `['a', 'b', 'c']`\n",
    "* `['A', 'B', 'C']`\n",
    "\n",
    "[You should use the `split()` and `strip()` functions, amongst others, to help you solve this.]"
   ]
  },
  {
   "cell_type": "code",
   "execution_count": 2,
   "id": "8b78843c",
   "metadata": {},
   "outputs": [],
   "source": [
    "s = 'Π, ύ, θ, ω, ν'"
   ]
  },
  {
   "cell_type": "code",
   "execution_count": 13,
   "id": "2793c711-0d83-4c9f-90df-6c08c561574d",
   "metadata": {},
   "outputs": [],
   "source": [
    "chars = s.split()"
   ]
  },
  {
   "cell_type": "code",
   "execution_count": 14,
   "id": "5f7aaa7e-8273-4815-9511-2023ffe4c4b3",
   "metadata": {},
   "outputs": [
    {
     "data": {
      "text/plain": [
       "['Π,', 'ύ,', 'θ,', 'ω,', 'ν']"
      ]
     },
     "execution_count": 14,
     "metadata": {},
     "output_type": "execute_result"
    }
   ],
   "source": [
    "chars"
   ]
  },
  {
   "cell_type": "code",
   "execution_count": 15,
   "id": "fb5975d9-6f3b-4ac7-9a6f-0b3bfca248f1",
   "metadata": {},
   "outputs": [
    {
     "ename": "AttributeError",
     "evalue": "'list' object has no attribute 'lower'",
     "output_type": "error",
     "traceback": [
      "\u001b[1;31m---------------------------------------------------------------------------\u001b[0m",
      "\u001b[1;31mAttributeError\u001b[0m                            Traceback (most recent call last)",
      "Cell \u001b[1;32mIn[15], line 1\u001b[0m\n\u001b[1;32m----> 1\u001b[0m \u001b[43mchars\u001b[49m\u001b[38;5;241;43m.\u001b[39;49m\u001b[43mlower\u001b[49m()\n",
      "\u001b[1;31mAttributeError\u001b[0m: 'list' object has no attribute 'lower'"
     ]
    }
   ],
   "source": [
    "chars.lower()"
   ]
  },
  {
   "cell_type": "markdown",
   "id": "94e45cbc",
   "metadata": {},
   "source": [
    "#### Question 2"
   ]
  },
  {
   "cell_type": "markdown",
   "id": "a0554e52",
   "metadata": {},
   "source": [
    "Using two types of string interpolation, and given the variable `a` that contains an integer, print out the following string for `a`:\n",
    "\n",
    "`The number ...value of a... is (or is not) even`\n",
    "\n",
    "For example, if `a` is `42`, the your code should print:\n",
    "\n",
    "`'The number 42 is even'`\n",
    "\n",
    "But if `a` is `31`, then the **same** code should print:\n",
    "\n",
    "`'The number 31 is not even'`\n"
   ]
  },
  {
   "cell_type": "code",
   "execution_count": 17,
   "id": "4791ea09-4657-4ab0-b67e-b04a0acf9963",
   "metadata": {},
   "outputs": [
    {
     "data": {
      "text/plain": [
       "'The number 42 is even'"
      ]
     },
     "execution_count": 17,
     "metadata": {},
     "output_type": "execute_result"
    }
   ],
   "source": [
    "a = 42\n",
    "f\"The number {a} {'is' if a % 2 == 0 else 'is not'} even\""
   ]
  },
  {
   "cell_type": "markdown",
   "id": "ab2c955f",
   "metadata": {},
   "source": [
    "#### Question 3"
   ]
  },
  {
   "cell_type": "markdown",
   "id": "03619dde",
   "metadata": {},
   "source": [
    "You are given two variables `a` and `b` (with `b` non-zero), and you need to generate a string that reads something like this:\n",
    "\n",
    "```\n",
    "'a / b = (result)'\n",
    "```"
   ]
  },
  {
   "cell_type": "markdown",
   "id": "76378ec5",
   "metadata": {},
   "source": [
    "But you want your string to be nicely formatted for display purposes, so you want to limit displaying possible digits after the decimal point in all your values to 4 digits."
   ]
  },
  {
   "cell_type": "code",
   "execution_count": null,
   "id": "fa40f250-da68-40c0-9179-83982b671e78",
   "metadata": {},
   "outputs": [],
   "source": [
    "a = 5\n",
    "b = 3\n",
    "f\"'{a}/{b} = ({a/b:.4f})\""
   ]
  }
 ],
 "metadata": {
  "kernelspec": {
   "display_name": "Python 3 (ipykernel)",
   "language": "python",
   "name": "python3"
  },
  "language_info": {
   "codemirror_mode": {
    "name": "ipython",
    "version": 3
   },
   "file_extension": ".py",
   "mimetype": "text/x-python",
   "name": "python",
   "nbconvert_exporter": "python",
   "pygments_lexer": "ipython3",
   "version": "3.11.7"
  }
 },
 "nbformat": 4,
 "nbformat_minor": 5
}
