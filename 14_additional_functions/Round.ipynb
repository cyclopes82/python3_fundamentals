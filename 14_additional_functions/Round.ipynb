{
 "cells": [
  {
   "cell_type": "markdown",
   "id": "5ccc5f78-548a-4d93-8510-3238c6bd3f1d",
   "metadata": {},
   "source": [
    "## ROUND"
   ]
  },
  {
   "cell_type": "code",
   "execution_count": 1,
   "id": "b9423bbb-f8a7-4643-a18b-941fafe79cc0",
   "metadata": {},
   "outputs": [
    {
     "data": {
      "text/plain": [
       "0"
      ]
     },
     "execution_count": 1,
     "metadata": {},
     "output_type": "execute_result"
    }
   ],
   "source": [
    "round(0.325)"
   ]
  },
  {
   "cell_type": "code",
   "execution_count": 2,
   "id": "eb3edf7d-1097-4e0e-9def-96b8e28c52e4",
   "metadata": {},
   "outputs": [
    {
     "data": {
      "text/plain": [
       "1"
      ]
     },
     "execution_count": 2,
     "metadata": {},
     "output_type": "execute_result"
    }
   ],
   "source": [
    "round(0.875)"
   ]
  },
  {
   "cell_type": "code",
   "execution_count": 4,
   "id": "381b13d2-594a-464e-8586-8a7c2013f7e4",
   "metadata": {},
   "outputs": [
    {
     "data": {
      "text/plain": [
       "14"
      ]
     },
     "execution_count": 4,
     "metadata": {},
     "output_type": "execute_result"
    }
   ],
   "source": [
    "round(13.5)"
   ]
  },
  {
   "cell_type": "code",
   "execution_count": 5,
   "id": "b317dc6a-05e0-4a66-94f2-261014b19e79",
   "metadata": {},
   "outputs": [
    {
     "data": {
      "text/plain": [
       "12"
      ]
     },
     "execution_count": 5,
     "metadata": {},
     "output_type": "execute_result"
    }
   ],
   "source": [
    "round(12.5)"
   ]
  },
  {
   "cell_type": "code",
   "execution_count": 6,
   "id": "133b4941-9a64-4425-aaf6-d227964fd825",
   "metadata": {},
   "outputs": [
    {
     "data": {
      "text/plain": [
       "0.1"
      ]
     },
     "execution_count": 6,
     "metadata": {},
     "output_type": "execute_result"
    }
   ],
   "source": [
    "round(0.125, 1)"
   ]
  },
  {
   "cell_type": "code",
   "execution_count": 7,
   "id": "40779d77-f162-4e17-8e09-c3b34b451850",
   "metadata": {},
   "outputs": [
    {
     "data": {
      "text/plain": [
       "0.12"
      ]
     },
     "execution_count": 7,
     "metadata": {},
     "output_type": "execute_result"
    }
   ],
   "source": [
    "round(0.125, 2)"
   ]
  },
  {
   "cell_type": "code",
   "execution_count": 8,
   "id": "f9c253bb-a241-4bc5-9096-59c9cabdc73e",
   "metadata": {},
   "outputs": [
    {
     "data": {
      "text/plain": [
       "123460"
      ]
     },
     "execution_count": 8,
     "metadata": {},
     "output_type": "execute_result"
    }
   ],
   "source": [
    "round(123456, -1)"
   ]
  },
  {
   "cell_type": "code",
   "execution_count": 9,
   "id": "bcde05c6-e2b8-403a-8012-21493d0aff7b",
   "metadata": {},
   "outputs": [
    {
     "data": {
      "text/plain": [
       "123500"
      ]
     },
     "execution_count": 9,
     "metadata": {},
     "output_type": "execute_result"
    }
   ],
   "source": [
    "round(123456, -2)"
   ]
  },
  {
   "cell_type": "code",
   "execution_count": 10,
   "id": "413b73e5-d67b-4fe0-b107-bd1167a5b4d9",
   "metadata": {},
   "outputs": [
    {
     "data": {
      "text/plain": [
       "123000"
      ]
     },
     "execution_count": 10,
     "metadata": {},
     "output_type": "execute_result"
    }
   ],
   "source": [
    "round(123456, -3)"
   ]
  },
  {
   "cell_type": "code",
   "execution_count": 11,
   "id": "b70a0aee-69d8-4bf9-bf45-5ee769f463e3",
   "metadata": {},
   "outputs": [
    {
     "data": {
      "text/plain": [
       "1240"
      ]
     },
     "execution_count": 11,
     "metadata": {},
     "output_type": "execute_result"
    }
   ],
   "source": [
    "round(1235, -1)"
   ]
  },
  {
   "cell_type": "code",
   "execution_count": 12,
   "id": "c84eafc9-f38a-4e7a-834a-aa75992448f3",
   "metadata": {},
   "outputs": [
    {
     "data": {
      "text/plain": [
       "1240"
      ]
     },
     "execution_count": 12,
     "metadata": {},
     "output_type": "execute_result"
    }
   ],
   "source": [
    "round(1245, -1)"
   ]
  },
  {
   "cell_type": "code",
   "execution_count": 13,
   "id": "f1a25281-a196-4714-9eca-16ecf994cd24",
   "metadata": {},
   "outputs": [
    {
     "data": {
      "text/plain": [
       "0.12"
      ]
     },
     "execution_count": 13,
     "metadata": {},
     "output_type": "execute_result"
    }
   ],
   "source": [
    "round(0.125, 2)"
   ]
  },
  {
   "cell_type": "code",
   "execution_count": 14,
   "id": "194f375c-45c7-4024-a515-d07199e5a786",
   "metadata": {},
   "outputs": [
    {
     "data": {
      "text/plain": [
       "0.0"
      ]
     },
     "execution_count": 14,
     "metadata": {},
     "output_type": "execute_result"
    }
   ],
   "source": [
    "round(0., 2)"
   ]
  },
  {
   "cell_type": "code",
   "execution_count": 15,
   "id": "691a16c8-c39b-4001-a409-62ac8ea097b1",
   "metadata": {},
   "outputs": [
    {
     "data": {
      "text/plain": [
       "'0.32500000000000001110'"
      ]
     },
     "execution_count": 15,
     "metadata": {},
     "output_type": "execute_result"
    }
   ],
   "source": [
    "format(0.325, '.20f')"
   ]
  },
  {
   "cell_type": "code",
   "execution_count": null,
   "id": "90f74c2d-6d45-4aa3-9742-5b974142247a",
   "metadata": {},
   "outputs": [],
   "source": []
  }
 ],
 "metadata": {
  "kernelspec": {
   "display_name": "Python 3 (ipykernel)",
   "language": "python",
   "name": "python3"
  },
  "language_info": {
   "codemirror_mode": {
    "name": "ipython",
    "version": 3
   },
   "file_extension": ".py",
   "mimetype": "text/x-python",
   "name": "python",
   "nbconvert_exporter": "python",
   "pygments_lexer": "ipython3",
   "version": "3.11.7"
  }
 },
 "nbformat": 4,
 "nbformat_minor": 5
}
