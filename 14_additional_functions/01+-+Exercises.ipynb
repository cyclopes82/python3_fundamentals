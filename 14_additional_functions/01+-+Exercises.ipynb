{
 "cells": [
  {
   "cell_type": "markdown",
   "id": "golden-ending",
   "metadata": {},
   "source": [
    "### Exercises"
   ]
  },
  {
   "cell_type": "markdown",
   "id": "minimal-layer",
   "metadata": {},
   "source": [
    "#### Question 1"
   ]
  },
  {
   "cell_type": "markdown",
   "id": "confirmed-surveillance",
   "metadata": {},
   "source": [
    "Given these two lists:"
   ]
  },
  {
   "cell_type": "code",
   "execution_count": 1,
   "id": "secure-mexican",
   "metadata": {},
   "outputs": [],
   "source": [
    "widgets = [f'w{i}' for i in range(1, 21)]\n",
    "skus = [f'sku{i}' for i in range(1, len(widgets) + 1)]"
   ]
  },
  {
   "cell_type": "markdown",
   "id": "retained-pacific",
   "metadata": {},
   "source": [
    "Write a function that uses the `zip` function to generate a dictionary with keys from the `widgets`, and values from the `skus`, i.e.:\n",
    "\n",
    "```\n",
    "{\n",
    "  'w1': 'sku1',\n",
    "  'w2': 'sku2',\n",
    "  ...\n",
    "  'w20': 'sku20'\n",
    "}\n",
    "```"
   ]
  },
  {
   "cell_type": "code",
   "execution_count": 10,
   "id": "85d9a2bd-8184-48a6-85b4-f9c02096a429",
   "metadata": {},
   "outputs": [],
   "source": [
    "widgets_dict = dict(zip(widgets, skus))\n"
   ]
  },
  {
   "cell_type": "code",
   "execution_count": 11,
   "id": "3b264ab3-7e54-4490-a0fb-afeeb854421b",
   "metadata": {},
   "outputs": [
    {
     "data": {
      "text/plain": [
       "{'w1': 'sku1',\n",
       " 'w2': 'sku2',\n",
       " 'w3': 'sku3',\n",
       " 'w4': 'sku4',\n",
       " 'w5': 'sku5',\n",
       " 'w6': 'sku6',\n",
       " 'w7': 'sku7',\n",
       " 'w8': 'sku8',\n",
       " 'w9': 'sku9',\n",
       " 'w10': 'sku10',\n",
       " 'w11': 'sku11',\n",
       " 'w12': 'sku12',\n",
       " 'w13': 'sku13',\n",
       " 'w14': 'sku14',\n",
       " 'w15': 'sku15',\n",
       " 'w16': 'sku16',\n",
       " 'w17': 'sku17',\n",
       " 'w18': 'sku18',\n",
       " 'w19': 'sku19',\n",
       " 'w20': 'sku20'}"
      ]
     },
     "execution_count": 11,
     "metadata": {},
     "output_type": "execute_result"
    }
   ],
   "source": [
    "widgets_dict"
   ]
  },
  {
   "cell_type": "code",
   "execution_count": 2,
   "id": "f3e4ef4f-cfa0-4521-b4f5-c2bf9079e545",
   "metadata": {},
   "outputs": [
    {
     "data": {
      "text/plain": [
       "['w1',\n",
       " 'w2',\n",
       " 'w3',\n",
       " 'w4',\n",
       " 'w5',\n",
       " 'w6',\n",
       " 'w7',\n",
       " 'w8',\n",
       " 'w9',\n",
       " 'w10',\n",
       " 'w11',\n",
       " 'w12',\n",
       " 'w13',\n",
       " 'w14',\n",
       " 'w15',\n",
       " 'w16',\n",
       " 'w17',\n",
       " 'w18',\n",
       " 'w19',\n",
       " 'w20']"
      ]
     },
     "execution_count": 2,
     "metadata": {},
     "output_type": "execute_result"
    }
   ],
   "source": [
    "widgets"
   ]
  },
  {
   "cell_type": "code",
   "execution_count": 3,
   "id": "9706afb8-8a05-4393-b146-dff7f8eebaed",
   "metadata": {},
   "outputs": [
    {
     "data": {
      "text/plain": [
       "['sku1',\n",
       " 'sku2',\n",
       " 'sku3',\n",
       " 'sku4',\n",
       " 'sku5',\n",
       " 'sku6',\n",
       " 'sku7',\n",
       " 'sku8',\n",
       " 'sku9',\n",
       " 'sku10',\n",
       " 'sku11',\n",
       " 'sku12',\n",
       " 'sku13',\n",
       " 'sku14',\n",
       " 'sku15',\n",
       " 'sku16',\n",
       " 'sku17',\n",
       " 'sku18',\n",
       " 'sku19',\n",
       " 'sku20']"
      ]
     },
     "execution_count": 3,
     "metadata": {},
     "output_type": "execute_result"
    }
   ],
   "source": [
    "skus"
   ]
  },
  {
   "cell_type": "markdown",
   "id": "potential-kingdom",
   "metadata": {},
   "source": [
    "#### Question 2"
   ]
  },
  {
   "cell_type": "markdown",
   "id": "expanded-payroll",
   "metadata": {},
   "source": [
    "Given the following data:"
   ]
  },
  {
   "cell_type": "code",
   "execution_count": 12,
   "id": "compatible-cabin",
   "metadata": {},
   "outputs": [],
   "source": [
    "suits = 'shdc'  # Spades, Hearts, Diamonds, Clubs\n",
    "ranks = list('23456789') + ['10', 'J', 'Q', 'K', 'A']"
   ]
  },
  {
   "cell_type": "markdown",
   "id": "studied-behavior",
   "metadata": {},
   "source": [
    "Write a function that given those two inputs, returns a list with all 52 cards, consisting of tuples `(rank, suit)`, i.e.\n",
    "\n",
    "```\n",
    "[\n",
    "  [('2', 's'), ('3', 's'), ..., ('K', 's'), ('A', 's')],\n",
    "  [('2', 'h'), ('3', 'h'), ..., ('K', 'h'), ('A', 'h')],\n",
    "  ...\n",
    "]\n",
    "```"
   ]
  },
  {
   "cell_type": "code",
   "execution_count": 25,
   "id": "3c698789-95a3-48d3-9f86-eb54c92cb936",
   "metadata": {},
   "outputs": [
    {
     "data": {
      "text/plain": [
       "[('2', 's'),\n",
       " ('3', 'h'),\n",
       " ('4', 'd'),\n",
       " ('5', 'c'),\n",
       " ('6', 's'),\n",
       " ('7', 'h'),\n",
       " ('8', 'd'),\n",
       " ('9', 'c'),\n",
       " ('10', 's'),\n",
       " ('J', 'h'),\n",
       " ('Q', 'd'),\n",
       " ('K', 'c'),\n",
       " ('A', 's')]"
      ]
     },
     "execution_count": 25,
     "metadata": {},
     "output_type": "execute_result"
    }
   ],
   "source": [
    "l1 = len(ranks)*suits\n",
    "l1\n",
    "list(zip(ranks,l1))"
   ]
  },
  {
   "cell_type": "code",
   "execution_count": 27,
   "id": "6f6029bf-b907-4142-aa17-0d28e32b8d49",
   "metadata": {},
   "outputs": [],
   "source": [
    "l=  [list(zip(ranks, len(ranks)*suit)) for suit in suits]"
   ]
  },
  {
   "cell_type": "code",
   "execution_count": 28,
   "id": "0dd434e1-5f9d-4a07-8adb-4c0cd658de9d",
   "metadata": {},
   "outputs": [
    {
     "data": {
      "text/plain": [
       "[[('2', 's'),\n",
       "  ('3', 's'),\n",
       "  ('4', 's'),\n",
       "  ('5', 's'),\n",
       "  ('6', 's'),\n",
       "  ('7', 's'),\n",
       "  ('8', 's'),\n",
       "  ('9', 's'),\n",
       "  ('10', 's'),\n",
       "  ('J', 's'),\n",
       "  ('Q', 's'),\n",
       "  ('K', 's'),\n",
       "  ('A', 's')],\n",
       " [('2', 'h'),\n",
       "  ('3', 'h'),\n",
       "  ('4', 'h'),\n",
       "  ('5', 'h'),\n",
       "  ('6', 'h'),\n",
       "  ('7', 'h'),\n",
       "  ('8', 'h'),\n",
       "  ('9', 'h'),\n",
       "  ('10', 'h'),\n",
       "  ('J', 'h'),\n",
       "  ('Q', 'h'),\n",
       "  ('K', 'h'),\n",
       "  ('A', 'h')],\n",
       " [('2', 'd'),\n",
       "  ('3', 'd'),\n",
       "  ('4', 'd'),\n",
       "  ('5', 'd'),\n",
       "  ('6', 'd'),\n",
       "  ('7', 'd'),\n",
       "  ('8', 'd'),\n",
       "  ('9', 'd'),\n",
       "  ('10', 'd'),\n",
       "  ('J', 'd'),\n",
       "  ('Q', 'd'),\n",
       "  ('K', 'd'),\n",
       "  ('A', 'd')],\n",
       " [('2', 'c'),\n",
       "  ('3', 'c'),\n",
       "  ('4', 'c'),\n",
       "  ('5', 'c'),\n",
       "  ('6', 'c'),\n",
       "  ('7', 'c'),\n",
       "  ('8', 'c'),\n",
       "  ('9', 'c'),\n",
       "  ('10', 'c'),\n",
       "  ('J', 'c'),\n",
       "  ('Q', 'c'),\n",
       "  ('K', 'c'),\n",
       "  ('A', 'c')]]"
      ]
     },
     "execution_count": 28,
     "metadata": {},
     "output_type": "execute_result"
    }
   ],
   "source": [
    "l"
   ]
  },
  {
   "cell_type": "markdown",
   "id": "global-helena",
   "metadata": {},
   "source": [
    "#### Question 3"
   ]
  },
  {
   "cell_type": "markdown",
   "id": "confused-causing",
   "metadata": {},
   "source": [
    "Write a function that receives two arguments:\n",
    "- a list of numbers\n",
    "- a keyword-only argument `reverse` that defaults to `False` and indicates an ascending sort, but a value of `True` indicates a descending sort"
   ]
  },
  {
   "cell_type": "markdown",
   "id": "reflected-cause",
   "metadata": {},
   "source": [
    "Your function should return three values:\n",
    "- a list of the numbers, but sorted (ascending/descending depending on value of `reverse`)\n",
    "- the minimum value in the list (this is not affected by the value of `reverse`)\n",
    "- the maximum value in the list (this is not affected by the value of `reverse`)"
   ]
  },
  {
   "cell_type": "code",
   "execution_count": null,
   "id": "302e4245-0440-480c-b572-119b3f344c0f",
   "metadata": {},
   "outputs": [],
   "source": [
    "def fun(l,*, reverse=False):\n",
    "    l_sorted = sorted(l, reverse=reverse)"
   ]
  }
 ],
 "metadata": {
  "kernelspec": {
   "display_name": "Python 3 (ipykernel)",
   "language": "python",
   "name": "python3"
  },
  "language_info": {
   "codemirror_mode": {
    "name": "ipython",
    "version": 3
   },
   "file_extension": ".py",
   "mimetype": "text/x-python",
   "name": "python",
   "nbconvert_exporter": "python",
   "pygments_lexer": "ipython3",
   "version": "3.11.7"
  }
 },
 "nbformat": 4,
 "nbformat_minor": 5
}
