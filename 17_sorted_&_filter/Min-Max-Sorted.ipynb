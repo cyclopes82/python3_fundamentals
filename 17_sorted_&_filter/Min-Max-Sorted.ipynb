{
 "cells": [
  {
   "cell_type": "markdown",
   "id": "d137ce7f-0619-4887-9508-f2b841f616b3",
   "metadata": {},
   "source": [
    "## MIN - MAX"
   ]
  },
  {
   "cell_type": "code",
   "execution_count": 1,
   "id": "3820d4d7-3dca-4fee-a188-36dd77ad4cb1",
   "metadata": {},
   "outputs": [],
   "source": [
    "data = [1,2,3,4,-5,-6,-7]"
   ]
  },
  {
   "cell_type": "code",
   "execution_count": 2,
   "id": "824a69e5-d30c-4c5d-8269-3f65daf0f000",
   "metadata": {},
   "outputs": [
    {
     "data": {
      "text/plain": [
       "[-7, -6, -5, 1, 2, 3, 4]"
      ]
     },
     "execution_count": 2,
     "metadata": {},
     "output_type": "execute_result"
    }
   ],
   "source": [
    "sorted(data)"
   ]
  },
  {
   "cell_type": "code",
   "execution_count": 3,
   "id": "a63023fe-effb-4808-98ff-44d56d37317f",
   "metadata": {},
   "outputs": [
    {
     "data": {
      "text/plain": [
       "-7"
      ]
     },
     "execution_count": 3,
     "metadata": {},
     "output_type": "execute_result"
    }
   ],
   "source": [
    "min(data)"
   ]
  },
  {
   "cell_type": "code",
   "execution_count": 4,
   "id": "d98f6f00-ec0d-4fbe-b0e5-e93efd6ad20f",
   "metadata": {},
   "outputs": [
    {
     "data": {
      "text/plain": [
       "4"
      ]
     },
     "execution_count": 4,
     "metadata": {},
     "output_type": "execute_result"
    }
   ],
   "source": [
    "max(data)"
   ]
  },
  {
   "cell_type": "code",
   "execution_count": 5,
   "id": "7924f27d-0082-4517-8698-6fd835cdef94",
   "metadata": {},
   "outputs": [
    {
     "data": {
      "text/plain": [
       "[1, 2, 3, 4, -5, -6, -7]"
      ]
     },
     "execution_count": 5,
     "metadata": {},
     "output_type": "execute_result"
    }
   ],
   "source": [
    "sorted(data, key=abs)"
   ]
  },
  {
   "cell_type": "code",
   "execution_count": 6,
   "id": "d59d9f5d-efc9-4196-a60b-17e23df495bd",
   "metadata": {},
   "outputs": [
    {
     "data": {
      "text/plain": [
       "1"
      ]
     },
     "execution_count": 6,
     "metadata": {},
     "output_type": "execute_result"
    }
   ],
   "source": [
    "min(data, key=abs)"
   ]
  },
  {
   "cell_type": "code",
   "execution_count": 7,
   "id": "97a33e2d-b9a6-4fe7-b4e4-547e058013c7",
   "metadata": {},
   "outputs": [
    {
     "data": {
      "text/plain": [
       "-7"
      ]
     },
     "execution_count": 7,
     "metadata": {},
     "output_type": "execute_result"
    }
   ],
   "source": [
    "max(data, key=abs)"
   ]
  },
  {
   "cell_type": "code",
   "execution_count": 8,
   "id": "d10f60d5-d7a2-4b88-8c3a-c03a0860597e",
   "metadata": {},
   "outputs": [],
   "source": [
    "data = [\n",
    "    {'date': '2020-04-09', 'symbol': 'AAPL', 'open': 268.70, 'high': 270.04, 'low': 264.70, 'close': 267.99},\n",
    "    {'date': '2020-04-09', 'symbol': 'MSFT', 'open': 166.36, 'high': 167.37, 'low': 163.33, 'close': 165.14},\n",
    "    {'date': '2020-04-09', 'symbol': 'AMZN', 'open': 2_044.30, 'high': 2_053.00, 'low': 2_017.66, 'close': 2_042.76},\n",
    "    {'date': '2020-04-09', 'symbol': 'FB', 'open': 175.90, 'high': 177.08, 'low': 171.57, 'close': 175.19}\n",
    "]\n"
   ]
  },
  {
   "cell_type": "code",
   "execution_count": 11,
   "id": "8caef34c-6163-4a0a-a11f-61f546d363cd",
   "metadata": {},
   "outputs": [
    {
     "data": {
      "text/plain": [
       "{'date': '2020-04-09',\n",
       " 'symbol': 'MSFT',\n",
       " 'open': 166.36,\n",
       " 'high': 167.37,\n",
       " 'low': 163.33,\n",
       " 'close': 165.14}"
      ]
     },
     "execution_count": 11,
     "metadata": {},
     "output_type": "execute_result"
    }
   ],
   "source": [
    "min(data, key=lambda d:d['low'])"
   ]
  },
  {
   "cell_type": "code",
   "execution_count": 12,
   "id": "f7605bfa-af53-431c-87db-41a7c09d824d",
   "metadata": {},
   "outputs": [
    {
     "data": {
      "text/plain": [
       "{'date': '2020-04-09',\n",
       " 'symbol': 'AMZN',\n",
       " 'open': 2044.3,\n",
       " 'high': 2053.0,\n",
       " 'low': 2017.66,\n",
       " 'close': 2042.76}"
      ]
     },
     "execution_count": 12,
     "metadata": {},
     "output_type": "execute_result"
    }
   ],
   "source": [
    "max(data, key=lambda d:d['low'])"
   ]
  },
  {
   "cell_type": "code",
   "execution_count": null,
   "id": "f1c693da-8608-41d4-9bd1-d47bec70032d",
   "metadata": {},
   "outputs": [],
   "source": []
  }
 ],
 "metadata": {
  "kernelspec": {
   "display_name": "Python 3 (ipykernel)",
   "language": "python",
   "name": "python3"
  },
  "language_info": {
   "codemirror_mode": {
    "name": "ipython",
    "version": 3
   },
   "file_extension": ".py",
   "mimetype": "text/x-python",
   "name": "python",
   "nbconvert_exporter": "python",
   "pygments_lexer": "ipython3",
   "version": "3.11.7"
  }
 },
 "nbformat": 4,
 "nbformat_minor": 5
}
