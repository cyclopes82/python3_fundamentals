{
 "cells": [
  {
   "cell_type": "markdown",
   "id": "29bf5367-4315-4329-a362-170b45443db6",
   "metadata": {},
   "source": [
    "### Objects"
   ]
  },
  {
   "cell_type": "code",
   "execution_count": 1,
   "id": "12fefde6-056d-47dc-9f3b-683f81cc4990",
   "metadata": {},
   "outputs": [],
   "source": [
    "class Account:\n",
    "    def __init__(self, account_number, account_type, initial_balance):\n",
    "        self.account_number = account_number\n",
    "        self.account_type = account_type\n",
    "        self.balance = initial_balance\n",
    "        \n",
    "    def deposit(self, amount):\n",
    "        # should also check that amount is a numerical value!\n",
    "        if amount > 0:\n",
    "            self.balance = self.balance + amount\n",
    "            print(f'Deposited {amount}')\n",
    "            print(f'New balance is: {self.balance}')\n",
    "        else:\n",
    "            print(f'{amount} is an invalid amount.')\n",
    "            \n",
    "    def withdraw(self, amount):\n",
    "        # should also check that amount is a numerical value!\n",
    "        if amount > 0 and amount <= self.balance:\n",
    "            self.balance = self.balance - amount\n",
    "            print(f'Withdrawal: {amount}')\n",
    "            print(f'New Balance: {self.balance}')\n",
    "        else:\n",
    "            if amount < 0:\n",
    "                print(f'{amount} is an invalid amount')\n",
    "            else:\n",
    "                print('Insufficient funds.')\n",
    "                print(f'Current balance is {self.balance}')"
   ]
  },
  {
   "cell_type": "code",
   "execution_count": 2,
   "id": "fc675143-b155-4442-9863-ed097947851d",
   "metadata": {},
   "outputs": [],
   "source": [
    "my_account = Account('123-456', 'savings', 1_000_000)"
   ]
  },
  {
   "cell_type": "code",
   "execution_count": 4,
   "id": "2045a0f0-aa66-4939-8fb9-3b021de5885c",
   "metadata": {},
   "outputs": [
    {
     "data": {
      "text/plain": [
       "'123-456'"
      ]
     },
     "execution_count": 4,
     "metadata": {},
     "output_type": "execute_result"
    }
   ],
   "source": [
    "my_account.account_number"
   ]
  },
  {
   "cell_type": "code",
   "execution_count": 5,
   "id": "d7d27338-de9b-4af4-9928-165114d80f9e",
   "metadata": {},
   "outputs": [
    {
     "data": {
      "text/plain": [
       "'savings'"
      ]
     },
     "execution_count": 5,
     "metadata": {},
     "output_type": "execute_result"
    }
   ],
   "source": [
    "my_account.account_type"
   ]
  },
  {
   "cell_type": "code",
   "execution_count": 6,
   "id": "f82f11a9-3d12-49e1-b2c8-d26c30fa464a",
   "metadata": {},
   "outputs": [
    {
     "data": {
      "text/plain": [
       "1000000"
      ]
     },
     "execution_count": 6,
     "metadata": {},
     "output_type": "execute_result"
    }
   ],
   "source": [
    "my_account.balance"
   ]
  },
  {
   "cell_type": "code",
   "execution_count": 7,
   "id": "7a98a859-7667-4a21-b980-301c8a8eb002",
   "metadata": {},
   "outputs": [
    {
     "name": "stdout",
     "output_type": "stream",
     "text": [
      "Deposited 100\n",
      "New balance is: 1000100\n"
     ]
    }
   ],
   "source": [
    "my_account.deposit(100)"
   ]
  },
  {
   "cell_type": "code",
   "execution_count": 8,
   "id": "8bf51519-a4b5-441a-bb3e-a5cd95eb43ef",
   "metadata": {},
   "outputs": [
    {
     "name": "stdout",
     "output_type": "stream",
     "text": [
      "Withdrawal: 600\n",
      "New Balance: 999500\n"
     ]
    }
   ],
   "source": [
    "my_account.withdraw(600)"
   ]
  },
  {
   "cell_type": "code",
   "execution_count": 9,
   "id": "f7d0a1cc-e718-4105-b7c9-42c31ebac06f",
   "metadata": {},
   "outputs": [
    {
     "data": {
      "text/plain": [
       "25"
      ]
     },
     "execution_count": 9,
     "metadata": {},
     "output_type": "execute_result"
    }
   ],
   "source": [
    "10 + 15"
   ]
  },
  {
   "cell_type": "code",
   "execution_count": 10,
   "id": "a86579cf-fc89-4034-bb51-c2a863989a7b",
   "metadata": {},
   "outputs": [
    {
     "data": {
      "text/plain": [
       "25"
      ]
     },
     "execution_count": 10,
     "metadata": {},
     "output_type": "execute_result"
    }
   ],
   "source": [
    "(10).__add__(15)"
   ]
  },
  {
   "cell_type": "code",
   "execution_count": 11,
   "id": "a7b66983-8c60-4731-bcee-9491a700750b",
   "metadata": {},
   "outputs": [
    {
     "data": {
      "text/plain": [
       "0.375"
      ]
     },
     "execution_count": 11,
     "metadata": {},
     "output_type": "execute_result"
    }
   ],
   "source": [
    "(0.125).__add__(0.25)"
   ]
  },
  {
   "cell_type": "code",
   "execution_count": 12,
   "id": "b538d690-9ee6-4300-aa08-c05571977f6a",
   "metadata": {},
   "outputs": [
    {
     "data": {
      "text/plain": [
       "(1, 8)"
      ]
     },
     "execution_count": 12,
     "metadata": {},
     "output_type": "execute_result"
    }
   ],
   "source": [
    "(0.125).as_integer_ratio()"
   ]
  }
 ],
 "metadata": {
  "kernelspec": {
   "display_name": "Python 3 (ipykernel)",
   "language": "python",
   "name": "python3"
  },
  "language_info": {
   "codemirror_mode": {
    "name": "ipython",
    "version": 3
   },
   "file_extension": ".py",
   "mimetype": "text/x-python",
   "name": "python",
   "nbconvert_exporter": "python",
   "pygments_lexer": "ipython3",
   "version": "3.11.7"
  }
 },
 "nbformat": 4,
 "nbformat_minor": 5
}
