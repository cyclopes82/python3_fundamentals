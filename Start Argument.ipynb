{
 "cells": [
  {
   "cell_type": "code",
   "execution_count": 2,
   "id": "ab6ce3f6-9c31-4b31-96a2-8df3e89003bd",
   "metadata": {},
   "outputs": [],
   "source": [
    "# * Arguments"
   ]
  },
  {
   "cell_type": "code",
   "execution_count": 3,
   "id": "4556b9f7-24de-4142-9275-88a60b78f829",
   "metadata": {},
   "outputs": [],
   "source": [
    "def my_func(*args):\n",
    "    print(type(args))\n",
    "    print(args)"
   ]
  },
  {
   "cell_type": "code",
   "execution_count": 4,
   "id": "a09c6777-7eb9-4635-87ae-d3869e65e640",
   "metadata": {},
   "outputs": [
    {
     "name": "stdout",
     "output_type": "stream",
     "text": [
      "<class 'tuple'>\n",
      "()\n"
     ]
    }
   ],
   "source": [
    "my_func()"
   ]
  },
  {
   "cell_type": "code",
   "execution_count": 5,
   "id": "45d02053-b5ce-40f3-9fec-e38dbbc578ec",
   "metadata": {},
   "outputs": [
    {
     "name": "stdout",
     "output_type": "stream",
     "text": [
      "<class 'tuple'>\n",
      "(1,)\n"
     ]
    }
   ],
   "source": [
    "my_func(1)"
   ]
  },
  {
   "cell_type": "code",
   "execution_count": 7,
   "id": "19109706-0d43-4300-b9a3-60270a20b2ce",
   "metadata": {},
   "outputs": [
    {
     "name": "stdout",
     "output_type": "stream",
     "text": [
      "<class 'tuple'>\n",
      "(1, 2, 3, 4, 5, [1, 2], 'abc')\n"
     ]
    }
   ],
   "source": [
    "my_func(1,2, 3, 4, 5, [1, 2], 'abc')"
   ]
  },
  {
   "cell_type": "code",
   "execution_count": 9,
   "id": "dc8ad821-e1e1-41fc-b0d6-967230b1820e",
   "metadata": {},
   "outputs": [],
   "source": [
    "def my_func(a,b, *args):\n",
    "    print(a)\n",
    "    print(b)\n",
    "    print(args)"
   ]
  },
  {
   "cell_type": "code",
   "execution_count": 10,
   "id": "b796594c-042e-4ecb-a825-9a1f0cb912bd",
   "metadata": {},
   "outputs": [
    {
     "name": "stdout",
     "output_type": "stream",
     "text": [
      "1\n",
      "2\n",
      "()\n"
     ]
    }
   ],
   "source": [
    "my_func(1,2)"
   ]
  },
  {
   "cell_type": "code",
   "execution_count": 11,
   "id": "64e363a6-e7e9-4147-ba72-bf7fdc70888f",
   "metadata": {},
   "outputs": [
    {
     "name": "stdout",
     "output_type": "stream",
     "text": [
      "1\n",
      "2\n",
      "(3, 4, 54, 5)\n"
     ]
    }
   ],
   "source": [
    "my_func(1,2,3,4,54,5)"
   ]
  },
  {
   "cell_type": "code",
   "execution_count": 12,
   "id": "de439677-f1bd-4d9b-ac89-6365810ce043",
   "metadata": {},
   "outputs": [],
   "source": [
    "def average(*values):\n",
    "    return sum(values)/len(values)\n",
    "    "
   ]
  },
  {
   "cell_type": "code",
   "execution_count": 13,
   "id": "1facdc94-ac5e-42d6-8537-6f5d18372d9e",
   "metadata": {},
   "outputs": [
    {
     "data": {
      "text/plain": [
       "1.0"
      ]
     },
     "execution_count": 13,
     "metadata": {},
     "output_type": "execute_result"
    }
   ],
   "source": [
    "average(1)"
   ]
  },
  {
   "cell_type": "code",
   "execution_count": 14,
   "id": "1b4674db-1da8-4be6-8a81-630ca3146e63",
   "metadata": {},
   "outputs": [
    {
     "data": {
      "text/plain": [
       "1.5"
      ]
     },
     "execution_count": 14,
     "metadata": {},
     "output_type": "execute_result"
    }
   ],
   "source": [
    "average(1, 2)"
   ]
  },
  {
   "cell_type": "code",
   "execution_count": 15,
   "id": "89cb2725-97c6-40e3-a986-76cca3142c4a",
   "metadata": {},
   "outputs": [
    {
     "data": {
      "text/plain": [
       "2.5"
      ]
     },
     "execution_count": 15,
     "metadata": {},
     "output_type": "execute_result"
    }
   ],
   "source": [
    "average(1,2, 3,4)"
   ]
  },
  {
   "cell_type": "code",
   "execution_count": 16,
   "id": "d392657c-5974-48b0-add4-a356080fc829",
   "metadata": {},
   "outputs": [],
   "source": [
    "def average(*values):\n",
    "    try:\n",
    "        return sum(values)/len(values)\n",
    "    except ZeroDivisionError:\n",
    "        return 0"
   ]
  },
  {
   "cell_type": "code",
   "execution_count": 17,
   "id": "8471aaa7-c449-43d7-88ee-825f4f727e54",
   "metadata": {},
   "outputs": [
    {
     "data": {
      "text/plain": [
       "3.0"
      ]
     },
     "execution_count": 17,
     "metadata": {},
     "output_type": "execute_result"
    }
   ],
   "source": [
    "average(1,2,3,4,5)"
   ]
  },
  {
   "cell_type": "code",
   "execution_count": 18,
   "id": "0d378559-0228-45fd-8350-c80ad1fafe18",
   "metadata": {},
   "outputs": [
    {
     "data": {
      "text/plain": [
       "0"
      ]
     },
     "execution_count": 18,
     "metadata": {},
     "output_type": "execute_result"
    }
   ],
   "source": [
    "average()"
   ]
  },
  {
   "cell_type": "code",
   "execution_count": 19,
   "id": "46b9c034-e313-4714-8e3f-63fde349506d",
   "metadata": {},
   "outputs": [],
   "source": [
    "def product(*values):\n",
    "    prod = 1\n",
    "    for value in values:\n",
    "        prod *= value\n",
    "    return prod"
   ]
  },
  {
   "cell_type": "code",
   "execution_count": 20,
   "id": "caf4f2f5-ed90-4334-b57d-c92370b909b4",
   "metadata": {},
   "outputs": [
    {
     "data": {
      "text/plain": [
       "6"
      ]
     },
     "execution_count": 20,
     "metadata": {},
     "output_type": "execute_result"
    }
   ],
   "source": [
    "product(1, 2 ,3 )"
   ]
  },
  {
   "cell_type": "code",
   "execution_count": 21,
   "id": "067b6b3f-dc45-46cb-9a4f-f0ee59260070",
   "metadata": {},
   "outputs": [
    {
     "data": {
      "text/plain": [
       "[1, 2, 3, 4]"
      ]
     },
     "execution_count": 21,
     "metadata": {},
     "output_type": "execute_result"
    }
   ],
   "source": [
    "l = [1,2,3,4]\n",
    "product(l)"
   ]
  },
  {
   "cell_type": "code",
   "execution_count": 22,
   "id": "5c445d6b-64b2-446c-a7be-d8d76dc42411",
   "metadata": {},
   "outputs": [
    {
     "data": {
      "text/plain": [
       "24"
      ]
     },
     "execution_count": 22,
     "metadata": {},
     "output_type": "execute_result"
    }
   ],
   "source": [
    "product(*l) "
   ]
  },
  {
   "cell_type": "code",
   "execution_count": null,
   "id": "c5990377-aee4-49b3-8ae8-5d657113107f",
   "metadata": {},
   "outputs": [],
   "source": []
  }
 ],
 "metadata": {
  "kernelspec": {
   "display_name": "Python 3 (ipykernel)",
   "language": "python",
   "name": "python3"
  },
  "language_info": {
   "codemirror_mode": {
    "name": "ipython",
    "version": 3
   },
   "file_extension": ".py",
   "mimetype": "text/x-python",
   "name": "python",
   "nbconvert_exporter": "python",
   "pygments_lexer": "ipython3",
   "version": "3.11.7"
  }
 },
 "nbformat": 4,
 "nbformat_minor": 5
}
