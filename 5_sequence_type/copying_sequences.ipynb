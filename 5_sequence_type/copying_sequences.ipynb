{
 "cells": [
  {
   "cell_type": "markdown",
   "id": "4783b2c7-132a-4d13-9cbf-f3e42bb485a7",
   "metadata": {},
   "source": [
    "## Copying Seqeunces"
   ]
  },
  {
   "cell_type": "code",
   "execution_count": 12,
   "id": "0b4ab546-2543-4f53-ab78-bb2026b7901d",
   "metadata": {},
   "outputs": [],
   "source": [
    "l1 = [1, 2, 3]"
   ]
  },
  {
   "cell_type": "code",
   "execution_count": 13,
   "id": "355b5371-cf26-480e-8958-65c49f01ef51",
   "metadata": {},
   "outputs": [
    {
     "data": {
      "text/plain": [
       "[1, 2, 3]"
      ]
     },
     "execution_count": 13,
     "metadata": {},
     "output_type": "execute_result"
    }
   ],
   "source": [
    "l2 = l1[:]\n",
    "l2"
   ]
  },
  {
   "cell_type": "code",
   "execution_count": 14,
   "id": "a7e5a67b-d61b-4a2b-9245-a5c20bb94dde",
   "metadata": {},
   "outputs": [
    {
     "data": {
      "text/plain": [
       "False"
      ]
     },
     "execution_count": 14,
     "metadata": {},
     "output_type": "execute_result"
    }
   ],
   "source": [
    "l2 is l1"
   ]
  },
  {
   "cell_type": "code",
   "execution_count": 15,
   "id": "344996c7-6c7a-4b9b-bed6-118a2fa3eae9",
   "metadata": {},
   "outputs": [
    {
     "data": {
      "text/plain": [
       "[1, 2, 3, 10]"
      ]
     },
     "execution_count": 15,
     "metadata": {},
     "output_type": "execute_result"
    }
   ],
   "source": [
    "l2.append(10)\n",
    "l2"
   ]
  },
  {
   "cell_type": "code",
   "execution_count": 16,
   "id": "0df171da-1e57-4a69-a16b-7d272eec800c",
   "metadata": {},
   "outputs": [
    {
     "data": {
      "text/plain": [
       "[1, 2, 3]"
      ]
     },
     "execution_count": 16,
     "metadata": {},
     "output_type": "execute_result"
    }
   ],
   "source": [
    "l1"
   ]
  },
  {
   "cell_type": "code",
   "execution_count": 17,
   "id": "8769a6e5-51e7-4aa7-a429-d7683dcd907d",
   "metadata": {},
   "outputs": [],
   "source": [
    "l3 = l1.copy()"
   ]
  },
  {
   "cell_type": "code",
   "execution_count": 18,
   "id": "2b49439a-e279-43ac-b35f-33d3bb30df4f",
   "metadata": {},
   "outputs": [
    {
     "data": {
      "text/plain": [
       "False"
      ]
     },
     "execution_count": 18,
     "metadata": {},
     "output_type": "execute_result"
    }
   ],
   "source": [
    "l3 is l1"
   ]
  },
  {
   "cell_type": "code",
   "execution_count": 19,
   "id": "1d64152f-0548-40dc-bf1a-7ae5de7f0532",
   "metadata": {},
   "outputs": [
    {
     "data": {
      "text/plain": [
       "[1, 2, 3, 10]"
      ]
     },
     "execution_count": 19,
     "metadata": {},
     "output_type": "execute_result"
    }
   ],
   "source": [
    "l3.append(10)\n",
    "l3"
   ]
  },
  {
   "cell_type": "code",
   "execution_count": 20,
   "id": "74f3d608-de68-4ee6-845e-2c4e5f684224",
   "metadata": {},
   "outputs": [
    {
     "data": {
      "text/plain": [
       "[1, 2, 3]"
      ]
     },
     "execution_count": 20,
     "metadata": {},
     "output_type": "execute_result"
    }
   ],
   "source": [
    "l1"
   ]
  },
  {
   "cell_type": "code",
   "execution_count": 22,
   "id": "72ffbacb-d71a-4830-9fc6-3595740d5ceb",
   "metadata": {},
   "outputs": [
    {
     "data": {
      "text/plain": [
       "[[1, 0, 0], [0, 1, 0], [0, 0, 1]]"
      ]
     },
     "execution_count": 22,
     "metadata": {},
     "output_type": "execute_result"
    }
   ],
   "source": [
    "m1 = [[1, 0, 0], [0, 1, 0], [0, 0 , 1]]\n",
    "m1"
   ]
  },
  {
   "cell_type": "code",
   "execution_count": 23,
   "id": "e2c0a89b-e3cc-4e73-907e-4e1fdb641c24",
   "metadata": {},
   "outputs": [
    {
     "data": {
      "text/plain": [
       "[[1, 0, 0], [0, 1, 0], [0, 0, 1]]"
      ]
     },
     "execution_count": 23,
     "metadata": {},
     "output_type": "execute_result"
    }
   ],
   "source": [
    "m2 = m1.copy()\n",
    "m2"
   ]
  },
  {
   "cell_type": "code",
   "execution_count": 24,
   "id": "5542b430-e627-4fc4-9c47-f0449a279afa",
   "metadata": {
    "jp-MarkdownHeadingCollapsed": true
   },
   "outputs": [
    {
     "data": {
      "text/plain": [
       "[[1, 0, 0], [0, 1, 0], [0, 0, 1], [10, 20, 30]]"
      ]
     },
     "execution_count": 24,
     "metadata": {},
     "output_type": "execute_result"
    }
   ],
   "source": [
    "m2.append([10, 20, 30])\n",
    "m2"
   ]
  },
  {
   "cell_type": "code",
   "execution_count": 25,
   "id": "de3933f1-e4c7-49fd-aa9d-ea92356f3c9c",
   "metadata": {},
   "outputs": [
    {
     "data": {
      "text/plain": [
       "[[1, 0, 0], [0, 1, 0], [0, 0, 1]]"
      ]
     },
     "execution_count": 25,
     "metadata": {},
     "output_type": "execute_result"
    }
   ],
   "source": [
    "m1"
   ]
  },
  {
   "cell_type": "code",
   "execution_count": 26,
   "id": "dd4eaabd-5b13-443f-97d3-1e69c3f86950",
   "metadata": {},
   "outputs": [
    {
     "data": {
      "text/plain": [
       "[1, 0, 0]"
      ]
     },
     "execution_count": 26,
     "metadata": {},
     "output_type": "execute_result"
    }
   ],
   "source": [
    "m1[0]"
   ]
  },
  {
   "cell_type": "code",
   "execution_count": 27,
   "id": "553b9ebe-a32d-4f77-975f-7bed58d4f28c",
   "metadata": {},
   "outputs": [
    {
     "data": {
      "text/plain": [
       "[1, 0, 0]"
      ]
     },
     "execution_count": 27,
     "metadata": {},
     "output_type": "execute_result"
    }
   ],
   "source": [
    "m2[0]"
   ]
  },
  {
   "cell_type": "code",
   "execution_count": 28,
   "id": "ae804109-1855-4f55-8159-4e9b28c3d512",
   "metadata": {},
   "outputs": [
    {
     "data": {
      "text/plain": [
       "True"
      ]
     },
     "execution_count": 28,
     "metadata": {},
     "output_type": "execute_result"
    }
   ],
   "source": [
    "m1[0] is m2[0]"
   ]
  },
  {
   "cell_type": "code",
   "execution_count": 29,
   "id": "5f83b17b-6ca1-401e-9fd3-8540a20981a9",
   "metadata": {},
   "outputs": [
    {
     "data": {
      "text/plain": [
       "[[1, 0, 0, -1], [0, 1, 0], [0, 0, 1], [10, 20, 30]]"
      ]
     },
     "execution_count": 29,
     "metadata": {},
     "output_type": "execute_result"
    }
   ],
   "source": [
    "m2[0].append(-1)\n",
    "m2"
   ]
  },
  {
   "cell_type": "code",
   "execution_count": 30,
   "id": "df3e8de7-8e3e-425a-99c0-ffc763e7ad0e",
   "metadata": {},
   "outputs": [
    {
     "data": {
      "text/plain": [
       "[[1, 0, 0, -1], [0, 1, 0], [0, 0, 1]]"
      ]
     },
     "execution_count": 30,
     "metadata": {},
     "output_type": "execute_result"
    }
   ],
   "source": [
    "m1"
   ]
  },
  {
   "cell_type": "code",
   "execution_count": 31,
   "id": "4b5cedbc-5783-4cd5-8f95-b8be58503cac",
   "metadata": {},
   "outputs": [],
   "source": [
    "from copy import deepcopy"
   ]
  },
  {
   "cell_type": "code",
   "execution_count": 34,
   "id": "03413b86-2b38-4053-b1ed-026528d9e179",
   "metadata": {},
   "outputs": [],
   "source": [
    "m1 = [[1, 0, 0], [0, 1, 0], [0, 0 , 1]]"
   ]
  },
  {
   "cell_type": "code",
   "execution_count": 35,
   "id": "b5a5c64e-1e98-4680-8b28-8340d62386b9",
   "metadata": {},
   "outputs": [],
   "source": [
    "m2 = deepcopy(m1)"
   ]
  },
  {
   "cell_type": "code",
   "execution_count": 36,
   "id": "29dfbdeb-01bb-41d6-ab66-550dd34d58bc",
   "metadata": {},
   "outputs": [
    {
     "data": {
      "text/plain": [
       "[[1, 0, 0], [0, 1, 0], [0, 0, 1]]"
      ]
     },
     "execution_count": 36,
     "metadata": {},
     "output_type": "execute_result"
    }
   ],
   "source": [
    "m1"
   ]
  },
  {
   "cell_type": "code",
   "execution_count": 37,
   "id": "f963bafd-c522-4f74-a538-1ea66de03b28",
   "metadata": {},
   "outputs": [
    {
     "data": {
      "text/plain": [
       "[[1, 0, 0], [0, 1, 0], [0, 0, 1]]"
      ]
     },
     "execution_count": 37,
     "metadata": {},
     "output_type": "execute_result"
    }
   ],
   "source": [
    "m2"
   ]
  },
  {
   "cell_type": "code",
   "execution_count": 38,
   "id": "b8581bc9-6e9d-4b7b-90f4-0cd3b00c3d34",
   "metadata": {},
   "outputs": [
    {
     "data": {
      "text/plain": [
       "False"
      ]
     },
     "execution_count": 38,
     "metadata": {},
     "output_type": "execute_result"
    }
   ],
   "source": [
    "m1 is m2"
   ]
  },
  {
   "cell_type": "code",
   "execution_count": 39,
   "id": "c65c4ffa-c65a-41bf-94b4-fa315b666ecd",
   "metadata": {},
   "outputs": [
    {
     "data": {
      "text/plain": [
       "[1, 0, 0]"
      ]
     },
     "execution_count": 39,
     "metadata": {},
     "output_type": "execute_result"
    }
   ],
   "source": [
    "m1[0]"
   ]
  },
  {
   "cell_type": "code",
   "execution_count": 40,
   "id": "e873900b-8030-49e7-a40a-9dfe601504c0",
   "metadata": {},
   "outputs": [
    {
     "data": {
      "text/plain": [
       "[1, 0, 0]"
      ]
     },
     "execution_count": 40,
     "metadata": {},
     "output_type": "execute_result"
    }
   ],
   "source": [
    "m2[0]"
   ]
  },
  {
   "cell_type": "code",
   "execution_count": 41,
   "id": "08611ef5-54dd-4930-8ca0-2d1423504dd0",
   "metadata": {},
   "outputs": [
    {
     "data": {
      "text/plain": [
       "False"
      ]
     },
     "execution_count": 41,
     "metadata": {},
     "output_type": "execute_result"
    }
   ],
   "source": [
    "m1[0] is m2[0]"
   ]
  },
  {
   "cell_type": "code",
   "execution_count": 43,
   "id": "685f5288-7ec8-418f-904d-3254593d3f4a",
   "metadata": {},
   "outputs": [],
   "source": [
    "m2[0].append(10)"
   ]
  },
  {
   "cell_type": "code",
   "execution_count": 44,
   "id": "d994cb8e-5f6b-4299-af4f-47d868721200",
   "metadata": {},
   "outputs": [
    {
     "data": {
      "text/plain": [
       "[1, 0, 0]"
      ]
     },
     "execution_count": 44,
     "metadata": {},
     "output_type": "execute_result"
    }
   ],
   "source": [
    "m1[0]"
   ]
  },
  {
   "cell_type": "code",
   "execution_count": 45,
   "id": "3430249a-dc4b-4bf7-920c-3eafc3987a57",
   "metadata": {},
   "outputs": [
    {
     "data": {
      "text/plain": [
       "[1, 0, 0, 10, 10]"
      ]
     },
     "execution_count": 45,
     "metadata": {},
     "output_type": "execute_result"
    }
   ],
   "source": [
    "m2[0]"
   ]
  }
 ],
 "metadata": {
  "kernelspec": {
   "display_name": "Python 3 (ipykernel)",
   "language": "python",
   "name": "python3"
  },
  "language_info": {
   "codemirror_mode": {
    "name": "ipython",
    "version": 3
   },
   "file_extension": ".py",
   "mimetype": "text/x-python",
   "name": "python",
   "nbconvert_exporter": "python",
   "pygments_lexer": "ipython3",
   "version": "3.11.7"
  }
 },
 "nbformat": 4,
 "nbformat_minor": 5
}
