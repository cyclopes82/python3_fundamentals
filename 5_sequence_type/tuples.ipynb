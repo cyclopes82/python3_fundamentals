{
 "cells": [
  {
   "cell_type": "markdown",
   "id": "9e7bb953-17c2-448a-9124-e7e03771e608",
   "metadata": {},
   "source": [
    "# Tuples"
   ]
  },
  {
   "cell_type": "code",
   "execution_count": 1,
   "id": "97270535-74eb-4be2-8c16-bc7474acb03a",
   "metadata": {},
   "outputs": [],
   "source": [
    "t = (1, 2, 3)"
   ]
  },
  {
   "cell_type": "code",
   "execution_count": 2,
   "id": "763ef8b0-ad51-40d4-8ee1-2fd41c517639",
   "metadata": {},
   "outputs": [
    {
     "data": {
      "text/plain": [
       "tuple"
      ]
     },
     "execution_count": 2,
     "metadata": {},
     "output_type": "execute_result"
    }
   ],
   "source": [
    "type(t)"
   ]
  },
  {
   "cell_type": "code",
   "execution_count": 4,
   "id": "8ea03046-c08c-4e5d-afd9-5bd93a6328e4",
   "metadata": {},
   "outputs": [
    {
     "data": {
      "text/plain": [
       "2"
      ]
     },
     "execution_count": 4,
     "metadata": {},
     "output_type": "execute_result"
    }
   ],
   "source": [
    "t[1]"
   ]
  },
  {
   "cell_type": "code",
   "execution_count": 5,
   "id": "f85afe31-7bc7-406d-b06a-b4949ca70112",
   "metadata": {},
   "outputs": [
    {
     "data": {
      "text/plain": [
       "3"
      ]
     },
     "execution_count": 5,
     "metadata": {},
     "output_type": "execute_result"
    }
   ],
   "source": [
    "t[-1]"
   ]
  },
  {
   "cell_type": "code",
   "execution_count": 6,
   "id": "56056547-faa4-4e9c-afd9-c4d58ca81f92",
   "metadata": {},
   "outputs": [
    {
     "data": {
      "text/plain": [
       "3"
      ]
     },
     "execution_count": 6,
     "metadata": {},
     "output_type": "execute_result"
    }
   ],
   "source": [
    "len(t)"
   ]
  },
  {
   "cell_type": "code",
   "execution_count": 7,
   "id": "2b414a1a-696a-4001-b826-be7d41f46150",
   "metadata": {},
   "outputs": [
    {
     "data": {
      "text/plain": [
       "3"
      ]
     },
     "execution_count": 7,
     "metadata": {},
     "output_type": "execute_result"
    }
   ],
   "source": [
    "t[len(t) -1 ]"
   ]
  },
  {
   "cell_type": "code",
   "execution_count": 8,
   "id": "4364e3f6-8ed9-4d8b-9cc7-6173a0d8c59b",
   "metadata": {},
   "outputs": [
    {
     "ename": "TypeError",
     "evalue": "'tuple' object does not support item assignment",
     "output_type": "error",
     "traceback": [
      "\u001b[1;31m---------------------------------------------------------------------------\u001b[0m",
      "\u001b[1;31mTypeError\u001b[0m                                 Traceback (most recent call last)",
      "Cell \u001b[1;32mIn[8], line 1\u001b[0m\n\u001b[1;32m----> 1\u001b[0m \u001b[43mt\u001b[49m\u001b[43m[\u001b[49m\u001b[38;5;241;43m2\u001b[39;49m\u001b[43m]\u001b[49m \u001b[38;5;241m=\u001b[39m \u001b[38;5;241m40\u001b[39m\n",
      "\u001b[1;31mTypeError\u001b[0m: 'tuple' object does not support item assignment"
     ]
    }
   ],
   "source": [
    "t[2] = 40"
   ]
  },
  {
   "cell_type": "code",
   "execution_count": 9,
   "id": "86e24144-19e7-4ee0-92ee-3820fccd732e",
   "metadata": {},
   "outputs": [],
   "source": [
    "t = ([1, 2], [3, 4])"
   ]
  },
  {
   "cell_type": "code",
   "execution_count": 10,
   "id": "85a417f2-fb54-4704-a835-1988dea65db5",
   "metadata": {},
   "outputs": [
    {
     "data": {
      "text/plain": [
       "[1, 2]"
      ]
     },
     "execution_count": 10,
     "metadata": {},
     "output_type": "execute_result"
    }
   ],
   "source": [
    "t[0]"
   ]
  },
  {
   "cell_type": "code",
   "execution_count": 11,
   "id": "7f3a2b02-46a7-4d1e-9677-d817ad7dd0de",
   "metadata": {},
   "outputs": [],
   "source": [
    "t[0][1] = 200"
   ]
  },
  {
   "cell_type": "code",
   "execution_count": 12,
   "id": "bba04c14-85ee-451f-a4e6-7f1ed43399d7",
   "metadata": {},
   "outputs": [
    {
     "data": {
      "text/plain": [
       "([1, 200], [3, 4])"
      ]
     },
     "execution_count": 12,
     "metadata": {},
     "output_type": "execute_result"
    }
   ],
   "source": [
    "t"
   ]
  },
  {
   "cell_type": "code",
   "execution_count": 13,
   "id": "96175e6e-a83e-4642-840f-b75d59d29e20",
   "metadata": {},
   "outputs": [],
   "source": [
    "t = 1, 2"
   ]
  },
  {
   "cell_type": "code",
   "execution_count": 14,
   "id": "ac9f73b6-8561-40b4-8112-16d20741e888",
   "metadata": {},
   "outputs": [
    {
     "data": {
      "text/plain": [
       "(1, 2)"
      ]
     },
     "execution_count": 14,
     "metadata": {},
     "output_type": "execute_result"
    }
   ],
   "source": [
    "t"
   ]
  },
  {
   "cell_type": "code",
   "execution_count": 16,
   "id": "aca8a5a1-5a15-4845-bfc1-3465b5ad0735",
   "metadata": {},
   "outputs": [
    {
     "data": {
      "text/plain": [
       "(10, 20, 30)"
      ]
     },
     "execution_count": 16,
     "metadata": {},
     "output_type": "execute_result"
    }
   ],
   "source": [
    "a = 10\n",
    "b = 20\n",
    "\n",
    "a, b, a + b"
   ]
  },
  {
   "cell_type": "code",
   "execution_count": 17,
   "id": "907d6cef-5f6f-45a7-9831-8b34044e628e",
   "metadata": {},
   "outputs": [],
   "source": [
    "t = ()"
   ]
  },
  {
   "cell_type": "code",
   "execution_count": 18,
   "id": "46686d05-4bb8-4260-a59e-9579a96eb22d",
   "metadata": {},
   "outputs": [],
   "source": [
    "t = tuple()"
   ]
  },
  {
   "cell_type": "code",
   "execution_count": 20,
   "id": "b41c83da-b886-4969-82cd-4337b2b10005",
   "metadata": {},
   "outputs": [],
   "source": [
    "l = [1, 2, 3]\n",
    "t = tuple(l)"
   ]
  },
  {
   "cell_type": "code",
   "execution_count": 21,
   "id": "87d46b31-5bef-461f-8c75-f2ba7c75c31d",
   "metadata": {},
   "outputs": [],
   "source": [
    "l = list(t)"
   ]
  },
  {
   "cell_type": "code",
   "execution_count": 22,
   "id": "f2dc784a-6f10-490e-8428-1d8ca6eec071",
   "metadata": {},
   "outputs": [
    {
     "data": {
      "text/plain": [
       "[1, 2, 3]"
      ]
     },
     "execution_count": 22,
     "metadata": {},
     "output_type": "execute_result"
    }
   ],
   "source": [
    "l"
   ]
  }
 ],
 "metadata": {
  "kernelspec": {
   "display_name": "Python 3 (ipykernel)",
   "language": "python",
   "name": "python3"
  },
  "language_info": {
   "codemirror_mode": {
    "name": "ipython",
    "version": 3
   },
   "file_extension": ".py",
   "mimetype": "text/x-python",
   "name": "python",
   "nbconvert_exporter": "python",
   "pygments_lexer": "ipython3",
   "version": "3.11.7"
  }
 },
 "nbformat": 4,
 "nbformat_minor": 5
}
