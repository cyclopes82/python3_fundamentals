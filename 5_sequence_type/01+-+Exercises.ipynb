{
 "cells": [
  {
   "cell_type": "markdown",
   "id": "animal-encoding",
   "metadata": {},
   "source": [
    "### Exercises"
   ]
  },
  {
   "cell_type": "markdown",
   "id": "editorial-church",
   "metadata": {},
   "source": [
    "#### Exercise 1"
   ]
  },
  {
   "cell_type": "markdown",
   "id": "coordinated-victor",
   "metadata": {},
   "source": [
    "Given the following string:"
   ]
  },
  {
   "cell_type": "code",
   "execution_count": 2,
   "id": "quick-symposium",
   "metadata": {},
   "outputs": [],
   "source": [
    "s = 'FfEeDdCcBbAa'"
   ]
  },
  {
   "cell_type": "markdown",
   "id": "imported-crown",
   "metadata": {},
   "source": [
    "Create two new variables that contain just the lower and upper case letters of `s` respectively, in the correct alphabetical order, i.e:\n",
    "\n",
    "- `'ABCDEF'`\n",
    "- `'abcdef'`"
   ]
  },
  {
   "cell_type": "code",
   "execution_count": 3,
   "id": "39255a0d-1368-43a9-a4ac-a4f40927685a",
   "metadata": {},
   "outputs": [
    {
     "data": {
      "text/plain": [
       "'aAbBcCdDeEfF'"
      ]
     },
     "execution_count": 3,
     "metadata": {},
     "output_type": "execute_result"
    }
   ],
   "source": [
    "reversed = s[::-1]\n",
    "reversed"
   ]
  },
  {
   "cell_type": "code",
   "execution_count": 4,
   "id": "94104f23-b35a-4278-bfd8-05cd4b401ee7",
   "metadata": {},
   "outputs": [
    {
     "data": {
      "text/plain": [
       "'abcdef'"
      ]
     },
     "execution_count": 4,
     "metadata": {},
     "output_type": "execute_result"
    }
   ],
   "source": [
    "reversed[::2]"
   ]
  },
  {
   "cell_type": "code",
   "execution_count": 6,
   "id": "93f1ab43-2c03-4121-8de6-19538bfcad32",
   "metadata": {},
   "outputs": [
    {
     "data": {
      "text/plain": [
       "'ABCDEF'"
      ]
     },
     "execution_count": 6,
     "metadata": {},
     "output_type": "execute_result"
    }
   ],
   "source": [
    "reversed[1::2]"
   ]
  },
  {
   "cell_type": "code",
   "execution_count": 8,
   "id": "292a311a-4762-438b-b202-c74d0c2af519",
   "metadata": {},
   "outputs": [
    {
     "data": {
      "text/plain": [
       "'abcdef'"
      ]
     },
     "execution_count": 8,
     "metadata": {},
     "output_type": "execute_result"
    }
   ],
   "source": [
    "s[-1::-2]"
   ]
  },
  {
   "cell_type": "code",
   "execution_count": 9,
   "id": "025e825b-1700-4399-a130-45e5397f0581",
   "metadata": {},
   "outputs": [
    {
     "data": {
      "text/plain": [
       "'ABCDEF'"
      ]
     },
     "execution_count": 9,
     "metadata": {},
     "output_type": "execute_result"
    }
   ],
   "source": [
    "s[-2::-2]"
   ]
  },
  {
   "cell_type": "markdown",
   "id": "copyrighted-spirit",
   "metadata": {},
   "source": [
    "#### Exercise 2"
   ]
  },
  {
   "cell_type": "markdown",
   "id": "powered-gazette",
   "metadata": {},
   "source": [
    "Concatenate the following tuples into a single one, but replacing the odd values with zeros (`0`)."
   ]
  },
  {
   "cell_type": "code",
   "execution_count": 14,
   "id": "interior-webster",
   "metadata": {},
   "outputs": [],
   "source": [
    "t1 = 1, 2, 3, 4, 5, 6\n",
    "t2 = 7, 8, 9, 10\n",
    "t3 = 11, 12, 13, 14, 15, 16, 17"
   ]
  },
  {
   "cell_type": "markdown",
   "id": "allied-ladder",
   "metadata": {},
   "source": [
    "You can assume that every tuple is a sequence of consecutive integers starting with an odd integer.\n",
    "\n",
    "Try to write your code to be as generic as possible."
   ]
  },
  {
   "cell_type": "code",
   "execution_count": 24,
   "id": "579b9cee-1aae-4d0e-91fc-679cf0f8ba1d",
   "metadata": {},
   "outputs": [
    {
     "data": {
      "text/plain": [
       "(0, 2, 0, 4, 0, 6, 0, 8, 0, 10, 0, 12, 0, 14, 0, 16, 0)"
      ]
     },
     "execution_count": 24,
     "metadata": {},
     "output_type": "execute_result"
    }
   ],
   "source": [
    "l1 = list(t1)\n",
    "l2 = list(t2)\n",
    "l3 = list(t3)\n",
    "\n",
    "l1[::2] = [0] * len(l1[::2])\n",
    "l2[::2] = [0] * len(l2[::2])\n",
    "l3[::2] = [0] * len(l3[::2])\n",
    "\n",
    "result = tuple(l1 + l2 + l3)\n",
    "result"
   ]
  },
  {
   "cell_type": "markdown",
   "id": "controversial-crest",
   "metadata": {},
   "source": [
    "#### Exercise 3"
   ]
  },
  {
   "cell_type": "markdown",
   "id": "lucky-divide",
   "metadata": {},
   "source": [
    "Given the following matrix:"
   ]
  },
  {
   "cell_type": "code",
   "execution_count": 12,
   "id": "israeli-porter",
   "metadata": {},
   "outputs": [],
   "source": [
    "m = [\n",
    "    [0, 0, 0],\n",
    "    [0, 0, 0],\n",
    "    [0, 0, 0]\n",
    "]"
   ]
  },
  {
   "cell_type": "markdown",
   "id": "independent-blast",
   "metadata": {},
   "source": [
    "Make this matrix into an identity matrix (setting the diagonal elements to `1`).\n",
    "\n",
    "Your code should *mutate* `m`."
   ]
  },
  {
   "cell_type": "code",
   "execution_count": 13,
   "id": "0d3fb32d-bd4c-4d0d-8398-e6e9a64f86d5",
   "metadata": {},
   "outputs": [
    {
     "data": {
      "text/plain": [
       "[[1, 0, 0], [0, 1, 0], [0, 0, 1]]"
      ]
     },
     "execution_count": 13,
     "metadata": {},
     "output_type": "execute_result"
    }
   ],
   "source": [
    "m[0][0]=1\n",
    "m[1][1]=1\n",
    "m[2][2]=1\n",
    "m"
   ]
  },
  {
   "cell_type": "markdown",
   "id": "damaged-response",
   "metadata": {},
   "source": [
    "#### Exercise 4"
   ]
  },
  {
   "cell_type": "markdown",
   "id": "separated-april",
   "metadata": {},
   "source": [
    "Do the same problem as Exercise 3, but do **not** mutate `m`."
   ]
  },
  {
   "cell_type": "code",
   "execution_count": 36,
   "id": "50795089-5d36-4164-9ca1-1edb42464d80",
   "metadata": {},
   "outputs": [],
   "source": [
    "m = [\n",
    "    [0, 0, 0],\n",
    "    [0, 0, 0],\n",
    "    [0, 0, 0]\n",
    "]"
   ]
  },
  {
   "cell_type": "code",
   "execution_count": 26,
   "id": "dad6c6f8-a383-43c7-be3b-d514a9563a24",
   "metadata": {},
   "outputs": [],
   "source": [
    "m_copy = m.copy()"
   ]
  },
  {
   "cell_type": "code",
   "execution_count": 28,
   "id": "c131ab58-e4e4-487d-a433-b71a01435a16",
   "metadata": {},
   "outputs": [],
   "source": [
    "m_copy[0][0]=1\n",
    "m_copy[1][1]=1\n",
    "m_copy[2][2]=1"
   ]
  },
  {
   "cell_type": "code",
   "execution_count": 29,
   "id": "82f0db15-7cb4-4395-9cb9-a86327e3334d",
   "metadata": {},
   "outputs": [
    {
     "data": {
      "text/plain": [
       "[[1, 0, 0], [0, 1, 0], [0, 0, 1]]"
      ]
     },
     "execution_count": 29,
     "metadata": {},
     "output_type": "execute_result"
    }
   ],
   "source": [
    "m_copy"
   ]
  },
  {
   "cell_type": "code",
   "execution_count": 30,
   "id": "ae51493c-3843-45ec-a988-feb44ec6b496",
   "metadata": {},
   "outputs": [
    {
     "data": {
      "text/plain": [
       "[[1, 0, 0], [0, 1, 0], [0, 0, 1]]"
      ]
     },
     "execution_count": 30,
     "metadata": {},
     "output_type": "execute_result"
    }
   ],
   "source": [
    "m"
   ]
  },
  {
   "cell_type": "code",
   "execution_count": 37,
   "id": "4d4650f3-eb38-4d76-b07d-fd69696977c4",
   "metadata": {},
   "outputs": [],
   "source": [
    "from copy import deepcopy"
   ]
  },
  {
   "cell_type": "code",
   "execution_count": 39,
   "id": "029e4737-f824-4b3e-ae1d-ee052b95bdff",
   "metadata": {},
   "outputs": [],
   "source": [
    "m = [\n",
    "    [0, 0, 0],\n",
    "    [0, 0, 0],\n",
    "    [0, 0, 0]\n",
    "]"
   ]
  },
  {
   "cell_type": "code",
   "execution_count": 40,
   "id": "8e44fa8e-907e-41bb-ad25-0094eb313c8e",
   "metadata": {},
   "outputs": [],
   "source": [
    "m_deepcopy = deepcopy(m)"
   ]
  },
  {
   "cell_type": "code",
   "execution_count": 41,
   "id": "cd7b6b65-8bc9-443b-828c-9c81787be4aa",
   "metadata": {},
   "outputs": [],
   "source": [
    "m_deepcopy[0][0] = 1\n",
    "m_deepcopy[1][1] = 1\n",
    "m_deepcopy[2][2] = 1"
   ]
  },
  {
   "cell_type": "code",
   "execution_count": 42,
   "id": "a8d09f3a-446a-4592-9cd7-3dc8f8a20fb6",
   "metadata": {},
   "outputs": [
    {
     "data": {
      "text/plain": [
       "[[1, 0, 0], [0, 1, 0], [0, 0, 1]]"
      ]
     },
     "execution_count": 42,
     "metadata": {},
     "output_type": "execute_result"
    }
   ],
   "source": [
    "m_deepcopy"
   ]
  },
  {
   "cell_type": "code",
   "execution_count": 43,
   "id": "3e63f8ce-58e8-40c0-823b-861a1dbf5a8a",
   "metadata": {},
   "outputs": [
    {
     "data": {
      "text/plain": [
       "[[0, 0, 0], [0, 0, 0], [0, 0, 0]]"
      ]
     },
     "execution_count": 43,
     "metadata": {},
     "output_type": "execute_result"
    }
   ],
   "source": [
    "m"
   ]
  },
  {
   "cell_type": "markdown",
   "id": "respiratory-uniform",
   "metadata": {},
   "source": [
    "#### Exercise 5"
   ]
  },
  {
   "cell_type": "markdown",
   "id": "heard-hurricane",
   "metadata": {},
   "source": [
    "You are given a list of tuples that each contain 4 values:\n",
    "\n",
    "```\n",
    "(amount, currency, target_currency, exchange_rate)\n",
    "```"
   ]
  },
  {
   "cell_type": "code",
   "execution_count": 44,
   "id": "positive-welcome",
   "metadata": {},
   "outputs": [],
   "source": [
    "data = [\n",
    "    (100, 'USD', 'EUR', 0.83),\n",
    "    (100, 'USD', 'CAD', 1.27),\n",
    "    (100, 'CAD', 'EUR', 0.65)\n",
    "]"
   ]
  },
  {
   "cell_type": "markdown",
   "id": "alternative-lobby",
   "metadata": {},
   "source": [
    "Write code that converts the `amount` from its `currency` to its `target_currency` using the `exchange_rate` (which is the exchange rate for `1` `currency` in `target_currency`).\n",
    "\n",
    "Try to make your code as generic as possible (we'll see later how to use loops so we don't have to write three separate statements).\n",
    "\n",
    "In other words, you'll need three blocks of code here that are essentially almost identical.\n",
    "\n",
    "Use unpacking to assign the values in each tuple to variables.\n",
    "\n",
    "Your result for each row should print something like this out:\n",
    "\n",
    "```\n",
    "100 USD = 83 EUR\n",
    "```"
   ]
  },
  {
   "cell_type": "code",
   "execution_count": 49,
   "id": "f4ef2bcb-96d3-4de8-a8bd-e8abc249faf0",
   "metadata": {},
   "outputs": [
    {
     "data": {
      "text/plain": [
       "'100 USD = 83.0 EUR'"
      ]
     },
     "execution_count": 49,
     "metadata": {},
     "output_type": "execute_result"
    }
   ],
   "source": [
    "amount, currency, target_currency, exchange_rate = data[0]\n",
    "str(amount) + \" \" + currency + \" = \" + str(amount * exchange_rate) + \" \" + target_currency"
   ]
  },
  {
   "cell_type": "code",
   "execution_count": 50,
   "id": "5519a4f6-879d-4f0b-8897-805bfe15933e",
   "metadata": {},
   "outputs": [
    {
     "data": {
      "text/plain": [
       "'100 USD = 127.0 CAD'"
      ]
     },
     "execution_count": 50,
     "metadata": {},
     "output_type": "execute_result"
    }
   ],
   "source": [
    "amount, currency, target_currency, exchange_rate = data[1]\n",
    "str(amount) + \" \" + currency + \" = \" + str(amount * exchange_rate) + \" \" + target_currency"
   ]
  },
  {
   "cell_type": "code",
   "execution_count": 51,
   "id": "0542de45-d20d-4484-824a-8b40785b9bd1",
   "metadata": {},
   "outputs": [
    {
     "data": {
      "text/plain": [
       "'100 CAD = 65.0 EUR'"
      ]
     },
     "execution_count": 51,
     "metadata": {},
     "output_type": "execute_result"
    }
   ],
   "source": [
    "amount, currency, target_currency, exchange_rate = data[2]\n",
    "str(amount) + \" \" + currency + \" = \" + str(amount * exchange_rate) + \" \" + target_currency"
   ]
  }
 ],
 "metadata": {
  "kernelspec": {
   "display_name": "Python 3 (ipykernel)",
   "language": "python",
   "name": "python3"
  },
  "language_info": {
   "codemirror_mode": {
    "name": "ipython",
    "version": 3
   },
   "file_extension": ".py",
   "mimetype": "text/x-python",
   "name": "python",
   "nbconvert_exporter": "python",
   "pygments_lexer": "ipython3",
   "version": "3.11.7"
  }
 },
 "nbformat": 4,
 "nbformat_minor": 5
}
