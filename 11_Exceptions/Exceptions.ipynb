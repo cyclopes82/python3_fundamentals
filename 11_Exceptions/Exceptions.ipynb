{
 "cells": [
  {
   "cell_type": "markdown",
   "id": "7c1ffaba-f4fd-43e9-ad83-9ae5d2340dbf",
   "metadata": {},
   "source": [
    "## Raising Exceptions"
   ]
  },
  {
   "cell_type": "code",
   "execution_count": 1,
   "id": "57e0b021-6c34-4b56-b3c1-274041249833",
   "metadata": {},
   "outputs": [
    {
     "ename": "ZeroDivisionError",
     "evalue": "division by zero",
     "output_type": "error",
     "traceback": [
      "\u001b[1;31m---------------------------------------------------------------------------\u001b[0m",
      "\u001b[1;31mZeroDivisionError\u001b[0m                         Traceback (most recent call last)",
      "Cell \u001b[1;32mIn[1], line 3\u001b[0m\n\u001b[0;32m      1\u001b[0m a \u001b[38;5;241m=\u001b[39m \u001b[38;5;241m1\u001b[39m\n\u001b[0;32m      2\u001b[0m b \u001b[38;5;241m=\u001b[39m \u001b[38;5;241m0\u001b[39m\n\u001b[1;32m----> 3\u001b[0m result \u001b[38;5;241m=\u001b[39m \u001b[43ma\u001b[49m\u001b[38;5;241;43m/\u001b[39;49m\u001b[43mb\u001b[49m\n\u001b[0;32m      4\u001b[0m \u001b[38;5;28mprint\u001b[39m(result)\n",
      "\u001b[1;31mZeroDivisionError\u001b[0m: division by zero"
     ]
    }
   ],
   "source": [
    "a = 1\n",
    "b = 0\n",
    "result = a/b\n",
    "print(result)"
   ]
  },
  {
   "cell_type": "code",
   "execution_count": 2,
   "id": "9d960164-cd7a-4b88-b093-bd8a96af98c2",
   "metadata": {},
   "outputs": [],
   "source": [
    "ex = ValueError('Name must be at least 5 characters long.')"
   ]
  },
  {
   "cell_type": "code",
   "execution_count": 3,
   "id": "74460190-875c-43e1-bc12-8093ccec8048",
   "metadata": {},
   "outputs": [
    {
     "data": {
      "text/plain": [
       "\"ValueError('Name must be at least 5 characters long.')\""
      ]
     },
     "execution_count": 3,
     "metadata": {},
     "output_type": "execute_result"
    }
   ],
   "source": [
    "repr(ex)"
   ]
  },
  {
   "cell_type": "code",
   "execution_count": 4,
   "id": "7ffb6629-1641-413e-a23f-0e815425d495",
   "metadata": {},
   "outputs": [
    {
     "name": "stdout",
     "output_type": "stream",
     "text": [
      "Name must be at least 5 characters long.\n"
     ]
    }
   ],
   "source": [
    "print(ex)"
   ]
  },
  {
   "cell_type": "code",
   "execution_count": 5,
   "id": "1fbcf999-4bad-4474-afd3-deb53f80ab9d",
   "metadata": {},
   "outputs": [
    {
     "data": {
      "text/plain": [
       "'Name must be at least 5 characters long.'"
      ]
     },
     "execution_count": 5,
     "metadata": {},
     "output_type": "execute_result"
    }
   ],
   "source": [
    "str(ex)"
   ]
  },
  {
   "cell_type": "code",
   "execution_count": 7,
   "id": "413888a7-a340-40cf-af93-0646cdb9130b",
   "metadata": {},
   "outputs": [
    {
     "name": "stdin",
     "output_type": "stream",
     "text": [
      "Enter name (5 chars min):  john\n"
     ]
    },
    {
     "ename": "ValueError",
     "evalue": "john is not 5 characters or more ...",
     "output_type": "error",
     "traceback": [
      "\u001b[1;31m---------------------------------------------------------------------------\u001b[0m",
      "\u001b[1;31mValueError\u001b[0m                                Traceback (most recent call last)",
      "Cell \u001b[1;32mIn[7], line 4\u001b[0m\n\u001b[0;32m      1\u001b[0m name \u001b[38;5;241m=\u001b[39m \u001b[38;5;28minput\u001b[39m(\u001b[38;5;124m'\u001b[39m\u001b[38;5;124mEnter name (5 chars min): \u001b[39m\u001b[38;5;124m'\u001b[39m)\n\u001b[0;32m      3\u001b[0m \u001b[38;5;28;01mif\u001b[39;00m \u001b[38;5;28mlen\u001b[39m(name) \u001b[38;5;241m<\u001b[39m \u001b[38;5;241m5\u001b[39m:\n\u001b[1;32m----> 4\u001b[0m     \u001b[38;5;28;01mraise\u001b[39;00m \u001b[38;5;167;01mValueError\u001b[39;00m(\u001b[38;5;124mf\u001b[39m\u001b[38;5;124m\"\u001b[39m\u001b[38;5;132;01m{\u001b[39;00mname\u001b[38;5;132;01m}\u001b[39;00m\u001b[38;5;124m is not 5 characters or more ...\u001b[39m\u001b[38;5;124m\"\u001b[39m)\n\u001b[0;32m      6\u001b[0m \u001b[38;5;28mprint\u001b[39m(\u001b[38;5;124mf\u001b[39m\u001b[38;5;124m\"\u001b[39m\u001b[38;5;124mHello \u001b[39m\u001b[38;5;132;01m{\u001b[39;00mname\u001b[38;5;132;01m}\u001b[39;00m\u001b[38;5;124m!!\u001b[39m\u001b[38;5;124m\"\u001b[39m)\n",
      "\u001b[1;31mValueError\u001b[0m: john is not 5 characters or more ..."
     ]
    }
   ],
   "source": [
    "name = input('Enter name (5 chars min): ')\n",
    "\n",
    "if len(name) < 5:\n",
    "    raise ValueError(f\"{name} is not 5 characters or more ...\")\n",
    "\n",
    "print(f\"Hello {name}!!\")"
   ]
  },
  {
   "cell_type": "code",
   "execution_count": 9,
   "id": "23474681-e73a-4dbc-a366-960851964813",
   "metadata": {},
   "outputs": [
    {
     "name": "stdin",
     "output_type": "stream",
     "text": [
      "Enter name (5 chars min):  Pratik\n"
     ]
    },
    {
     "name": "stdout",
     "output_type": "stream",
     "text": [
      "Hello Pratik!!\n"
     ]
    }
   ],
   "source": [
    "name = input('Enter name (5 chars min): ')\n",
    "\n",
    "if len(name) < 5:\n",
    "    raise ValueError(f\"{name} is not 5 characters or more ...\")\n",
    "\n",
    "print(f\"Hello {name}!!\")"
   ]
  },
  {
   "cell_type": "code",
   "execution_count": 12,
   "id": "ee3546e9-495e-4b6d-a3f8-6b1817ab6b51",
   "metadata": {},
   "outputs": [
    {
     "data": {
      "text/plain": [
       "True"
      ]
     },
     "execution_count": 12,
     "metadata": {},
     "output_type": "execute_result"
    }
   ],
   "source": [
    "issubclass(KeyError, LookupError)"
   ]
  },
  {
   "cell_type": "code",
   "execution_count": 13,
   "id": "f2b6461a-f42a-4632-8933-f4838377b015",
   "metadata": {},
   "outputs": [
    {
     "data": {
      "text/plain": [
       "True"
      ]
     },
     "execution_count": 13,
     "metadata": {},
     "output_type": "execute_result"
    }
   ],
   "source": [
    "issubclass(KeyError, Exception)"
   ]
  },
  {
   "cell_type": "code",
   "execution_count": 14,
   "id": "806e79c0-c7cc-48eb-affa-96513c200636",
   "metadata": {},
   "outputs": [],
   "source": [
    "ex = KeyError('Some Message')"
   ]
  },
  {
   "cell_type": "code",
   "execution_count": 15,
   "id": "cadf3946-1bb9-495d-86e4-f5d0e6058eb2",
   "metadata": {},
   "outputs": [
    {
     "data": {
      "text/plain": [
       "KeyError"
      ]
     },
     "execution_count": 15,
     "metadata": {},
     "output_type": "execute_result"
    }
   ],
   "source": [
    "type(ex)"
   ]
  },
  {
   "cell_type": "code",
   "execution_count": 16,
   "id": "8fd9f70b-c33c-43d5-b6c7-2faa045fd4ca",
   "metadata": {},
   "outputs": [
    {
     "data": {
      "text/plain": [
       "True"
      ]
     },
     "execution_count": 16,
     "metadata": {},
     "output_type": "execute_result"
    }
   ],
   "source": [
    "isinstance(ex, KeyError)"
   ]
  },
  {
   "cell_type": "code",
   "execution_count": null,
   "id": "11523fd1-4def-49c8-a549-c995033d46c1",
   "metadata": {},
   "outputs": [],
   "source": []
  }
 ],
 "metadata": {
  "kernelspec": {
   "display_name": "Python 3 (ipykernel)",
   "language": "python",
   "name": "python3"
  },
  "language_info": {
   "codemirror_mode": {
    "name": "ipython",
    "version": 3
   },
   "file_extension": ".py",
   "mimetype": "text/x-python",
   "name": "python",
   "nbconvert_exporter": "python",
   "pygments_lexer": "ipython3",
   "version": "3.11.7"
  }
 },
 "nbformat": 4,
 "nbformat_minor": 5
}
