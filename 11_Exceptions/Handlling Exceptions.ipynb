{
 "cells": [
  {
   "cell_type": "code",
   "execution_count": 3,
   "id": "f1cf6ac0-9969-4faf-9b0e-944e11fcc62f",
   "metadata": {},
   "outputs": [
    {
     "name": "stdout",
     "output_type": "stream",
     "text": [
      "Exception Occured: <class 'ZeroDivisionError'>, division by zero\n",
      "Code continues running here....\n"
     ]
    }
   ],
   "source": [
    "try:\n",
    "    1/0\n",
    "except ZeroDivisionError as ex:\n",
    "    print(f'Exception Occured: {type(ex)}, {ex}')\n",
    "print('Code continues running here....')"
   ]
  },
  {
   "cell_type": "code",
   "execution_count": 4,
   "id": "d439433a-f11f-4475-9faf-054b3ca94e9d",
   "metadata": {},
   "outputs": [
    {
     "ename": "ZeroDivisionError",
     "evalue": "division by zero",
     "output_type": "error",
     "traceback": [
      "\u001b[1;31m---------------------------------------------------------------------------\u001b[0m",
      "\u001b[1;31mZeroDivisionError\u001b[0m                         Traceback (most recent call last)",
      "Cell \u001b[1;32mIn[4], line 1\u001b[0m\n\u001b[1;32m----> 1\u001b[0m \u001b[38;5;241;43m1\u001b[39;49m\u001b[38;5;241;43m/\u001b[39;49m\u001b[38;5;241;43m0\u001b[39;49m\n",
      "\u001b[1;31mZeroDivisionError\u001b[0m: division by zero"
     ]
    }
   ],
   "source": [
    "1/0"
   ]
  },
  {
   "cell_type": "code",
   "execution_count": 7,
   "id": "4e97c123-9785-4153-a5b9-7d80a7297786",
   "metadata": {},
   "outputs": [
    {
     "name": "stdout",
     "output_type": "stream",
     "text": [
      "5\n",
      "4\n",
      "3\n",
      "2\n",
      "1\n",
      "all done\n"
     ]
    }
   ],
   "source": [
    "l = [1, 2 , 3, 4, 5]\n",
    "\n",
    "while len(l)> 0:\n",
    "    print(l.pop())\n",
    "\n",
    "print('all done')"
   ]
  },
  {
   "cell_type": "code",
   "execution_count": 8,
   "id": "b11eaa9d-e3b7-40be-886f-a08c360f2c96",
   "metadata": {},
   "outputs": [
    {
     "name": "stdout",
     "output_type": "stream",
     "text": [
      "5\n",
      "4\n",
      "3\n",
      "2\n",
      "1\n"
     ]
    },
    {
     "ename": "IndexError",
     "evalue": "pop from empty list",
     "output_type": "error",
     "traceback": [
      "\u001b[1;31m---------------------------------------------------------------------------\u001b[0m",
      "\u001b[1;31mIndexError\u001b[0m                                Traceback (most recent call last)",
      "Cell \u001b[1;32mIn[8], line 4\u001b[0m\n\u001b[0;32m      1\u001b[0m l \u001b[38;5;241m=\u001b[39m [\u001b[38;5;241m1\u001b[39m, \u001b[38;5;241m2\u001b[39m , \u001b[38;5;241m3\u001b[39m, \u001b[38;5;241m4\u001b[39m, \u001b[38;5;241m5\u001b[39m]\n\u001b[0;32m      3\u001b[0m \u001b[38;5;28;01mwhile\u001b[39;00m \u001b[38;5;28;01mTrue\u001b[39;00m:\n\u001b[1;32m----> 4\u001b[0m     \u001b[38;5;28mprint\u001b[39m(\u001b[43ml\u001b[49m\u001b[38;5;241;43m.\u001b[39;49m\u001b[43mpop\u001b[49m\u001b[43m(\u001b[49m\u001b[43m)\u001b[49m)\n\u001b[0;32m      6\u001b[0m \u001b[38;5;28mprint\u001b[39m(\u001b[38;5;124m'\u001b[39m\u001b[38;5;124mall done\u001b[39m\u001b[38;5;124m'\u001b[39m)\n",
      "\u001b[1;31mIndexError\u001b[0m: pop from empty list"
     ]
    }
   ],
   "source": [
    "l = [1, 2 , 3, 4, 5]\n",
    "\n",
    "while True:\n",
    "    print(l.pop())\n",
    "\n",
    "print('all done')"
   ]
  },
  {
   "cell_type": "code",
   "execution_count": 10,
   "id": "ed5e160b-5b9d-4aa3-b17d-ce7fe6ab2bbb",
   "metadata": {},
   "outputs": [
    {
     "name": "stdout",
     "output_type": "stream",
     "text": [
      "5\n",
      "4\n",
      "3\n",
      "2\n",
      "1\n",
      "All done - All Elements have been popped.\n",
      "code resumes here...\n"
     ]
    }
   ],
   "source": [
    "l = [1, 2 , 3, 4, 5]\n",
    "\n",
    "try:\n",
    "    while True:\n",
    "        print(l.pop())\n",
    "except IndexError:\n",
    "    print('All done - All Elements have been popped.')\n",
    "\n",
    "print('code resumes here...')"
   ]
  },
  {
   "cell_type": "code",
   "execution_count": 11,
   "id": "3e98539d-2eb4-4687-bc43-d76d18ddc125",
   "metadata": {},
   "outputs": [
    {
     "name": "stdout",
     "output_type": "stream",
     "text": [
      "5\n",
      "4\n",
      "3\n",
      "2\n",
      "1\n",
      "Something unexected happened.\n",
      "code resumes here...\n"
     ]
    }
   ],
   "source": [
    "l = [1, 2 , 3, 4, 5]\n",
    "\n",
    "try:\n",
    "    while True:\n",
    "        print(l.pop())\n",
    "except Exception:\n",
    "    print('Something unexected happened.')\n",
    "\n",
    "print('code resumes here...')"
   ]
  },
  {
   "cell_type": "code",
   "execution_count": 13,
   "id": "3c00dc6c-4c70-46e0-ae9e-e623dc02bbb1",
   "metadata": {},
   "outputs": [
    {
     "name": "stdout",
     "output_type": "stream",
     "text": [
      "Something unexected happened.\n",
      "code resumes here...\n"
     ]
    },
    {
     "data": {
      "text/plain": [
       "(1, 2, 3, 4, 5)"
      ]
     },
     "execution_count": 13,
     "metadata": {},
     "output_type": "execute_result"
    }
   ],
   "source": [
    "l = (1, 2 , 3, 4, 5) #Tuple\n",
    "\n",
    "try:\n",
    "    while True:\n",
    "        print(l.pop())\n",
    "except Exception:\n",
    "    print('Something unexected happened.')\n",
    "\n",
    "print('code resumes here...')\n",
    "l"
   ]
  },
  {
   "cell_type": "code",
   "execution_count": 14,
   "id": "b7cd4c48-c040-4062-bed4-4b638c0a48c5",
   "metadata": {},
   "outputs": [
    {
     "ename": "TypeError",
     "evalue": "unsupported operand type(s) for +: 'int' and 'str'",
     "output_type": "error",
     "traceback": [
      "\u001b[1;31m---------------------------------------------------------------------------\u001b[0m",
      "\u001b[1;31mTypeError\u001b[0m                                 Traceback (most recent call last)",
      "Cell \u001b[1;32mIn[14], line 1\u001b[0m\n\u001b[1;32m----> 1\u001b[0m \u001b[38;5;241;43m10\u001b[39;49m\u001b[43m \u001b[49m\u001b[38;5;241;43m+\u001b[39;49m\u001b[43m \u001b[49m\u001b[38;5;124;43m'\u001b[39;49m\u001b[38;5;124;43mabc\u001b[39;49m\u001b[38;5;124;43m'\u001b[39;49m\n",
      "\u001b[1;31mTypeError\u001b[0m: unsupported operand type(s) for +: 'int' and 'str'"
     ]
    }
   ],
   "source": [
    "10 + 'abc'"
   ]
  },
  {
   "cell_type": "code",
   "execution_count": 17,
   "id": "89def6e1-6fa9-4702-83ae-a997f9382e2c",
   "metadata": {},
   "outputs": [
    {
     "name": "stdout",
     "output_type": "stream",
     "text": [
      "average = 0\n"
     ]
    }
   ],
   "source": [
    "#data = [10, 20, 10 , 10 , 5, 10]\n",
    "\n",
    "data = []\n",
    "if len(data) == 0:\n",
    "    average = 0\n",
    "else:\n",
    "    sum_data = 0\n",
    "    count_data = 0\n",
    "    \n",
    "    for element in data:\n",
    "        sum_data += element\n",
    "        count_data +=1\n",
    "    \n",
    "    average = sum_data/count_data\n",
    "print(f'average = {average}')"
   ]
  },
  {
   "cell_type": "code",
   "execution_count": 24,
   "id": "38e970ac-7947-4d21-b5e1-0fbe46912bc8",
   "metadata": {},
   "outputs": [
    {
     "name": "stdout",
     "output_type": "stream",
     "text": [
      "average = 0\n"
     ]
    }
   ],
   "source": [
    "data = [10, 20, 'abc']\n",
    "\n",
    "sum_data = 0\n",
    "count_data = 0\n",
    "\n",
    "try:\n",
    "    for element in data:\n",
    "        sum_data += element\n",
    "        count_data +=1\n",
    "        average = sum_data/count_data\n",
    "except ZeroDivisionError:\n",
    "    average = 0\n",
    "except TypeError:\n",
    "    average = 0\n",
    "\n",
    "print(f'average = {average}')"
   ]
  },
  {
   "cell_type": "code",
   "execution_count": 26,
   "id": "22b88f0b-68ca-407f-9a65-309c43a17a4d",
   "metadata": {},
   "outputs": [
    {
     "name": "stdout",
     "output_type": "stream",
     "text": [
      "average = 15.0\n"
     ]
    }
   ],
   "source": [
    "data = [10, 20, 'abc']\n",
    "\n",
    "sum_data = 0\n",
    "count_data = 0\n",
    "\n",
    "try:\n",
    "    for element in data:\n",
    "        try:\n",
    "            sum_data += element\n",
    "            count_data +=1\n",
    "        except TypeError:\n",
    "            #skip \n",
    "            pass\n",
    "        average = sum_data/count_data\n",
    "except ZeroDivisionError:\n",
    "    average = 0\n",
    "\n",
    "\n",
    "print(f'average = {average}')"
   ]
  },
  {
   "cell_type": "code",
   "execution_count": 29,
   "id": "260e7489-ae38-4bbf-883c-00690e709607",
   "metadata": {},
   "outputs": [
    {
     "name": "stdout",
     "output_type": "stream",
     "text": [
      "Logging error: division by zero\n"
     ]
    },
    {
     "ename": "ZeroDivisionError",
     "evalue": "division by zero",
     "output_type": "error",
     "traceback": [
      "\u001b[1;31m---------------------------------------------------------------------------\u001b[0m",
      "\u001b[1;31mZeroDivisionError\u001b[0m                         Traceback (most recent call last)",
      "Cell \u001b[1;32mIn[29], line 2\u001b[0m\n\u001b[0;32m      1\u001b[0m \u001b[38;5;28;01mtry\u001b[39;00m:\n\u001b[1;32m----> 2\u001b[0m     \u001b[38;5;241;43m1\u001b[39;49m\u001b[38;5;241;43m/\u001b[39;49m\u001b[38;5;241;43m0\u001b[39;49m\n\u001b[0;32m      3\u001b[0m \u001b[38;5;28;01mexcept\u001b[39;00m \u001b[38;5;167;01mException\u001b[39;00m \u001b[38;5;28;01mas\u001b[39;00m ex:\n\u001b[0;32m      4\u001b[0m     \u001b[38;5;28mprint\u001b[39m(\u001b[38;5;124mf\u001b[39m\u001b[38;5;124m\"\u001b[39m\u001b[38;5;124mLogging error: \u001b[39m\u001b[38;5;132;01m{\u001b[39;00mex\u001b[38;5;132;01m}\u001b[39;00m\u001b[38;5;124m\"\u001b[39m)\n",
      "\u001b[1;31mZeroDivisionError\u001b[0m: division by zero"
     ]
    }
   ],
   "source": [
    "try:\n",
    "    1/0\n",
    "except Exception as ex:\n",
    "    print(f\"Logging error: {ex}\")\n",
    "    raise\n",
    "\n",
    "print('Program Still running...')"
   ]
  },
  {
   "cell_type": "code",
   "execution_count": 30,
   "id": "9807db0a-5215-47ec-bbb8-cdfb916efd4a",
   "metadata": {},
   "outputs": [
    {
     "name": "stdout",
     "output_type": "stream",
     "text": [
      "handled a Value Error: Custom Message\n",
      "This is always Executed\n",
      "all done\n"
     ]
    }
   ],
   "source": [
    "try:\n",
    "    raise ValueError('Custom Message')\n",
    "except ValueError as ex:\n",
    "    print(f'handled a Value Error: {ex}')\n",
    "finally:\n",
    "    print('This is always Executed')\n",
    "\n",
    "print('all done')"
   ]
  },
  {
   "cell_type": "code",
   "execution_count": 31,
   "id": "94707748-3be9-47fd-9da9-803b26778732",
   "metadata": {},
   "outputs": [
    {
     "name": "stdout",
     "output_type": "stream",
     "text": [
      "This is always Executed\n"
     ]
    },
    {
     "ename": "TypeError",
     "evalue": "Custom Message",
     "output_type": "error",
     "traceback": [
      "\u001b[1;31m---------------------------------------------------------------------------\u001b[0m",
      "\u001b[1;31mTypeError\u001b[0m                                 Traceback (most recent call last)",
      "Cell \u001b[1;32mIn[31], line 2\u001b[0m\n\u001b[0;32m      1\u001b[0m \u001b[38;5;28;01mtry\u001b[39;00m:\n\u001b[1;32m----> 2\u001b[0m     \u001b[38;5;28;01mraise\u001b[39;00m \u001b[38;5;167;01mTypeError\u001b[39;00m(\u001b[38;5;124m'\u001b[39m\u001b[38;5;124mCustom Message\u001b[39m\u001b[38;5;124m'\u001b[39m)\n\u001b[0;32m      3\u001b[0m \u001b[38;5;28;01mexcept\u001b[39;00m \u001b[38;5;167;01mValueError\u001b[39;00m \u001b[38;5;28;01mas\u001b[39;00m ex:\n\u001b[0;32m      4\u001b[0m     \u001b[38;5;28mprint\u001b[39m(\u001b[38;5;124mf\u001b[39m\u001b[38;5;124m'\u001b[39m\u001b[38;5;124mhandled a Value Error: \u001b[39m\u001b[38;5;132;01m{\u001b[39;00mex\u001b[38;5;132;01m}\u001b[39;00m\u001b[38;5;124m'\u001b[39m)\n",
      "\u001b[1;31mTypeError\u001b[0m: Custom Message"
     ]
    }
   ],
   "source": [
    "try:\n",
    "    raise TypeError('Custom Message')\n",
    "except ValueError as ex:\n",
    "    print(f'handled a Value Error: {ex}')\n",
    "finally:\n",
    "    print('This is always Executed')\n",
    "\n",
    "print('all done')"
   ]
  },
  {
   "cell_type": "code",
   "execution_count": 32,
   "id": "30a1019e-b598-402e-bb1c-16603fa08669",
   "metadata": {},
   "outputs": [
    {
     "name": "stdout",
     "output_type": "stream",
     "text": [
      "handled a Value Error: Custom Message\n",
      "This is always Executed\n"
     ]
    },
    {
     "ename": "TypeError",
     "evalue": "Changing to a type error",
     "output_type": "error",
     "traceback": [
      "\u001b[1;31m---------------------------------------------------------------------------\u001b[0m",
      "\u001b[1;31mValueError\u001b[0m                                Traceback (most recent call last)",
      "Cell \u001b[1;32mIn[32], line 2\u001b[0m\n\u001b[0;32m      1\u001b[0m \u001b[38;5;28;01mtry\u001b[39;00m:\n\u001b[1;32m----> 2\u001b[0m     \u001b[38;5;28;01mraise\u001b[39;00m \u001b[38;5;167;01mValueError\u001b[39;00m(\u001b[38;5;124m'\u001b[39m\u001b[38;5;124mCustom Message\u001b[39m\u001b[38;5;124m'\u001b[39m)\n\u001b[0;32m      3\u001b[0m \u001b[38;5;28;01mexcept\u001b[39;00m \u001b[38;5;167;01mValueError\u001b[39;00m \u001b[38;5;28;01mas\u001b[39;00m ex:\n",
      "\u001b[1;31mValueError\u001b[0m: Custom Message",
      "\nDuring handling of the above exception, another exception occurred:\n",
      "\u001b[1;31mTypeError\u001b[0m                                 Traceback (most recent call last)",
      "Cell \u001b[1;32mIn[32], line 5\u001b[0m\n\u001b[0;32m      3\u001b[0m \u001b[38;5;28;01mexcept\u001b[39;00m \u001b[38;5;167;01mValueError\u001b[39;00m \u001b[38;5;28;01mas\u001b[39;00m ex:\n\u001b[0;32m      4\u001b[0m     \u001b[38;5;28mprint\u001b[39m(\u001b[38;5;124mf\u001b[39m\u001b[38;5;124m'\u001b[39m\u001b[38;5;124mhandled a Value Error: \u001b[39m\u001b[38;5;132;01m{\u001b[39;00mex\u001b[38;5;132;01m}\u001b[39;00m\u001b[38;5;124m'\u001b[39m)\n\u001b[1;32m----> 5\u001b[0m     \u001b[38;5;28;01mraise\u001b[39;00m \u001b[38;5;167;01mTypeError\u001b[39;00m(\u001b[38;5;124m'\u001b[39m\u001b[38;5;124mChanging to a type error\u001b[39m\u001b[38;5;124m'\u001b[39m)\n\u001b[0;32m      6\u001b[0m \u001b[38;5;28;01mfinally\u001b[39;00m:\n\u001b[0;32m      7\u001b[0m     \u001b[38;5;28mprint\u001b[39m(\u001b[38;5;124m'\u001b[39m\u001b[38;5;124mThis is always Executed\u001b[39m\u001b[38;5;124m'\u001b[39m)\n",
      "\u001b[1;31mTypeError\u001b[0m: Changing to a type error"
     ]
    }
   ],
   "source": [
    "try:\n",
    "    raise ValueError('Custom Message')\n",
    "except ValueError as ex:\n",
    "    print(f'handled a Value Error: {ex}')\n",
    "    raise TypeError('Changing to a type error')\n",
    "finally:\n",
    "    print('This is always Executed')\n",
    "\n",
    "print('all done')"
   ]
  },
  {
   "cell_type": "code",
   "execution_count": null,
   "id": "982c9d71-857d-494e-bfa6-22f5ef9b048a",
   "metadata": {},
   "outputs": [],
   "source": []
  }
 ],
 "metadata": {
  "kernelspec": {
   "display_name": "Python 3 (ipykernel)",
   "language": "python",
   "name": "python3"
  },
  "language_info": {
   "codemirror_mode": {
    "name": "ipython",
    "version": 3
   },
   "file_extension": ".py",
   "mimetype": "text/x-python",
   "name": "python",
   "nbconvert_exporter": "python",
   "pygments_lexer": "ipython3",
   "version": "3.11.7"
  }
 },
 "nbformat": 4,
 "nbformat_minor": 5
}
