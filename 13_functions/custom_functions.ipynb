{
 "cells": [
  {
   "cell_type": "markdown",
   "id": "53297f9b-6f8b-4595-9977-240ff423f450",
   "metadata": {},
   "source": [
    "## CUSTOM FUNCTIONS"
   ]
  },
  {
   "cell_type": "code",
   "execution_count": 1,
   "id": "db49514f-a58e-45f7-b903-ccf44ddeab7a",
   "metadata": {},
   "outputs": [],
   "source": [
    "def say_hello():\n",
    "    return 'hello!'"
   ]
  },
  {
   "cell_type": "code",
   "execution_count": 2,
   "id": "21844971-dfcf-4c84-b1a4-bc9fd276a1a3",
   "metadata": {},
   "outputs": [
    {
     "data": {
      "text/plain": [
       "{'__name__': '__main__',\n",
       " '__doc__': 'Automatically created module for IPython interactive environment',\n",
       " '__package__': None,\n",
       " '__loader__': None,\n",
       " '__spec__': None,\n",
       " '__builtin__': <module 'builtins' (built-in)>,\n",
       " '__builtins__': <module 'builtins' (built-in)>,\n",
       " '_ih': ['', \"def say_hello():\\n    return 'hello!'\", 'globals()'],\n",
       " '_oh': {},\n",
       " '_dh': [WindowsPath('D:/Learning/Current/python3_fundamentals/13_functions')],\n",
       " 'In': ['', \"def say_hello():\\n    return 'hello!'\", 'globals()'],\n",
       " 'Out': {},\n",
       " 'get_ipython': <bound method InteractiveShell.get_ipython of <ipykernel.zmqshell.ZMQInteractiveShell object at 0x000001FE3CEB0050>>,\n",
       " 'exit': <IPython.core.autocall.ZMQExitAutocall at 0x1fe3ceb8a50>,\n",
       " 'quit': <IPython.core.autocall.ZMQExitAutocall at 0x1fe3ceb8a50>,\n",
       " 'open': <function io.open(file, mode='r', buffering=-1, encoding=None, errors=None, newline=None, closefd=True, opener=None)>,\n",
       " '_': '',\n",
       " '__': '',\n",
       " '___': '',\n",
       " '__session__': 'D:\\\\Learning\\\\Current\\\\python3_fundamentals\\\\13_functions\\\\Untitled.ipynb',\n",
       " '_i': \"def say_hello():\\n    return 'hello!'\",\n",
       " '_ii': '',\n",
       " '_iii': '',\n",
       " '_i1': \"def say_hello():\\n    return 'hello!'\",\n",
       " 'say_hello': <function __main__.say_hello()>,\n",
       " '_i2': 'globals()'}"
      ]
     },
     "execution_count": 2,
     "metadata": {},
     "output_type": "execute_result"
    }
   ],
   "source": [
    "globals()"
   ]
  },
  {
   "cell_type": "code",
   "execution_count": 3,
   "id": "ca9e6015-f26a-4fe4-a48e-ae9a3e51dec7",
   "metadata": {},
   "outputs": [],
   "source": [
    "a =100"
   ]
  },
  {
   "cell_type": "code",
   "execution_count": 5,
   "id": "96209a9f-2dbf-484d-8d6a-18a738911a90",
   "metadata": {},
   "outputs": [
    {
     "data": {
      "text/plain": [
       "{'__name__': '__main__',\n",
       " '__doc__': 'Automatically created module for IPython interactive environment',\n",
       " '__package__': None,\n",
       " '__loader__': None,\n",
       " '__spec__': None,\n",
       " '__builtin__': <module 'builtins' (built-in)>,\n",
       " '__builtins__': <module 'builtins' (built-in)>,\n",
       " '_ih': ['',\n",
       "  \"def say_hello():\\n    return 'hello!'\",\n",
       "  'globals()',\n",
       "  'a =100',\n",
       "  'globals',\n",
       "  'globals()'],\n",
       " '_oh': {2: {...}, 4: <function globals()>},\n",
       " '_dh': [WindowsPath('D:/Learning/Current/python3_fundamentals/13_functions')],\n",
       " 'In': ['',\n",
       "  \"def say_hello():\\n    return 'hello!'\",\n",
       "  'globals()',\n",
       "  'a =100',\n",
       "  'globals',\n",
       "  'globals()'],\n",
       " 'Out': {2: {...}, 4: <function globals()>},\n",
       " 'get_ipython': <bound method InteractiveShell.get_ipython of <ipykernel.zmqshell.ZMQInteractiveShell object at 0x000001FE3CEB0050>>,\n",
       " 'exit': <IPython.core.autocall.ZMQExitAutocall at 0x1fe3ceb8a50>,\n",
       " 'quit': <IPython.core.autocall.ZMQExitAutocall at 0x1fe3ceb8a50>,\n",
       " 'open': <function io.open(file, mode='r', buffering=-1, encoding=None, errors=None, newline=None, closefd=True, opener=None)>,\n",
       " '_': <function globals()>,\n",
       " '__': {...},\n",
       " '___': '',\n",
       " '__session__': 'D:\\\\Learning\\\\Current\\\\python3_fundamentals\\\\13_functions\\\\Untitled.ipynb',\n",
       " '_i': 'globals',\n",
       " '_ii': 'a =100',\n",
       " '_iii': 'globals()',\n",
       " '_i1': \"def say_hello():\\n    return 'hello!'\",\n",
       " 'say_hello': <function __main__.say_hello()>,\n",
       " '_i2': 'globals()',\n",
       " '_2': {...},\n",
       " '_i3': 'a =100',\n",
       " 'a': 100,\n",
       " '_i4': 'globals',\n",
       " '_4': <function globals()>,\n",
       " '_i5': 'globals()'}"
      ]
     },
     "execution_count": 5,
     "metadata": {},
     "output_type": "execute_result"
    }
   ],
   "source": [
    "globals()"
   ]
  },
  {
   "cell_type": "code",
   "execution_count": 6,
   "id": "c64ef322-6c05-42c1-bcde-29e357f691c2",
   "metadata": {},
   "outputs": [
    {
     "data": {
      "text/plain": [
       "function"
      ]
     },
     "execution_count": 6,
     "metadata": {},
     "output_type": "execute_result"
    }
   ],
   "source": [
    "type(say_hello)"
   ]
  },
  {
   "cell_type": "code",
   "execution_count": 7,
   "id": "ff5d30d9-8752-4ad1-bf6c-08f1ebd387a5",
   "metadata": {},
   "outputs": [
    {
     "data": {
      "text/plain": [
       "'hello!'"
      ]
     },
     "execution_count": 7,
     "metadata": {},
     "output_type": "execute_result"
    }
   ],
   "source": [
    "result = say_hello()\n",
    "result\n"
   ]
  },
  {
   "cell_type": "code",
   "execution_count": 8,
   "id": "50db8a62-f554-427b-8648-34ba7403ea09",
   "metadata": {},
   "outputs": [],
   "source": [
    "f = say_hello()"
   ]
  },
  {
   "cell_type": "code",
   "execution_count": 10,
   "id": "8ba20c71-00aa-4a79-8546-da3db80fb895",
   "metadata": {},
   "outputs": [
    {
     "data": {
      "text/plain": [
       "{'__name__': '__main__',\n",
       " '__doc__': 'Automatically created module for IPython interactive environment',\n",
       " '__package__': None,\n",
       " '__loader__': None,\n",
       " '__spec__': None,\n",
       " '__builtin__': <module 'builtins' (built-in)>,\n",
       " '__builtins__': <module 'builtins' (built-in)>,\n",
       " '_ih': ['',\n",
       "  \"def say_hello():\\n    return 'hello!'\",\n",
       "  'globals()',\n",
       "  'a =100',\n",
       "  'globals',\n",
       "  'globals()',\n",
       "  'type(say_hello)',\n",
       "  'result = say_hello()\\nresult',\n",
       "  'f = say_hello()',\n",
       "  'globals',\n",
       "  'globals()'],\n",
       " '_oh': {2: {...},\n",
       "  4: <function globals()>,\n",
       "  5: {...},\n",
       "  6: function,\n",
       "  7: 'hello!',\n",
       "  9: <function globals()>},\n",
       " '_dh': [WindowsPath('D:/Learning/Current/python3_fundamentals/13_functions')],\n",
       " 'In': ['',\n",
       "  \"def say_hello():\\n    return 'hello!'\",\n",
       "  'globals()',\n",
       "  'a =100',\n",
       "  'globals',\n",
       "  'globals()',\n",
       "  'type(say_hello)',\n",
       "  'result = say_hello()\\nresult',\n",
       "  'f = say_hello()',\n",
       "  'globals',\n",
       "  'globals()'],\n",
       " 'Out': {2: {...},\n",
       "  4: <function globals()>,\n",
       "  5: {...},\n",
       "  6: function,\n",
       "  7: 'hello!',\n",
       "  9: <function globals()>},\n",
       " 'get_ipython': <bound method InteractiveShell.get_ipython of <ipykernel.zmqshell.ZMQInteractiveShell object at 0x000001FE3CEB0050>>,\n",
       " 'exit': <IPython.core.autocall.ZMQExitAutocall at 0x1fe3ceb8a50>,\n",
       " 'quit': <IPython.core.autocall.ZMQExitAutocall at 0x1fe3ceb8a50>,\n",
       " 'open': <function io.open(file, mode='r', buffering=-1, encoding=None, errors=None, newline=None, closefd=True, opener=None)>,\n",
       " '_': <function globals()>,\n",
       " '__': 'hello!',\n",
       " '___': function,\n",
       " '__session__': 'D:\\\\Learning\\\\Current\\\\python3_fundamentals\\\\13_functions\\\\Untitled.ipynb',\n",
       " '_i': 'globals',\n",
       " '_ii': 'f = say_hello()',\n",
       " '_iii': 'result = say_hello()\\nresult',\n",
       " '_i1': \"def say_hello():\\n    return 'hello!'\",\n",
       " 'say_hello': <function __main__.say_hello()>,\n",
       " '_i2': 'globals()',\n",
       " '_2': {...},\n",
       " '_i3': 'a =100',\n",
       " 'a': 100,\n",
       " '_i4': 'globals',\n",
       " '_4': <function globals()>,\n",
       " '_i5': 'globals()',\n",
       " '_5': {...},\n",
       " '_i6': 'type(say_hello)',\n",
       " '_6': function,\n",
       " '_i7': 'result = say_hello()\\nresult',\n",
       " 'result': 'hello!',\n",
       " '_7': 'hello!',\n",
       " '_i8': 'f = say_hello()',\n",
       " 'f': 'hello!',\n",
       " '_i9': 'globals',\n",
       " '_9': <function globals()>,\n",
       " '_i10': 'globals()'}"
      ]
     },
     "execution_count": 10,
     "metadata": {},
     "output_type": "execute_result"
    }
   ],
   "source": [
    "globals()"
   ]
  },
  {
   "cell_type": "code",
   "execution_count": 12,
   "id": "8b03be0a-bccb-47ba-8356-4ae7ba7f5596",
   "metadata": {},
   "outputs": [
    {
     "data": {
      "text/plain": [
       "True"
      ]
     },
     "execution_count": 12,
     "metadata": {},
     "output_type": "execute_result"
    }
   ],
   "source": [
    "f is result"
   ]
  },
  {
   "cell_type": "code",
   "execution_count": 15,
   "id": "43017933-3f3e-4d57-8709-70450e1b1be2",
   "metadata": {},
   "outputs": [
    {
     "data": {
      "text/plain": [
       "'say_hello'"
      ]
     },
     "execution_count": 15,
     "metadata": {},
     "output_type": "execute_result"
    }
   ],
   "source": [
    "say_hello.__name__"
   ]
  },
  {
   "cell_type": "code",
   "execution_count": 17,
   "id": "d64f9fa9-ca59-401e-a08b-4b6175b7c11e",
   "metadata": {},
   "outputs": [
    {
     "ename": "AttributeError",
     "evalue": "'str' object has no attribute '__name__'",
     "output_type": "error",
     "traceback": [
      "\u001b[1;31m---------------------------------------------------------------------------\u001b[0m",
      "\u001b[1;31mAttributeError\u001b[0m                            Traceback (most recent call last)",
      "Cell \u001b[1;32mIn[17], line 1\u001b[0m\n\u001b[1;32m----> 1\u001b[0m \u001b[43mresult\u001b[49m\u001b[38;5;241;43m.\u001b[39;49m\u001b[38;5;18;43m__name__\u001b[39;49m\n",
      "\u001b[1;31mAttributeError\u001b[0m: 'str' object has no attribute '__name__'"
     ]
    }
   ],
   "source": [
    "result.__name__"
   ]
  },
  {
   "cell_type": "code",
   "execution_count": 18,
   "id": "4e4a5926-17cb-4c4e-b108-598fb7e3b62f",
   "metadata": {},
   "outputs": [],
   "source": [
    "def add(a, b, c):\n",
    "    print(f'a={a}')\n",
    "    print(f'b={b}')\n",
    "    print(f'c={c}')\n",
    "    return a+b+c"
   ]
  },
  {
   "cell_type": "code",
   "execution_count": 20,
   "id": "47d1d0b6-52f5-4356-928a-7a24daad206a",
   "metadata": {},
   "outputs": [
    {
     "name": "stdout",
     "output_type": "stream",
     "text": [
      "a=1\n",
      "b=2\n",
      "c=3\n"
     ]
    }
   ],
   "source": [
    "result = add(1, 2, 3)"
   ]
  },
  {
   "cell_type": "code",
   "execution_count": 21,
   "id": "8f5b9cca-cb7e-4a60-adaa-0937fbad6527",
   "metadata": {},
   "outputs": [
    {
     "data": {
      "text/plain": [
       "6"
      ]
     },
     "execution_count": 21,
     "metadata": {},
     "output_type": "execute_result"
    }
   ],
   "source": [
    "result"
   ]
  },
  {
   "cell_type": "code",
   "execution_count": 22,
   "id": "26d39938-0a43-42e1-b2b2-ce9ffa3075ce",
   "metadata": {},
   "outputs": [],
   "source": [
    "def add(a, b, c):\n",
    "    print('initial namespace', locals())\n",
    "    sum_ = a + b + c\n",
    "    print('after sum_ namespace', locals())\n",
    "    return a+b+c"
   ]
  },
  {
   "cell_type": "code",
   "execution_count": 23,
   "id": "b6b26f03-e9ad-429a-b8f0-83bbc1976cb4",
   "metadata": {},
   "outputs": [
    {
     "name": "stdout",
     "output_type": "stream",
     "text": [
      "initial namespace {'a': 1, 'b': 2, 'c': 3}\n",
      "after sum_ namespace {'a': 1, 'b': 2, 'c': 3, 'sum_': 6}\n"
     ]
    },
    {
     "data": {
      "text/plain": [
       "6"
      ]
     },
     "execution_count": 23,
     "metadata": {},
     "output_type": "execute_result"
    }
   ],
   "source": [
    "add(1, 2, 3)"
   ]
  },
  {
   "cell_type": "code",
   "execution_count": 24,
   "id": "c6050f6a-a3a8-413c-9f3d-448ce87ca420",
   "metadata": {},
   "outputs": [
    {
     "name": "stdout",
     "output_type": "stream",
     "text": [
      "initial namespace {'a': 10, 'b': 20, 'c': 30}\n",
      "after sum_ namespace {'a': 10, 'b': 20, 'c': 30, 'sum_': 60}\n"
     ]
    },
    {
     "data": {
      "text/plain": [
       "60"
      ]
     },
     "execution_count": 24,
     "metadata": {},
     "output_type": "execute_result"
    }
   ],
   "source": [
    "add(10, 20, 30)"
   ]
  },
  {
   "cell_type": "code",
   "execution_count": 26,
   "id": "4159fee6-79bb-44dc-94ef-a8e7692d2dcf",
   "metadata": {},
   "outputs": [],
   "source": [
    "def find_max(a, b, c):\n",
    "    max_ = a\n",
    "    if b > max_:\n",
    "        max_ = b\n",
    "    if c > max_:\n",
    "        max_ = c\n",
    "    return max_\n"
   ]
  },
  {
   "cell_type": "code",
   "execution_count": 27,
   "id": "c2412350-e885-468c-9be3-6bb6a10c6e95",
   "metadata": {},
   "outputs": [
    {
     "data": {
      "text/plain": [
       "30"
      ]
     },
     "execution_count": 27,
     "metadata": {},
     "output_type": "execute_result"
    }
   ],
   "source": [
    "find_max(10, 20, 30)"
   ]
  },
  {
   "cell_type": "code",
   "execution_count": 28,
   "id": "aaad305c-e525-4a82-9822-ffb966da8d04",
   "metadata": {},
   "outputs": [],
   "source": [
    "from datetime import datetime"
   ]
  },
  {
   "cell_type": "code",
   "execution_count": 30,
   "id": "5a7b7d58-5140-4cf2-85e3-5bfedb03902c",
   "metadata": {},
   "outputs": [],
   "source": [
    "def log(message):\n",
    "    curr_time = datetime.utcnow().isoformat()\n",
    "    print(f'{curr_time} - [{message}]')"
   ]
  },
  {
   "cell_type": "code",
   "execution_count": 33,
   "id": "9e83d076-a2c5-4459-acd3-08d60f98886d",
   "metadata": {},
   "outputs": [
    {
     "name": "stdout",
     "output_type": "stream",
     "text": [
      "2024-02-14T07:14:37.314115 - [log 1]\n"
     ]
    }
   ],
   "source": [
    "result = log('log 1')"
   ]
  },
  {
   "cell_type": "code",
   "execution_count": 34,
   "id": "fc5f8cb8-a8d1-4012-9a29-6683513d4318",
   "metadata": {},
   "outputs": [
    {
     "data": {
      "text/plain": [
       "NoneType"
      ]
     },
     "execution_count": 34,
     "metadata": {},
     "output_type": "execute_result"
    }
   ],
   "source": [
    "type(result)"
   ]
  },
  {
   "cell_type": "code",
   "execution_count": 38,
   "id": "21499376-2083-4cdd-b876-bb4f9b9c1557",
   "metadata": {},
   "outputs": [
    {
     "name": "stdout",
     "output_type": "stream",
     "text": [
      "processing all positive elements\n"
     ]
    }
   ],
   "source": [
    "data = [1, 2, 3 ,4, 5, 6]\n",
    "\n",
    "for element in data:\n",
    "    if element < 0:\n",
    "        break\n",
    "else:\n",
    "    print('processing all positive elements')\n",
    "        "
   ]
  },
  {
   "cell_type": "code",
   "execution_count": 39,
   "id": "5881cf0f-7f40-49d7-8b16-e7be735b53b3",
   "metadata": {},
   "outputs": [],
   "source": [
    "def is_all_positive(data):\n",
    "    for element in data:\n",
    "        if element < 0:\n",
    "            return False\n",
    "    return True"
   ]
  },
  {
   "cell_type": "code",
   "execution_count": 40,
   "id": "7b160af9-46d8-445f-a140-ff6309ad3a8d",
   "metadata": {},
   "outputs": [
    {
     "data": {
      "text/plain": [
       "True"
      ]
     },
     "execution_count": 40,
     "metadata": {},
     "output_type": "execute_result"
    }
   ],
   "source": [
    "is_all_positive([1, 2, 3, 4, ])"
   ]
  },
  {
   "cell_type": "code",
   "execution_count": 41,
   "id": "4cd80578-3df1-41c8-b133-4805a8e045e3",
   "metadata": {},
   "outputs": [
    {
     "data": {
      "text/plain": [
       "False"
      ]
     },
     "execution_count": 41,
     "metadata": {},
     "output_type": "execute_result"
    }
   ],
   "source": [
    "is_all_positive([10, 3, -4, ])"
   ]
  },
  {
   "cell_type": "code",
   "execution_count": 42,
   "id": "4a0aaf43-3a66-4da3-9f11-455ef89b3061",
   "metadata": {},
   "outputs": [
    {
     "data": {
      "text/plain": [
       "True"
      ]
     },
     "execution_count": 42,
     "metadata": {},
     "output_type": "execute_result"
    }
   ],
   "source": [
    "is_all_positive(range(1,10))"
   ]
  },
  {
   "cell_type": "code",
   "execution_count": 43,
   "id": "b3abc0d7-55a4-453a-b2da-81534b78c70a",
   "metadata": {},
   "outputs": [
    {
     "data": {
      "text/plain": [
       "True"
      ]
     },
     "execution_count": 43,
     "metadata": {},
     "output_type": "execute_result"
    }
   ],
   "source": [
    "is_all_positive({'a':1}.values())"
   ]
  },
  {
   "cell_type": "code",
   "execution_count": 50,
   "id": "b4eb03d3-b192-4e77-9a43-ba43053d5c24",
   "metadata": {},
   "outputs": [],
   "source": [
    "def gen_matrix(rows, cols, default_value):\n",
    "    return [[default_value for i in range(cols)]for j in range(rows)]"
   ]
  },
  {
   "cell_type": "code",
   "execution_count": 48,
   "id": "199ba5ec-ee54-4ece-93c4-c1c83997fde6",
   "metadata": {},
   "outputs": [
    {
     "data": {
      "text/plain": [
       "[[1, 1], [1, 1]]"
      ]
     },
     "execution_count": 48,
     "metadata": {},
     "output_type": "execute_result"
    }
   ],
   "source": [
    "gen_matrix(2, 2, 1)"
   ]
  },
  {
   "cell_type": "code",
   "execution_count": 51,
   "id": "2704b63f-bd5b-434a-83f3-d22c56ca79b2",
   "metadata": {},
   "outputs": [
    {
     "data": {
      "text/plain": [
       "[[1, 1, 1, 1, 1], [1, 1, 1, 1, 1], [1, 1, 1, 1, 1], [1, 1, 1, 1, 1]]"
      ]
     },
     "execution_count": 51,
     "metadata": {},
     "output_type": "execute_result"
    }
   ],
   "source": [
    "gen_matrix(4, 5, 1)"
   ]
  },
  {
   "cell_type": "code",
   "execution_count": null,
   "id": "a4e55e33-5441-43d9-bd07-ca7d10f9d03a",
   "metadata": {},
   "outputs": [],
   "source": []
  }
 ],
 "metadata": {
  "kernelspec": {
   "display_name": "Python 3 (ipykernel)",
   "language": "python",
   "name": "python3"
  },
  "language_info": {
   "codemirror_mode": {
    "name": "ipython",
    "version": 3
   },
   "file_extension": ".py",
   "mimetype": "text/x-python",
   "name": "python",
   "nbconvert_exporter": "python",
   "pygments_lexer": "ipython3",
   "version": "3.11.7"
  }
 },
 "nbformat": 4,
 "nbformat_minor": 5
}
