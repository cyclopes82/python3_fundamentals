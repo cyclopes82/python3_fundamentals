{
 "cells": [
  {
   "cell_type": "markdown",
   "id": "alert-document",
   "metadata": {},
   "source": [
    "### Solutions"
   ]
  },
  {
   "cell_type": "markdown",
   "id": "descending-cursor",
   "metadata": {},
   "source": [
    "#### Question 1"
   ]
  },
  {
   "cell_type": "markdown",
   "id": "fundamental-seven",
   "metadata": {},
   "source": [
    "Write a function that takes a variable number of arguments (with a minimum of one), and returns the average of these numbers."
   ]
  },
  {
   "cell_type": "code",
   "execution_count": 3,
   "id": "16619447-d1e8-4994-b8db-b367d87a2f19",
   "metadata": {},
   "outputs": [],
   "source": [
    "def average(*values):\n",
    "    if len(values) ==0:\n",
    "        raise ValueError(\"At least one argument is needed\")\n",
    "    return sum(values)/len(values)"
   ]
  },
  {
   "cell_type": "code",
   "execution_count": 6,
   "id": "bc03b09c-0990-4832-80ba-eed3ad11e488",
   "metadata": {},
   "outputs": [
    {
     "data": {
      "text/plain": [
       "2.0"
      ]
     },
     "execution_count": 6,
     "metadata": {},
     "output_type": "execute_result"
    }
   ],
   "source": [
    "average(1,2,2,3)"
   ]
  },
  {
   "cell_type": "code",
   "execution_count": 8,
   "id": "01a556a5-bcfe-4615-8c8d-c69eca338e56",
   "metadata": {},
   "outputs": [],
   "source": [
    "def average(*values):\n",
    "    try:\n",
    "        return sum(values)/len(values)\n",
    "    except ZeroDivisionError:\n",
    "        raise ValueError(\"At least one argument is needed\")"
   ]
  },
  {
   "cell_type": "code",
   "execution_count": 9,
   "id": "45a4554a-c469-4174-a5c3-2e9c20cbce9d",
   "metadata": {},
   "outputs": [],
   "source": [
    "def average(arg, *args):\n",
    "    sum_values = arg + sum(args)\n",
    "    return sum_values / (len(args) + 1)"
   ]
  },
  {
   "cell_type": "markdown",
   "id": "atlantic-edgar",
   "metadata": {},
   "source": [
    "#### Question 2"
   ]
  },
  {
   "cell_type": "code",
   "execution_count": null,
   "id": "8277787d-9173-4a32-8f6c-78f6c34a55a6",
   "metadata": {},
   "outputs": [],
   "source": []
  },
  {
   "cell_type": "markdown",
   "id": "alive-concrete",
   "metadata": {},
   "source": [
    "Write a function that returns a string based on two input arguments:\n",
    "- a character or string to be repeated\n",
    "- the number of times the string should be repeated"
   ]
  },
  {
   "cell_type": "markdown",
   "id": "green-opinion",
   "metadata": {},
   "source": [
    "The function should be such that the number of repetitions defaults to `10` if it is not passed by the caller, and the default character to be repeated should be a negative sign (`-`).\n",
    "\n",
    "Call your function `separator`.\n",
    "\n",
    "Use a keyword-only argument for the string argument."
   ]
  },
  {
   "cell_type": "code",
   "execution_count": 23,
   "id": "24de4b17-2026-4e51-bc59-0b7574ebd36d",
   "metadata": {},
   "outputs": [],
   "source": [
    "def separator(*, num, sep='-'):\n",
    "    return sep.join(str(num) for i in range(num))"
   ]
  },
  {
   "cell_type": "code",
   "execution_count": 24,
   "id": "bc230467-d160-4e95-9082-45eed59eb203",
   "metadata": {},
   "outputs": [
    {
     "data": {
      "text/plain": [
       "'3-3-3'"
      ]
     },
     "execution_count": 24,
     "metadata": {},
     "output_type": "execute_result"
    }
   ],
   "source": [
    "separator(num=3,sep='-')"
   ]
  },
  {
   "cell_type": "markdown",
   "id": "elegant-glass",
   "metadata": {},
   "source": [
    "#### Question 3"
   ]
  },
  {
   "cell_type": "markdown",
   "id": "thrown-theology",
   "metadata": {},
   "source": [
    "Write a lambda function that returns the number of unique elements in an iterable. This could be the number of unique characters in a string, or the number of unique elements in a list, tuple, etc.\n",
    "\n",
    "If the iterable received by the lambda function is empty, then it should return `0`."
   ]
  },
  {
   "cell_type": "code",
   "execution_count": 27,
   "id": "ab5ddccd-9a9a-4243-a3fb-4bd2e59715f4",
   "metadata": {},
   "outputs": [],
   "source": [
    "f = lambda a : 0 if len(a) == 0 else len(set(a))"
   ]
  },
  {
   "cell_type": "code",
   "execution_count": 28,
   "id": "3dfb8b39-887a-4c55-9da1-42c32ac1e9d7",
   "metadata": {},
   "outputs": [
    {
     "data": {
      "text/plain": [
       "5"
      ]
     },
     "execution_count": 28,
     "metadata": {},
     "output_type": "execute_result"
    }
   ],
   "source": [
    "f([1,2,3,4,5,5,5,5,5,2,2,2,])"
   ]
  },
  {
   "cell_type": "markdown",
   "id": "earlier-community",
   "metadata": {},
   "source": [
    "#### Question 4"
   ]
  },
  {
   "cell_type": "code",
   "execution_count": null,
   "id": "1690ee54-bf65-4f22-823c-c4ba671eb28a",
   "metadata": {},
   "outputs": [],
   "source": []
  },
  {
   "cell_type": "markdown",
   "id": "criminal-heritage",
   "metadata": {},
   "source": [
    "Write a function that receives a string as an argument (defaults to an empty string) and returns a dictionary with the unique words and their frequency."
   ]
  },
  {
   "cell_type": "markdown",
   "id": "loose-brooks",
   "metadata": {},
   "source": [
    "For example, for a string such as:\n",
    "\n",
    "```\n",
    "This is the first sentence. This is the scecond sentence. This is not the fourth sentence, it is the third sentence.\n",
    "```\n",
    "\n",
    "the result of the function should be:"
   ]
  },
  {
   "cell_type": "code",
   "execution_count": 1,
   "id": "middle-public",
   "metadata": {},
   "outputs": [],
   "source": [
    "result = {\n",
    "    'This': 3,\n",
    "    'is': 4,\n",
    "    'the': 4,\n",
    "    'first': 1,\n",
    "    'sentence': 4,\n",
    "    'scecond': 1,\n",
    "    'not': 1,\n",
    "    'fourth': 1,\n",
    "    'it': 1,\n",
    "    'third': 1\n",
    "}"
   ]
  },
  {
   "cell_type": "markdown",
   "id": "sonic-civilization",
   "metadata": {},
   "source": [
    "You may assume that word separators are limited to spaces, commas, and periods (no newline characters)."
   ]
  },
  {
   "cell_type": "markdown",
   "id": "finished-collar",
   "metadata": {},
   "source": [
    "Hint: You will want to split based on some character. Problem is that we really need to split based on three different characters: spaces, commas and periods. One approach would be to replace all commas and periods with spaces and then split on spaces."
   ]
  },
  {
   "cell_type": "code",
   "execution_count": 72,
   "id": "986bfb44-e262-4703-9130-7a1aa3f9c056",
   "metadata": {},
   "outputs": [],
   "source": [
    "sentence = 'This is the first sentence. This is the scecond sentence. This is not the fourth sentence, it is the third sentence.'"
   ]
  },
  {
   "cell_type": "code",
   "execution_count": 78,
   "id": "ea77aeef-fbad-4255-8ff1-16b3bc7e536d",
   "metadata": {},
   "outputs": [],
   "source": [
    "def word_count(sentence):\n",
    "    grammars_sake = \",.\"\n",
    "    for item in grammars_sake:\n",
    "        sentence = sentence.replace(item, ' ')\n",
    "\n",
    "    words = sentence.split()\n",
    "   \n",
    "    result = dict()\n",
    "    for word in words:     \n",
    "        result[word] = result.get(word,0) + 1\n",
    "\n",
    "    \n",
    "    print(result)"
   ]
  },
  {
   "cell_type": "code",
   "execution_count": 79,
   "id": "5f4d917f-98cd-4469-b0c7-a5be32ab8d14",
   "metadata": {},
   "outputs": [
    {
     "name": "stdout",
     "output_type": "stream",
     "text": [
      "{'This': 3, 'is': 4, 'the': 4, 'first': 1, 'sentence': 4, 'scecond': 1, 'not': 1, 'fourth': 1, 'it': 1, 'third': 1}\n"
     ]
    }
   ],
   "source": [
    "word_count(sentence)"
   ]
  },
  {
   "cell_type": "code",
   "execution_count": null,
   "id": "3b37d6fb-6df7-43a7-bd65-bff9376bbd03",
   "metadata": {},
   "outputs": [],
   "source": []
  }
 ],
 "metadata": {
  "kernelspec": {
   "display_name": "Python 3 (ipykernel)",
   "language": "python",
   "name": "python3"
  },
  "language_info": {
   "codemirror_mode": {
    "name": "ipython",
    "version": 3
   },
   "file_extension": ".py",
   "mimetype": "text/x-python",
   "name": "python",
   "nbconvert_exporter": "python",
   "pygments_lexer": "ipython3",
   "version": "3.11.7"
  }
 },
 "nbformat": 4,
 "nbformat_minor": 5
}
