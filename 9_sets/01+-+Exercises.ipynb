{
 "cells": [
  {
   "cell_type": "markdown",
   "id": "neural-details",
   "metadata": {},
   "source": [
    "### Exercises"
   ]
  },
  {
   "cell_type": "markdown",
   "id": "liked-hearts",
   "metadata": {},
   "source": [
    "#### Question 1"
   ]
  },
  {
   "cell_type": "markdown",
   "id": "indonesian-municipality",
   "metadata": {},
   "source": [
    "You are given a list of strings from which you want to generate all the unique values."
   ]
  },
  {
   "cell_type": "markdown",
   "id": "artificial-heritage",
   "metadata": {},
   "source": [
    "For example, if you were given this list:\n",
    "\n",
    "```\n",
    "['a', 'A', 'b', 'B', 'B', 'A', 'a', 'c']\n",
    "```\n",
    "\n",
    "your result should contain these values:\n",
    "\n",
    "```\n",
    "['a', 'A', 'b', 'B', 'c']\n",
    "```"
   ]
  },
  {
   "cell_type": "markdown",
   "id": "muslim-hurricane",
   "metadata": {},
   "source": [
    "Note that the order of the elements in the resulting list is not important."
   ]
  },
  {
   "cell_type": "markdown",
   "id": "brave-pasta",
   "metadata": {},
   "source": [
    "You can use this list for this exercise."
   ]
  },
  {
   "cell_type": "code",
   "execution_count": 1,
   "id": "rotary-mirror",
   "metadata": {},
   "outputs": [],
   "source": [
    "l = ['AAPL', 'AAPL', 'Aapl', 'aapl', 'MSFT']"
   ]
  },
  {
   "cell_type": "code",
   "execution_count": 2,
   "id": "b74f3d8a-73ba-40b0-ad05-aeacbfd8f958",
   "metadata": {},
   "outputs": [
    {
     "data": {
      "text/plain": [
       "['MSFT', 'aapl', 'AAPL', 'Aapl']"
      ]
     },
     "execution_count": 2,
     "metadata": {},
     "output_type": "execute_result"
    }
   ],
   "source": [
    "s = set(l)\n",
    "list(s)"
   ]
  },
  {
   "cell_type": "markdown",
   "id": "closing-massage",
   "metadata": {},
   "source": [
    "#### Question 2"
   ]
  },
  {
   "cell_type": "markdown",
   "id": "labeled-bouquet",
   "metadata": {},
   "source": [
    "Using the same data we saw in Question 1, the goal is to find all the unique values in a **case-insensitive** fashion."
   ]
  },
  {
   "cell_type": "markdown",
   "id": "handled-cruise",
   "metadata": {},
   "source": [
    "For example, `AAPL`, `Aapl` and `aapl` should each be considered to be the same value."
   ]
  },
  {
   "cell_type": "code",
   "execution_count": 3,
   "id": "8e9049ca-0113-4305-8f8f-b204db656e11",
   "metadata": {},
   "outputs": [],
   "source": [
    "l = ['AAPL', 'AAPL', 'Aapl', 'aapl', 'MSFT']"
   ]
  },
  {
   "cell_type": "code",
   "execution_count": 7,
   "id": "349b75de-682c-4d72-9113-ab8d774a3067",
   "metadata": {},
   "outputs": [
    {
     "data": {
      "text/plain": [
       "['msft', 'aapl']"
      ]
     },
     "execution_count": 7,
     "metadata": {},
     "output_type": "execute_result"
    }
   ],
   "source": [
    "s = set(item.casefold() for item in l)\n",
    "list(s)"
   ]
  },
  {
   "cell_type": "markdown",
   "id": "adjacent-southwest",
   "metadata": {},
   "source": [
    "#### Question 3"
   ]
  },
  {
   "cell_type": "markdown",
   "id": "authorized-cathedral",
   "metadata": {},
   "source": [
    "Given this data structure:"
   ]
  },
  {
   "cell_type": "code",
   "execution_count": 10,
   "id": "flying-processor",
   "metadata": {},
   "outputs": [],
   "source": [
    "data = {\n",
    "    'd1': {'a': 1, 'b': 2, 'c': 3},\n",
    "    'd2': {'b': 20, 'c': 30, 'd': 40},\n",
    "    'd3': {'d': 100, 'x': 200}\n",
    "}"
   ]
  },
  {
   "cell_type": "code",
   "execution_count": null,
   "id": "15376ffe-1b29-4036-b7e3-cf97914af3c6",
   "metadata": {},
   "outputs": [],
   "source": []
  },
  {
   "cell_type": "markdown",
   "id": "emotional-respect",
   "metadata": {},
   "source": [
    "Find all the unique keys in the sub-dictionaries.\n",
    "\n",
    "In this case above, your result should be:\n",
    "\n",
    "```\n",
    "{'a', 'b', 'c', 'd', 'x'}\n",
    "```\n",
    "\n",
    "Of course, the order in the result is irrelevant (there is no ordering in sets)."
   ]
  },
  {
   "cell_type": "code",
   "execution_count": 15,
   "id": "5a881729-a0c6-4ef9-b3d1-acdc217bda1d",
   "metadata": {},
   "outputs": [
    {
     "data": {
      "text/plain": [
       "{'a', 'b', 'c', 'd', 'x'}"
      ]
     },
     "execution_count": 15,
     "metadata": {},
     "output_type": "execute_result"
    }
   ],
   "source": [
    "set(list(data['d1'].keys())+ list(data['d2'].keys()) + list(data['d3'].keys()))"
   ]
  }
 ],
 "metadata": {
  "kernelspec": {
   "display_name": "Python 3 (ipykernel)",
   "language": "python",
   "name": "python3"
  },
  "language_info": {
   "codemirror_mode": {
    "name": "ipython",
    "version": 3
   },
   "file_extension": ".py",
   "mimetype": "text/x-python",
   "name": "python",
   "nbconvert_exporter": "python",
   "pygments_lexer": "ipython3",
   "version": "3.11.7"
  }
 },
 "nbformat": 4,
 "nbformat_minor": 5
}
