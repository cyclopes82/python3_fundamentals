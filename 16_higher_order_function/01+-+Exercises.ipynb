{
 "cells": [
  {
   "cell_type": "markdown",
   "id": "tight-homework",
   "metadata": {},
   "source": [
    "### Exercises"
   ]
  },
  {
   "cell_type": "markdown",
   "id": "focused-phone",
   "metadata": {},
   "source": [
    "#### Question 1"
   ]
  },
  {
   "cell_type": "markdown",
   "id": "accomplished-livestock",
   "metadata": {},
   "source": [
    "We want to write a function that can find an approximate maximum or minimum of some given function over some given range."
   ]
  },
  {
   "cell_type": "markdown",
   "id": "exempt-heater",
   "metadata": {},
   "source": [
    "For example, given some function:\n",
    "\n",
    "```\n",
    "f(x) = x**2 - 1\n",
    "```\n",
    "\n",
    "our function should return an approximate minimum (or maximum) of `f` over some given range, say `[-5, 5]`."
   ]
  },
  {
   "cell_type": "markdown",
   "id": "closing-belle",
   "metadata": {},
   "source": [
    "We'll do this by essentially splitting our intervals into `n` points (what I'll call the `resolution`), evaluating the function at each of these points, and returning either the min or the max."
   ]
  },
  {
   "cell_type": "markdown",
   "id": "comfortable-aviation",
   "metadata": {},
   "source": [
    "We want this function to be generic, so it should have the following parameters:\n",
    "- a function of one variable\n",
    "- a range of values defined by start/end values\n",
    "- a value indicating the \"resolution\"\n",
    "- a value indicating whether we want the min or the max"
   ]
  },
  {
   "cell_type": "code",
   "execution_count": 2,
   "id": "20089e05-f44d-40ac-b370-5c0923d4b229",
   "metadata": {},
   "outputs": [],
   "source": [
    "import math"
   ]
  },
  {
   "cell_type": "code",
   "execution_count": 3,
   "id": "18ca9712-b5b4-4a7e-9690-9f850111e1b4",
   "metadata": {},
   "outputs": [],
   "source": [
    "f1 = lambda x: x**2 - 1\n",
    "f2 = lambda x: abs(x-2)\n",
    "f3 = lambda x: math.sin(x)"
   ]
  },
  {
   "cell_type": "code",
   "execution_count": 5,
   "id": "42dc4db1-be36-4a1b-818b-5eee5386f3e5",
   "metadata": {},
   "outputs": [],
   "source": [
    "def find_extreme(f, start=-10, end=10, resolution=1_000, is_min=True):\n",
    "    delta = (end -start) / (resolution - 1)\n",
    "    data = [start + i * delta for i in range(resolution)]\n",
    "    return data"
   ]
  },
  {
   "cell_type": "code",
   "execution_count": 6,
   "id": "cefe020f-c9aa-4c2a-8b10-0b127f6fbad6",
   "metadata": {},
   "outputs": [
    {
     "data": {
      "text/plain": [
       "[1.0,\n",
       " 1.7142857142857144,\n",
       " 2.428571428571429,\n",
       " 3.142857142857143,\n",
       " 3.857142857142857,\n",
       " 4.571428571428571,\n",
       " 5.285714285714286,\n",
       " 6.0]"
      ]
     },
     "execution_count": 6,
     "metadata": {},
     "output_type": "execute_result"
    }
   ],
   "source": [
    "find_extreme(None, 1, 6, 8)"
   ]
  },
  {
   "cell_type": "code",
   "execution_count": 7,
   "id": "e711e9ed-12e7-4c06-94f9-ecb921309bea",
   "metadata": {},
   "outputs": [],
   "source": [
    "def find_extreme(f, start=-10, end=10, resolution=1_000, is_min=True):\n",
    "    delta = (end -start) / (resolution - 1)\n",
    "    data = [start + i * delta for i in range(resolution)]\n",
    "    f_values = [f(x) for x in data]\n",
    "    return f_values"
   ]
  },
  {
   "cell_type": "code",
   "execution_count": 8,
   "id": "4dc48db6-b81a-4780-8939-b71a2115cfb1",
   "metadata": {},
   "outputs": [
    {
     "data": {
      "text/plain": [
       "[3.0,\n",
       " 1.4197530864197532,\n",
       " 0.23456790123456805,\n",
       " -0.5555555555555555,\n",
       " -0.9506172839506173,\n",
       " -0.9506172839506173,\n",
       " -0.5555555555555558,\n",
       " 0.23456790123456694,\n",
       " 1.4197530864197523,\n",
       " 3.0]"
      ]
     },
     "execution_count": 8,
     "metadata": {},
     "output_type": "execute_result"
    }
   ],
   "source": [
    "find_extreme(f1, -2, 2, 10)"
   ]
  },
  {
   "cell_type": "code",
   "execution_count": 9,
   "id": "4bec7efe-1c41-4d7c-b8fd-1d0758fe03cc",
   "metadata": {},
   "outputs": [],
   "source": [
    "def find_extreme(f, start=-10, end=10, resolution=1_000, is_min=True):\n",
    "    delta = (end -start) / (resolution - 1)\n",
    "    data = [start + i * delta for i in range(resolution)]\n",
    "    f_values = [f(x) for x in data]\n",
    "    if is_min:\n",
    "        result = min(f_values)\n",
    "    else:\n",
    "        result = max(f_values)\n",
    "    return result"
   ]
  },
  {
   "cell_type": "code",
   "execution_count": 10,
   "id": "31a01681-9076-4bc6-81d4-6818b78a28f6",
   "metadata": {},
   "outputs": [
    {
     "data": {
      "text/plain": [
       "(0.008008008008008716, 0.9999996994977832)"
      ]
     },
     "execution_count": 10,
     "metadata": {},
     "output_type": "execute_result"
    }
   ],
   "source": [
    "find_extreme(f2, -10, 10), find_extreme(f3, -10, 10, is_min=False)"
   ]
  },
  {
   "cell_type": "code",
   "execution_count": 11,
   "id": "7862d55c-0a99-45b9-9453-5229af2dd4cc",
   "metadata": {},
   "outputs": [],
   "source": [
    "def find_extreme(f, start=-10, end=10, resolution=1_000, is_min=True):\n",
    "    delta = (end -start) / (resolution - 1)\n",
    "    data = [start + i * delta for i in range(resolution)]\n",
    "    f_values = map(f, data)\n",
    "    if is_min:\n",
    "        result = min(f_values)\n",
    "    else:\n",
    "        result = max(f_values)\n",
    "    return result"
   ]
  },
  {
   "cell_type": "code",
   "execution_count": 12,
   "id": "61a77a2b-2e40-4ddc-9b1b-5ed7fd4c026f",
   "metadata": {},
   "outputs": [],
   "source": [
    "def find_extreme(f, start=-10, end=10, resolution=1_000, is_min=True):\n",
    "    delta = (end -start) / (resolution - 1)\n",
    "    data = [start + i * delta for i in range(resolution)]\n",
    "    min_max = min if is_min else max\n",
    "    return min_max(map(f, data))"
   ]
  },
  {
   "cell_type": "code",
   "execution_count": 13,
   "id": "87a231ae-3ec4-4972-bf3e-1c752d0fd48f",
   "metadata": {},
   "outputs": [
    {
     "data": {
      "text/plain": [
       "-0.5440211108893698"
      ]
     },
     "execution_count": 13,
     "metadata": {},
     "output_type": "execute_result"
    }
   ],
   "source": [
    "find_extreme(f3, 10, 10, 100, False)"
   ]
  },
  {
   "cell_type": "markdown",
   "id": "fiscal-exclusive",
   "metadata": {},
   "source": [
    "#### Question 2"
   ]
  },
  {
   "cell_type": "markdown",
   "id": "tribal-irrigation",
   "metadata": {},
   "source": [
    "You are given a function of two variables, and a list of tuples containing the values for the two variables."
   ]
  },
  {
   "cell_type": "markdown",
   "id": "guilty-opposition",
   "metadata": {},
   "source": [
    "Create a list that is the result of calling the function on each values in the list, using three different techniques:\n",
    "- a `for` loop\n",
    "- a list comprehension\n",
    "- the `map` function\n",
    "\n",
    "Use the `timeit` function to time each approach.\n",
    "\n",
    "Hint: write a function that implements each approach, and then time calling those functions using the `timeit` function (`from timeit import timeit` - we've used it before). Also you will want to specify `number=10` or something like that when you run `timeit` - unless you want to sit there watvhing your screen for quite a while :-)"
   ]
  },
  {
   "cell_type": "code",
   "execution_count": 2,
   "id": "prompt-investigator",
   "metadata": {},
   "outputs": [],
   "source": [
    "import math\n",
    "\n",
    "def func(point):\n",
    "    # expect point to be a sequence of two values\n",
    "    x, y = point\n",
    "    return math.hypot(x, y)  \n",
    "    # hypot is a function that calculates sqrt(x**2 + y**2), given a sequence (x, y)\n",
    "\n",
    "points = [\n",
    "    (0, 0),\n",
    "    (1, 1),\n",
    "    (10, 20),\n",
    "    (math.pi, math.e)\n",
    "]"
   ]
  },
  {
   "cell_type": "markdown",
   "id": "tutorial-absolute",
   "metadata": {},
   "source": [
    "Your result for `points` should be:\n",
    "\n",
    "```\n",
    "[0.0, 1.4142135623730951, 22.360679774997898, 4.154354402313314]\n",
    "```"
   ]
  },
  {
   "cell_type": "markdown",
   "id": "digital-september",
   "metadata": {},
   "source": [
    "For timing purposes, use a larger set of points, like this one:"
   ]
  },
  {
   "cell_type": "code",
   "execution_count": 2,
   "id": "informal-equality",
   "metadata": {},
   "outputs": [],
   "source": [
    "points_large = [(math.sin(x), math.cos(x)) for x in range(1, 1_000_000)]"
   ]
  },
  {
   "cell_type": "code",
   "execution_count": 3,
   "id": "41636215-9276-43f5-a80a-bc63c4e4827b",
   "metadata": {},
   "outputs": [
    {
     "name": "stdout",
     "output_type": "stream",
     "text": [
      "[0.0, 1.4142135623730951, 22.360679774997898, 4.154354402313313]\n"
     ]
    }
   ],
   "source": [
    "results = []\n",
    "\n",
    "for pt in points:\n",
    "    results.append(func(pt))\n",
    "\n",
    "print(results)"
   ]
  },
  {
   "cell_type": "code",
   "execution_count": 4,
   "id": "36232df3-e440-443b-907f-b608b99974ef",
   "metadata": {},
   "outputs": [
    {
     "data": {
      "text/plain": [
       "[0.0, 1.4142135623730951, 22.360679774997898, 4.154354402313313]"
      ]
     },
     "execution_count": 4,
     "metadata": {},
     "output_type": "execute_result"
    }
   ],
   "source": [
    "results = [func(pt) for pt in points]\n",
    "results"
   ]
  },
  {
   "cell_type": "code",
   "execution_count": 8,
   "id": "c6cd8e9a-4a35-4342-a8cc-36acbb835fa6",
   "metadata": {},
   "outputs": [
    {
     "data": {
      "text/plain": [
       "[0.0, 1.4142135623730951, 22.360679774997898, 4.154354402313313]"
      ]
     },
     "execution_count": 8,
     "metadata": {},
     "output_type": "execute_result"
    }
   ],
   "source": [
    "results = list(map(func, points))\n",
    "results"
   ]
  },
  {
   "cell_type": "code",
   "execution_count": 9,
   "id": "c9a9d8d7-7c86-4833-ae21-4f19c7d89ffd",
   "metadata": {},
   "outputs": [],
   "source": [
    "def cal_loop(f, points):\n",
    "    results = []\n",
    "    \n",
    "    for pt in points:\n",
    "        results.append(func(pt))\n",
    "    return results"
   ]
  },
  {
   "cell_type": "code",
   "execution_count": 10,
   "id": "c2c6e653-e3c4-4555-bd25-4ba27de3700e",
   "metadata": {},
   "outputs": [],
   "source": [
    "def cal_comp(f, points):\n",
    "    results = [func(pt) for pt in points]\n",
    "    return results"
   ]
  },
  {
   "cell_type": "code",
   "execution_count": 11,
   "id": "3b13b406-8823-4655-84ea-58c9bd092a45",
   "metadata": {},
   "outputs": [],
   "source": [
    "def cal_map(f, points):\n",
    "    return list(map(func, points))"
   ]
  },
  {
   "cell_type": "code",
   "execution_count": 12,
   "id": "cf01ef1c-2427-4968-b896-e0e53f554487",
   "metadata": {},
   "outputs": [],
   "source": [
    "from timeit import timeit"
   ]
  },
  {
   "cell_type": "code",
   "execution_count": 13,
   "id": "ceb04486-1bed-4abf-871a-d065d06270c9",
   "metadata": {},
   "outputs": [
    {
     "data": {
      "text/plain": [
       "2.139998832717538e-05"
      ]
     },
     "execution_count": 13,
     "metadata": {},
     "output_type": "execute_result"
    }
   ],
   "source": [
    "timeit('cal_loop(func, points)', globals=globals(), number=10 )"
   ]
  },
  {
   "cell_type": "code",
   "execution_count": 14,
   "id": "3ccd8821-6595-4bee-84e1-1f007b5917d6",
   "metadata": {
    "scrolled": true
   },
   "outputs": [
    {
     "data": {
      "text/plain": [
       "2.6399968191981316e-05"
      ]
     },
     "execution_count": 14,
     "metadata": {},
     "output_type": "execute_result"
    }
   ],
   "source": [
    "timeit('cal_comp(func, points)', globals=globals(), number=10 )"
   ]
  },
  {
   "cell_type": "code",
   "execution_count": 15,
   "id": "e4426e10-2775-4248-88ac-af32b1f7a428",
   "metadata": {},
   "outputs": [
    {
     "data": {
      "text/plain": [
       "1.9199971575289965e-05"
      ]
     },
     "execution_count": 15,
     "metadata": {},
     "output_type": "execute_result"
    }
   ],
   "source": [
    "timeit('cal_map(func, points)', globals=globals(), number=10 )"
   ]
  },
  {
   "cell_type": "markdown",
   "id": "caroline-analysis",
   "metadata": {},
   "source": [
    "#### Question 3"
   ]
  },
  {
   "cell_type": "markdown",
   "id": "special-stuart",
   "metadata": {},
   "source": [
    "Write a function that returns a function with all arguments, except the first one, prefilled with certain values provided to the outer function."
   ]
  },
  {
   "cell_type": "markdown",
   "id": "becoming-civilization",
   "metadata": {},
   "source": [
    "(This is sometimes called a partial function)."
   ]
  },
  {
   "cell_type": "markdown",
   "id": "solar-watson",
   "metadata": {},
   "source": [
    "For example, we may have some functions such as:"
   ]
  },
  {
   "cell_type": "code",
   "execution_count": 17,
   "id": "divine-brand",
   "metadata": {},
   "outputs": [],
   "source": [
    "import math"
   ]
  },
  {
   "cell_type": "code",
   "execution_count": 26,
   "id": "saving-hazard",
   "metadata": {},
   "outputs": [],
   "source": [
    "def power(x, n):\n",
    "    return x ** n"
   ]
  },
  {
   "cell_type": "code",
   "execution_count": 5,
   "id": "requested-mathematics",
   "metadata": {},
   "outputs": [],
   "source": [
    "def dist(pt1, pt2):\n",
    "    return math.sqrt(sum(coord_1 - coord_2 for coord_1, coord_2 in zip(pt1, pt2)))"
   ]
  },
  {
   "cell_type": "markdown",
   "id": "hungry-aberdeen",
   "metadata": {},
   "source": [
    "Or even functions already defined, such as:\n",
    "\n",
    "```\n",
    "math.gcd(a, b)\n",
    "```\n",
    "or\n",
    "```\n",
    "math.log(x, base)\n",
    "```"
   ]
  },
  {
   "cell_type": "markdown",
   "id": "entitled-denver",
   "metadata": {},
   "source": [
    "We want to to be able to generate new functions, based on these ones (`power`, `dist`, `gcd`, `log`) but with all the values except the first one prefilled, for example, assuming our function is named `partial`, we can use it to define new functions this way:"
   ]
  },
  {
   "cell_type": "markdown",
   "id": "first-velvet",
   "metadata": {},
   "source": [
    "```\n",
    "squares = partial(power, 2)\n",
    "dist_from_origin = partial(dist, (0, 0))\n",
    "gcd_13 = partial(math.gcd, 13)\n",
    "log_2 = partial(math.log, 2)\n",
    "log_10 = partial(math.log, 10)\n",
    "log_16 = partial(math.log, 16)\n",
    "```"
   ]
  },
  {
   "cell_type": "markdown",
   "id": "gentle-monitor",
   "metadata": {},
   "source": [
    "Then when we call our new functions, we just pass in the value for the first argument, i.e."
   ]
  },
  {
   "cell_type": "markdown",
   "id": "bridal-scenario",
   "metadata": {},
   "source": [
    "```\n",
    "squares(3) --> 9\n",
    "squares(4) --> 16\n",
    "dist_from_origin((1, 1)) --> 1.414\n",
    "log_2(10) --> 3.3219\n",
    "log_10(10) --> 1.0\n",
    "log_16(10) --> 0.8304\n",
    "```"
   ]
  },
  {
   "cell_type": "code",
   "execution_count": 30,
   "id": "84129577-e506-4a5f-b666-9e45397f5dae",
   "metadata": {},
   "outputs": [],
   "source": [
    "def partial(func, *args, **kwargs):\n",
    "    def inner(first_arg):\n",
    "        return func(first_arg, *args, **kwargs)\n",
    "    return inner"
   ]
  },
  {
   "cell_type": "code",
   "execution_count": 31,
   "id": "0529b256-54e3-49be-acd4-a4d599ee15cf",
   "metadata": {},
   "outputs": [],
   "source": [
    "res = partial(power, 2)"
   ]
  },
  {
   "cell_type": "code",
   "execution_count": 32,
   "id": "f8f55065-a5d0-45da-910b-d704bfc780b5",
   "metadata": {},
   "outputs": [
    {
     "data": {
      "text/plain": [
       "4"
      ]
     },
     "execution_count": 32,
     "metadata": {},
     "output_type": "execute_result"
    }
   ],
   "source": [
    "res(2)"
   ]
  },
  {
   "cell_type": "markdown",
   "id": "cleared-watson",
   "metadata": {},
   "source": [
    "#### Question 4"
   ]
  },
  {
   "cell_type": "markdown",
   "id": "registered-moscow",
   "metadata": {},
   "source": [
    "Write a function that can be used to not only execute another function with specified arguments, but print a \"log\" (basically just print to the console\", of how long it took to execute the function."
   ]
  },
  {
   "cell_type": "markdown",
   "id": "invisible-elephant",
   "metadata": {},
   "source": [
    "For example, given some functions like this:"
   ]
  },
  {
   "cell_type": "code",
   "execution_count": 33,
   "id": "prerequisite-allergy",
   "metadata": {},
   "outputs": [],
   "source": [
    "def norm(x, y):\n",
    "    return math.sqrt(x**2 + y**2)\n",
    "\n",
    "def find_index_min(seq):\n",
    "    min_ = min(seq)\n",
    "    return seq.index(min_)"
   ]
  },
  {
   "cell_type": "markdown",
   "id": "heavy-police",
   "metadata": {},
   "source": [
    "Then assuming your logging function is called `logged`, you could create logged functions this way:"
   ]
  },
  {
   "cell_type": "code",
   "execution_count": 7,
   "id": "liquid-divide",
   "metadata": {},
   "outputs": [],
   "source": [
    "def logged(f):\n",
    "    # implement this\n",
    "    pass"
   ]
  },
  {
   "cell_type": "code",
   "execution_count": 34,
   "id": "measured-packaging",
   "metadata": {},
   "outputs": [
    {
     "ename": "NameError",
     "evalue": "name 'logged' is not defined",
     "output_type": "error",
     "traceback": [
      "\u001b[1;31m---------------------------------------------------------------------------\u001b[0m",
      "\u001b[1;31mNameError\u001b[0m                                 Traceback (most recent call last)",
      "Cell \u001b[1;32mIn[34], line 1\u001b[0m\n\u001b[1;32m----> 1\u001b[0m norm_logged \u001b[38;5;241m=\u001b[39m \u001b[43mlogged\u001b[49m(norm)\n\u001b[0;32m      2\u001b[0m find_index_min_logged \u001b[38;5;241m=\u001b[39m logged(find_index_min)\n",
      "\u001b[1;31mNameError\u001b[0m: name 'logged' is not defined"
     ]
    }
   ],
   "source": [
    "norm_logged = logged(norm)\n",
    "find_index_min_logged = logged(find_index_min)"
   ]
  },
  {
   "cell_type": "markdown",
   "id": "czech-husband",
   "metadata": {},
   "source": [
    "You would then be able to call `norm_logged` with some arguments, or `find_index_min_logged` with some arguments, and not only get the actual result back, but also see an output to the console that tells you how long the function took to run."
   ]
  },
  {
   "cell_type": "code",
   "execution_count": 44,
   "id": "de38d8b8-63e7-4905-bea8-8e6a9ddc84e6",
   "metadata": {},
   "outputs": [],
   "source": [
    "from time import perf_counter\n",
    "\n",
    "def logged(f):\n",
    "    def inner(*args, **kwargs):\n",
    "        start = perf_counter()\n",
    "        result = f(*args, **kwargs)\n",
    "        end = perf_counter()\n",
    "        print(f\"elapsed: {end} - {start}\")\n",
    "        return result\n",
    "    return inner"
   ]
  },
  {
   "cell_type": "code",
   "execution_count": 45,
   "id": "903cb1b0-7dba-40d9-baed-b8cb3ee7dd5d",
   "metadata": {},
   "outputs": [],
   "source": [
    "logged_norm = logged(norm)"
   ]
  },
  {
   "cell_type": "code",
   "execution_count": 37,
   "id": "1a3ae652-ad08-4918-8bb6-6f83078da482",
   "metadata": {},
   "outputs": [
    {
     "data": {
      "text/plain": [
       "<function __main__.logged.<locals>.inner(*args, **kwargs)>"
      ]
     },
     "execution_count": 37,
     "metadata": {},
     "output_type": "execute_result"
    }
   ],
   "source": [
    "logged_norm"
   ]
  },
  {
   "cell_type": "code",
   "execution_count": 38,
   "id": "82ab25a0-05a9-462c-9555-239348021e34",
   "metadata": {},
   "outputs": [
    {
     "data": {
      "text/plain": [
       "(<cell at 0x00000238C7D470A0: function object at 0x00000238C718E7A0>,)"
      ]
     },
     "execution_count": 38,
     "metadata": {},
     "output_type": "execute_result"
    }
   ],
   "source": [
    "logged_norm.__closure__"
   ]
  },
  {
   "cell_type": "code",
   "execution_count": 40,
   "id": "12d617b0-ce6b-4621-b92f-8ba9d54c44a9",
   "metadata": {},
   "outputs": [
    {
     "data": {
      "text/plain": [
       "'0x238c718e7a0'"
      ]
     },
     "execution_count": 40,
     "metadata": {},
     "output_type": "execute_result"
    }
   ],
   "source": [
    "hex(id(norm))"
   ]
  },
  {
   "cell_type": "code",
   "execution_count": 46,
   "id": "59d70c8c-7f97-4a5a-8aa8-113b32deb1ac",
   "metadata": {},
   "outputs": [
    {
     "name": "stdout",
     "output_type": "stream",
     "text": [
      "elapsed: 393622.3152451 - 393622.3152405\n"
     ]
    },
    {
     "data": {
      "text/plain": [
       "10.198039027185569"
      ]
     },
     "execution_count": 46,
     "metadata": {},
     "output_type": "execute_result"
    }
   ],
   "source": [
    "result=logged_norm(10,2)\n",
    "result"
   ]
  },
  {
   "cell_type": "code",
   "execution_count": null,
   "id": "08ed02a6-530a-4e0a-9ea3-1d1d4c53772e",
   "metadata": {},
   "outputs": [],
   "source": []
  }
 ],
 "metadata": {
  "kernelspec": {
   "display_name": "Python 3 (ipykernel)",
   "language": "python",
   "name": "python3"
  },
  "language_info": {
   "codemirror_mode": {
    "name": "ipython",
    "version": 3
   },
   "file_extension": ".py",
   "mimetype": "text/x-python",
   "name": "python",
   "nbconvert_exporter": "python",
   "pygments_lexer": "ipython3",
   "version": "3.11.7"
  }
 },
 "nbformat": 4,
 "nbformat_minor": 5
}
