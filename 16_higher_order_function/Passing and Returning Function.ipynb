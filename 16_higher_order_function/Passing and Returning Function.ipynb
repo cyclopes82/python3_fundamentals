{
 "cells": [
  {
   "cell_type": "code",
   "execution_count": 2,
   "id": "137204b1-cf01-4535-b25c-d0c6b2d528e6",
   "metadata": {},
   "outputs": [],
   "source": [
    "#Passing and Returning Function"
   ]
  },
  {
   "cell_type": "code",
   "execution_count": 3,
   "id": "8c53635b-43be-4b00-9cad-cab673e7b11d",
   "metadata": {},
   "outputs": [],
   "source": [
    "def add(a, b):\n",
    "    return a + b"
   ]
  },
  {
   "cell_type": "code",
   "execution_count": 6,
   "id": "94652a49-e5fb-47b3-89e7-f3448d6b171e",
   "metadata": {},
   "outputs": [],
   "source": [
    "def greet(name):\n",
    "    return f'Hello, {name}!'"
   ]
  },
  {
   "cell_type": "code",
   "execution_count": 7,
   "id": "b237e2e8-190c-4abc-87ff-b4be35ec0f98",
   "metadata": {},
   "outputs": [
    {
     "data": {
      "text/plain": [
       "(5, 'Hello, John!')"
      ]
     },
     "execution_count": 7,
     "metadata": {},
     "output_type": "execute_result"
    }
   ],
   "source": [
    "add(2, 3), greet('John')"
   ]
  },
  {
   "cell_type": "code",
   "execution_count": 11,
   "id": "784a7943-0814-4434-acef-726cc084ed6c",
   "metadata": {},
   "outputs": [],
   "source": [
    "def apply(func, *args):\n",
    "    result = func(*args)\n",
    "    return result"
   ]
  },
  {
   "cell_type": "code",
   "execution_count": 12,
   "id": "34761f7e-f520-4b7b-bd35-c6a95e394934",
   "metadata": {},
   "outputs": [
    {
     "data": {
      "text/plain": [
       "5"
      ]
     },
     "execution_count": 12,
     "metadata": {},
     "output_type": "execute_result"
    }
   ],
   "source": [
    "apply(add, 2, 3)"
   ]
  },
  {
   "cell_type": "code",
   "execution_count": 14,
   "id": "df394e2a-3e00-4c74-bdb7-7e25f5bfd70d",
   "metadata": {},
   "outputs": [
    {
     "data": {
      "text/plain": [
       "'Hello, Sheetya!!!'"
      ]
     },
     "execution_count": 14,
     "metadata": {},
     "output_type": "execute_result"
    }
   ],
   "source": [
    "apply(greet, 'Sheetya!!')"
   ]
  },
  {
   "cell_type": "code",
   "execution_count": 16,
   "id": "fa7c7208-19d7-4c79-b7ff-6f44e41a2d98",
   "metadata": {},
   "outputs": [
    {
     "data": {
      "text/plain": [
       "60"
      ]
     },
     "execution_count": 16,
     "metadata": {},
     "output_type": "execute_result"
    }
   ],
   "source": [
    "apply(lambda a, b, c : a + b + c, 10, 20, 30)"
   ]
  },
  {
   "cell_type": "code",
   "execution_count": 17,
   "id": "9261ae49-59cb-49ed-9ffe-3be0d33b61c1",
   "metadata": {},
   "outputs": [],
   "source": [
    "def mul(a, b):\n",
    "    return a * b"
   ]
  },
  {
   "cell_type": "code",
   "execution_count": 18,
   "id": "2707bab6-2eb7-4507-b2be-fdebe592abc8",
   "metadata": {},
   "outputs": [],
   "source": [
    "def pow(a, n):\n",
    "    return a ** n"
   ]
  },
  {
   "cell_type": "code",
   "execution_count": 23,
   "id": "e2247737-7992-4ac2-b3e7-50307bcc6829",
   "metadata": {},
   "outputs": [],
   "source": [
    "def choose_operator(name):\n",
    "    if name == 'add':\n",
    "        return add\n",
    "    if name == 'mult':\n",
    "        return mult\n",
    "    if name == 'power':\n",
    "        return pow\n",
    "    "
   ]
  },
  {
   "cell_type": "code",
   "execution_count": 24,
   "id": "578e7837-93ba-49e0-867b-28cc73b2a2d3",
   "metadata": {},
   "outputs": [],
   "source": [
    "op = choose_operator('power')"
   ]
  },
  {
   "cell_type": "code",
   "execution_count": 25,
   "id": "8158d3a9-15b0-44ad-82f0-4b76fc58454f",
   "metadata": {},
   "outputs": [
    {
     "data": {
      "text/plain": [
       "<function __main__.pow(a, n)>"
      ]
     },
     "execution_count": 25,
     "metadata": {},
     "output_type": "execute_result"
    }
   ],
   "source": [
    "op"
   ]
  },
  {
   "cell_type": "code",
   "execution_count": 26,
   "id": "6f7b5e59-16de-4cc5-8dc3-41be3e6a501b",
   "metadata": {},
   "outputs": [
    {
     "data": {
      "text/plain": [
       "8"
      ]
     },
     "execution_count": 26,
     "metadata": {},
     "output_type": "execute_result"
    }
   ],
   "source": [
    "op(2,3)"
   ]
  },
  {
   "cell_type": "code",
   "execution_count": 27,
   "id": "042afb4e-61d7-4235-8bb5-ac3d8cc4893c",
   "metadata": {},
   "outputs": [],
   "source": [
    "def choose_operator(name):\n",
    "    def add(a, b):\n",
    "        return a + b\n",
    "\n",
    "    def mul(a, b):\n",
    "        return a * b\n",
    "\n",
    "    def pow(a, n):\n",
    "        return a ** n\n",
    "        \n",
    "    if name == 'add':\n",
    "        return add\n",
    "    if name == 'mult':\n",
    "        return mul\n",
    "    if name == 'power':\n",
    "        return pow\n",
    "    "
   ]
  },
  {
   "cell_type": "code",
   "execution_count": 31,
   "id": "ac8b98e4-2d43-4407-8c31-5ffdcfad3528",
   "metadata": {},
   "outputs": [],
   "source": [
    "op = choose_operator('power')"
   ]
  },
  {
   "cell_type": "code",
   "execution_count": 32,
   "id": "af6da29f-8bba-402d-aa5b-314d210cdae4",
   "metadata": {},
   "outputs": [
    {
     "data": {
      "text/plain": [
       "8"
      ]
     },
     "execution_count": 32,
     "metadata": {},
     "output_type": "execute_result"
    }
   ],
   "source": [
    "op(2,3)"
   ]
  },
  {
   "cell_type": "code",
   "execution_count": 33,
   "id": "54d74d27-096d-4dd7-90c4-255a09ed58e8",
   "metadata": {},
   "outputs": [
    {
     "data": {
      "text/plain": [
       "<function __main__.choose_operator.<locals>.pow(a, n)>"
      ]
     },
     "execution_count": 33,
     "metadata": {},
     "output_type": "execute_result"
    }
   ],
   "source": [
    "op\n"
   ]
  },
  {
   "cell_type": "code",
   "execution_count": null,
   "id": "299d057e-b966-4fbc-a78c-90b93de4d465",
   "metadata": {},
   "outputs": [],
   "source": []
  }
 ],
 "metadata": {
  "kernelspec": {
   "display_name": "Python 3 (ipykernel)",
   "language": "python",
   "name": "python3"
  },
  "language_info": {
   "codemirror_mode": {
    "name": "ipython",
    "version": 3
   },
   "file_extension": ".py",
   "mimetype": "text/x-python",
   "name": "python",
   "nbconvert_exporter": "python",
   "pygments_lexer": "ipython3",
   "version": "3.11.7"
  }
 },
 "nbformat": 4,
 "nbformat_minor": 5
}
