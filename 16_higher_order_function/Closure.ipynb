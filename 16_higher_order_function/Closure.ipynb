{
 "cells": [
  {
   "cell_type": "markdown",
   "id": "628706f1-9a5f-47c9-9886-7838ebbc4002",
   "metadata": {},
   "source": [
    "## Closure"
   ]
  },
  {
   "cell_type": "code",
   "execution_count": 7,
   "id": "1e170654-8d04-44fb-b81f-1fa5fa6fa310",
   "metadata": {},
   "outputs": [],
   "source": [
    "def outer(a, b):\n",
    "    sum_ = a + b \n",
    "\n",
    "    def inner():\n",
    "        prod = a *b\n",
    "        print(a, b, sum_, prod)\n",
    "        return \"You just called a closure!!\"\n",
    "\n",
    "    return inner"
   ]
  },
  {
   "cell_type": "code",
   "execution_count": 3,
   "id": "a1b1891a-aa15-4771-99f3-9cc6dc12fc46",
   "metadata": {},
   "outputs": [],
   "source": [
    "func = outer(2, 3)"
   ]
  },
  {
   "cell_type": "code",
   "execution_count": 4,
   "id": "3d8609b0-8e99-4768-b1f9-e64af42d4ae5",
   "metadata": {},
   "outputs": [
    {
     "name": "stdout",
     "output_type": "stream",
     "text": [
      "2 3 5 6\n"
     ]
    },
    {
     "data": {
      "text/plain": [
       "'You just called a closure'"
      ]
     },
     "execution_count": 4,
     "metadata": {},
     "output_type": "execute_result"
    }
   ],
   "source": [
    "func()"
   ]
  },
  {
   "cell_type": "code",
   "execution_count": 6,
   "id": "0a48664e-99c6-4ca4-b92d-1060e2723486",
   "metadata": {},
   "outputs": [
    {
     "data": {
      "text/plain": [
       "(<cell at 0x000001B3A79C54B0: int object at 0x00007FFA55074348>,\n",
       " <cell at 0x000001B3A79C5450: int object at 0x00007FFA55074368>,\n",
       " <cell at 0x000001B3A79C4400: int object at 0x00007FFA550743A8>)"
      ]
     },
     "execution_count": 6,
     "metadata": {},
     "output_type": "execute_result"
    }
   ],
   "source": [
    "func.__closure__"
   ]
  },
  {
   "cell_type": "code",
   "execution_count": 8,
   "id": "c78bba15-d91a-4b1d-bd9e-caeb39cdf920",
   "metadata": {},
   "outputs": [],
   "source": [
    "#This is not a closure\n",
    "def outer(a, b):\n",
    "    def inner(c):\n",
    "        return c ** 2\n",
    "    return inner\n",
    "    "
   ]
  },
  {
   "cell_type": "code",
   "execution_count": 9,
   "id": "c436b905-b071-4847-acb6-49f7cb9b913c",
   "metadata": {},
   "outputs": [],
   "source": [
    "func = outer(1,2)"
   ]
  },
  {
   "cell_type": "code",
   "execution_count": 10,
   "id": "4f40f7cb-44ef-49f3-9c3d-ccd9e0757a73",
   "metadata": {},
   "outputs": [
    {
     "data": {
      "text/plain": [
       "4"
      ]
     },
     "execution_count": 10,
     "metadata": {},
     "output_type": "execute_result"
    }
   ],
   "source": [
    "func(2)"
   ]
  },
  {
   "cell_type": "code",
   "execution_count": 12,
   "id": "fb6f68f9-6a28-481c-b452-809a252634fb",
   "metadata": {},
   "outputs": [],
   "source": [
    "func.__closure__"
   ]
  },
  {
   "cell_type": "code",
   "execution_count": 13,
   "id": "c1763cf7-aec2-4c84-a2bd-d9417b06c246",
   "metadata": {},
   "outputs": [],
   "source": [
    "def power(n):\n",
    "    def inner(x):\n",
    "        return x ** n\n",
    "    return inner"
   ]
  },
  {
   "cell_type": "code",
   "execution_count": 16,
   "id": "1bb204d4-498d-4f42-a2d0-c18cbd8cf0c0",
   "metadata": {},
   "outputs": [],
   "source": [
    "square = power(2)"
   ]
  },
  {
   "cell_type": "code",
   "execution_count": 17,
   "id": "c44c437d-0cf9-4679-9be3-a839138e1e95",
   "metadata": {},
   "outputs": [
    {
     "data": {
      "text/plain": [
       "100"
      ]
     },
     "execution_count": 17,
     "metadata": {},
     "output_type": "execute_result"
    }
   ],
   "source": [
    "square(10)"
   ]
  },
  {
   "cell_type": "code",
   "execution_count": 18,
   "id": "7f992e92-e221-4f15-9a68-bb5ad91b24ae",
   "metadata": {},
   "outputs": [
    {
     "data": {
      "text/plain": [
       "(<cell at 0x000001B3A7B696C0: int object at 0x00007FFA55074348>,)"
      ]
     },
     "execution_count": 18,
     "metadata": {},
     "output_type": "execute_result"
    }
   ],
   "source": [
    "square.__closure__"
   ]
  },
  {
   "cell_type": "code",
   "execution_count": 19,
   "id": "e5963318-b838-442e-905a-5784c6181911",
   "metadata": {},
   "outputs": [],
   "source": [
    "cubes = power(3)"
   ]
  },
  {
   "cell_type": "code",
   "execution_count": 20,
   "id": "d7afd841-2b9f-4be6-ad8f-a879ca825131",
   "metadata": {},
   "outputs": [
    {
     "data": {
      "text/plain": [
       "(<cell at 0x000001B3A7B69750: int object at 0x00007FFA55074368>,)"
      ]
     },
     "execution_count": 20,
     "metadata": {},
     "output_type": "execute_result"
    }
   ],
   "source": [
    "cubes.__closure__"
   ]
  },
  {
   "cell_type": "code",
   "execution_count": 21,
   "id": "76426f4e-5cdc-420d-ab3d-78462d4addc0",
   "metadata": {},
   "outputs": [],
   "source": [
    "def execute(func):\n",
    "    def inner(a, b):\n",
    "        result = func(a, b)\n",
    "        return result\n",
    "    return inner"
   ]
  },
  {
   "cell_type": "code",
   "execution_count": 22,
   "id": "b82ebe3f-d1af-4357-8bf5-57d763a35d10",
   "metadata": {},
   "outputs": [],
   "source": [
    "def add(a, b):\n",
    "    return a + b"
   ]
  },
  {
   "cell_type": "code",
   "execution_count": 24,
   "id": "63ae484d-6bf6-456a-b6e7-7e246687a3f9",
   "metadata": {},
   "outputs": [],
   "source": [
    "add_executor = execute(add)"
   ]
  },
  {
   "cell_type": "code",
   "execution_count": 25,
   "id": "ed78435e-623c-4c4f-b932-f2850680969a",
   "metadata": {},
   "outputs": [
    {
     "data": {
      "text/plain": [
       "(<cell at 0x000001B3A79C60E0: function object at 0x000001B3A7B156C0>,)"
      ]
     },
     "execution_count": 25,
     "metadata": {},
     "output_type": "execute_result"
    }
   ],
   "source": [
    "add_executor.__closure__"
   ]
  },
  {
   "cell_type": "code",
   "execution_count": 27,
   "id": "7915fbca-6cde-40c8-823f-d6a98aef9f8e",
   "metadata": {},
   "outputs": [
    {
     "data": {
      "text/plain": [
       "'0x1b3a7b156c0'"
      ]
     },
     "execution_count": 27,
     "metadata": {},
     "output_type": "execute_result"
    }
   ],
   "source": [
    "hex(id(add))"
   ]
  },
  {
   "cell_type": "code",
   "execution_count": 29,
   "id": "08bf1879-08c7-4328-9c22-9f59b930bb45",
   "metadata": {},
   "outputs": [
    {
     "data": {
      "text/plain": [
       "'0x7ffa55074348'"
      ]
     },
     "execution_count": 29,
     "metadata": {},
     "output_type": "execute_result"
    }
   ],
   "source": [
    "hex(id(2))"
   ]
  },
  {
   "cell_type": "code",
   "execution_count": 30,
   "id": "4c263952-b946-40c1-9b48-045ed0b07654",
   "metadata": {},
   "outputs": [
    {
     "data": {
      "text/plain": [
       "5"
      ]
     },
     "execution_count": 30,
     "metadata": {},
     "output_type": "execute_result"
    }
   ],
   "source": [
    "add_executor(2,3)"
   ]
  },
  {
   "cell_type": "code",
   "execution_count": 31,
   "id": "349c0df1-fea0-43c2-94ad-c55576e5fdd0",
   "metadata": {},
   "outputs": [],
   "source": [
    "def execute(func):\n",
    "    def inner(*args, **kwargs):\n",
    "        result = func(*args, **kwargs)\n",
    "        return result\n",
    "    return inner"
   ]
  },
  {
   "cell_type": "code",
   "execution_count": 33,
   "id": "5dbcb042-09a8-4853-b6a4-bfa30ba78996",
   "metadata": {},
   "outputs": [],
   "source": [
    "def add(a, b, c):\n",
    "    print('add ...')\n",
    "    return a + b + c"
   ]
  },
  {
   "cell_type": "code",
   "execution_count": 34,
   "id": "6f32503e-83fd-4358-9d5c-f621e3956e4f",
   "metadata": {},
   "outputs": [],
   "source": [
    "def say_hello(name, * , formal=True):\n",
    "    print('say hello...')\n",
    "    if formal:\n",
    "        return f\"Pleased to meet you, {name}\"\n",
    "    else:\n",
    "        return f'Hi, {name}!'"
   ]
  },
  {
   "cell_type": "code",
   "execution_count": 35,
   "id": "aaeaff2c-8e44-4164-a8c4-e3902fc5a2ea",
   "metadata": {},
   "outputs": [],
   "source": [
    "exec_add = execute(add)"
   ]
  },
  {
   "cell_type": "code",
   "execution_count": 36,
   "id": "d43660a3-5202-4919-b855-26dffba657a1",
   "metadata": {},
   "outputs": [],
   "source": [
    "exec_greet = execute(say_hello)"
   ]
  },
  {
   "cell_type": "code",
   "execution_count": 38,
   "id": "50d80efb-2802-4ec7-a198-9db9ea71f918",
   "metadata": {},
   "outputs": [
    {
     "name": "stdout",
     "output_type": "stream",
     "text": [
      "add ...\n"
     ]
    },
    {
     "data": {
      "text/plain": [
       "12"
      ]
     },
     "execution_count": 38,
     "metadata": {},
     "output_type": "execute_result"
    }
   ],
   "source": [
    "exec_add(10, 1 , 1)"
   ]
  },
  {
   "cell_type": "code",
   "execution_count": 40,
   "id": "ccd4395c-176a-485f-9549-f81525fff7bd",
   "metadata": {},
   "outputs": [
    {
     "name": "stdout",
     "output_type": "stream",
     "text": [
      "say hello...\n"
     ]
    },
    {
     "data": {
      "text/plain": [
       "'Hi, Mike!'"
      ]
     },
     "execution_count": 40,
     "metadata": {},
     "output_type": "execute_result"
    }
   ],
   "source": [
    "exec_greet('Mike', formal=False)"
   ]
  },
  {
   "cell_type": "code",
   "execution_count": 47,
   "id": "b4a05261-8b03-4bc0-8c12-dab48f914cb8",
   "metadata": {},
   "outputs": [],
   "source": [
    "def factorial(n):\n",
    "    prod = 1\n",
    "    for i in range(2, n+1):\n",
    "        prod *= i\n",
    "    return prod"
   ]
  },
  {
   "cell_type": "code",
   "execution_count": 42,
   "id": "b10c9a16-0973-4b9f-ab89-adf1fcb86ed8",
   "metadata": {},
   "outputs": [],
   "source": [
    "def diagonal_metrics(rows, cols, * , diagonal=1):\n",
    "    return [\n",
    "        [  \n",
    "            diagonal if row==col else 0\n",
    "            for col in range(cols)\n",
    "        ]\n",
    "        for row in range(rows)\n",
    "    ]\n",
    "    "
   ]
  },
  {
   "cell_type": "code",
   "execution_count": 44,
   "id": "9d088a10-1aa5-4d11-8e07-a3efe14201d2",
   "metadata": {},
   "outputs": [
    {
     "data": {
      "text/plain": [
       "[[10, 0, 0, 0], [0, 10, 0, 0], [0, 0, 10, 0]]"
      ]
     },
     "execution_count": 44,
     "metadata": {},
     "output_type": "execute_result"
    }
   ],
   "source": [
    "diagonal_metrics(3, 4, diagonal=10)"
   ]
  },
  {
   "cell_type": "code",
   "execution_count": 45,
   "id": "8e4edaf6-e039-4b30-91d0-2755f9554b74",
   "metadata": {},
   "outputs": [],
   "source": [
    "from time import perf_counter"
   ]
  },
  {
   "cell_type": "code",
   "execution_count": 51,
   "id": "ab132d84-62df-4d39-8374-dce03e70d95c",
   "metadata": {},
   "outputs": [
    {
     "name": "stdout",
     "output_type": "stream",
     "text": [
      "elapsed; 0.02873590000672266\n"
     ]
    }
   ],
   "source": [
    "start = perf_counter()\n",
    "result = factorial(10_000)\n",
    "end = perf_counter()\n",
    "print(f'elapsed; {end - start}')\n"
   ]
  },
  {
   "cell_type": "code",
   "execution_count": 52,
   "id": "b2fd1113-9927-42c9-82e7-3ccb52caf953",
   "metadata": {},
   "outputs": [
    {
     "name": "stdout",
     "output_type": "stream",
     "text": [
      "elapsed; 0.011624400009168312\n"
     ]
    }
   ],
   "source": [
    "start = perf_counter()\n",
    "result = diagonal_metrics(10,10,diagonal=-1 )\n",
    "end = perf_counter()\n",
    "print(f'elapsed; {end - start}')\n"
   ]
  },
  {
   "cell_type": "code",
   "execution_count": 54,
   "id": "3a314716-ea83-41c0-a909-eb7b221f5410",
   "metadata": {},
   "outputs": [],
   "source": [
    "def time_it(func, *args, **kwargs):\n",
    "    start = perf_counter()\n",
    "    result = func(*args, **kwargs)\n",
    "    end = perf_counter()\n",
    "    print(f'elapsed; {end - start}')\n",
    "    return result\n"
   ]
  },
  {
   "cell_type": "code",
   "execution_count": 55,
   "id": "6690f78b-db44-4a9d-9502-82791de55105",
   "metadata": {},
   "outputs": [
    {
     "name": "stdout",
     "output_type": "stream",
     "text": [
      "elapsed; 3.00002284348011e-06\n"
     ]
    }
   ],
   "source": [
    "result = time_it(factorial, 10)"
   ]
  },
  {
   "cell_type": "code",
   "execution_count": 56,
   "id": "448d473a-74ff-4591-be47-910f34e0e934",
   "metadata": {},
   "outputs": [
    {
     "data": {
      "text/plain": [
       "3628800"
      ]
     },
     "execution_count": 56,
     "metadata": {},
     "output_type": "execute_result"
    }
   ],
   "source": [
    "result"
   ]
  },
  {
   "cell_type": "code",
   "execution_count": 57,
   "id": "1d085b5c-efa2-41a2-b545-376d13aeda9e",
   "metadata": {},
   "outputs": [
    {
     "name": "stdout",
     "output_type": "stream",
     "text": [
      "elapsed; 1.8099992303177714e-05\n"
     ]
    }
   ],
   "source": [
    "result = time_it(diagonal_metrics, 10, 10, diagonal=-1 )"
   ]
  },
  {
   "cell_type": "code",
   "execution_count": 58,
   "id": "a3ba7e6c-09cc-436e-aa36-5fd37611178a",
   "metadata": {},
   "outputs": [],
   "source": [
    "def time_it(func):\n",
    "    def inner(*args, **kwargs):\n",
    "        start = perf_counter()\n",
    "        result = func(*args, **kwargs)\n",
    "        end = perf_counter()\n",
    "        print(f'elapsed; {end - start}')\n",
    "        return result\n",
    "    return inner"
   ]
  },
  {
   "cell_type": "code",
   "execution_count": 59,
   "id": "30147b82-db96-4d0a-a036-156129c6f049",
   "metadata": {},
   "outputs": [],
   "source": [
    "timed_fact = time_it(factorial)"
   ]
  },
  {
   "cell_type": "code",
   "execution_count": 60,
   "id": "69e5d0e5-619d-41b6-a152-57ffb78f6a4f",
   "metadata": {},
   "outputs": [],
   "source": [
    "timed_diagonal = time_it(diagonal_metrics)"
   ]
  },
  {
   "cell_type": "code",
   "execution_count": 61,
   "id": "83a81a08-ed91-4325-9b68-9ad5f1a6ee72",
   "metadata": {},
   "outputs": [
    {
     "name": "stdout",
     "output_type": "stream",
     "text": [
      "elapsed; 3.0999945010989904e-06\n"
     ]
    },
    {
     "data": {
      "text/plain": [
       "120"
      ]
     },
     "execution_count": 61,
     "metadata": {},
     "output_type": "execute_result"
    }
   ],
   "source": [
    "timed_fact(5)"
   ]
  },
  {
   "cell_type": "code",
   "execution_count": null,
   "id": "b19c58e9-f242-4f45-bb60-9a0cd97d20d6",
   "metadata": {},
   "outputs": [],
   "source": []
  }
 ],
 "metadata": {
  "kernelspec": {
   "display_name": "Python 3 (ipykernel)",
   "language": "python",
   "name": "python3"
  },
  "language_info": {
   "codemirror_mode": {
    "name": "ipython",
    "version": 3
   },
   "file_extension": ".py",
   "mimetype": "text/x-python",
   "name": "python",
   "nbconvert_exporter": "python",
   "pygments_lexer": "ipython3",
   "version": "3.11.7"
  }
 },
 "nbformat": 4,
 "nbformat_minor": 5
}
