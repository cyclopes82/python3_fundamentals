{
 "cells": [
  {
   "cell_type": "markdown",
   "id": "03c6623e-f7dc-4fbb-b1ec-fa01303afe07",
   "metadata": {},
   "source": [
    "# Default Values"
   ]
  },
  {
   "cell_type": "code",
   "execution_count": 2,
   "id": "2ba86f1f-8826-458f-a857-81cb50e7393f",
   "metadata": {},
   "outputs": [],
   "source": [
    "def parse(s, sep=',', strip=True):\n",
    "    items = s.split(sep)\n",
    "    if strip:\n",
    "        return [item.strip() for item in items]\n",
    "    else:\n",
    "        return items"
   ]
  },
  {
   "cell_type": "code",
   "execution_count": 3,
   "id": "c1fc8c8a-04f9-47f2-85bf-aaa51dc314d0",
   "metadata": {},
   "outputs": [
    {
     "data": {
      "text/plain": [
       "['a', 'b', 'c']"
      ]
     },
     "execution_count": 3,
     "metadata": {},
     "output_type": "execute_result"
    }
   ],
   "source": [
    "parse('  a, b  , c')"
   ]
  },
  {
   "cell_type": "code",
   "execution_count": 6,
   "id": "b8086ed7-f4c2-42c0-846f-fae3a31c7908",
   "metadata": {},
   "outputs": [
    {
     "data": {
      "text/plain": [
       "['  a', ' b  ', ' c']"
      ]
     },
     "execution_count": 6,
     "metadata": {},
     "output_type": "execute_result"
    }
   ],
   "source": [
    "parse('  a, b  , c', strip=False)"
   ]
  },
  {
   "cell_type": "code",
   "execution_count": 7,
   "id": "484fc314-7339-41bc-a7c3-1edf11eb5317",
   "metadata": {},
   "outputs": [
    {
     "name": "stdout",
     "output_type": "stream",
     "text": [
      "a b c\n"
     ]
    }
   ],
   "source": [
    "print('a', 'b', 'c')"
   ]
  },
  {
   "cell_type": "code",
   "execution_count": 8,
   "id": "a90d849a-7d16-4a1e-a883-55912d9f275e",
   "metadata": {},
   "outputs": [
    {
     "name": "stdout",
     "output_type": "stream",
     "text": [
      "a---b---c\n"
     ]
    }
   ],
   "source": [
    "print('a', 'b', 'c', sep='---')"
   ]
  },
  {
   "cell_type": "code",
   "execution_count": 9,
   "id": "41d41f65-fd60-447e-a4d0-086f1b26f20b",
   "metadata": {},
   "outputs": [
    {
     "name": "stdout",
     "output_type": "stream",
     "text": [
      "a b c\n"
     ]
    }
   ],
   "source": [
    "print(*'abc')"
   ]
  },
  {
   "cell_type": "code",
   "execution_count": 11,
   "id": "4acbed46-e0b2-4ac2-8c36-443e29bde6ae",
   "metadata": {},
   "outputs": [
    {
     "name": "stdout",
     "output_type": "stream",
     "text": [
      "a|b|c****next print line\n"
     ]
    }
   ],
   "source": [
    "print(*'abc',sep='|', end='****')\n",
    "print('next print line')"
   ]
  },
  {
   "cell_type": "code",
   "execution_count": 15,
   "id": "6b1d2abc-0382-486c-a0a1-c8c75638f1dc",
   "metadata": {},
   "outputs": [],
   "source": [
    "data = [\n",
    "    [10, 20, 30],\n",
    "    [100, 200, 300],\n",
    "    [1000, 2000, 3000]\n",
    "]"
   ]
  },
  {
   "cell_type": "code",
   "execution_count": 17,
   "id": "bd952b92-4b19-4e6e-bb10-11b110dcde33",
   "metadata": {},
   "outputs": [],
   "source": [
    "def process_data(data, item_sep=',', line_sep='\\n'):\n",
    "    output = ''\n",
    "    for row in data:\n",
    "        for element in row:\n",
    "            output = output + str(element) + item_sep\n",
    "        output = output + line_sep\n",
    "    return output"
   ]
  },
  {
   "cell_type": "code",
   "execution_count": 18,
   "id": "12693efb-f448-428e-80f2-678df27a7758",
   "metadata": {},
   "outputs": [
    {
     "data": {
      "text/plain": [
       "'10,20,30,\\n100,200,300,\\n1000,2000,3000,\\n'"
      ]
     },
     "execution_count": 18,
     "metadata": {},
     "output_type": "execute_result"
    }
   ],
   "source": [
    "process_data(data)"
   ]
  },
  {
   "cell_type": "code",
   "execution_count": 19,
   "id": "c738e0c3-3edf-4cc6-bc1d-372868343c8d",
   "metadata": {},
   "outputs": [
    {
     "name": "stdout",
     "output_type": "stream",
     "text": [
      "10,20,30,\n",
      "100,200,300,\n",
      "1000,2000,3000,\n",
      "\n"
     ]
    }
   ],
   "source": [
    "print(process_data(data))"
   ]
  },
  {
   "cell_type": "code",
   "execution_count": 20,
   "id": "7d0e3c5d-1f29-4201-9eb9-52c711f2c787",
   "metadata": {},
   "outputs": [
    {
     "data": {
      "text/plain": [
       "'a_b_c'"
      ]
     },
     "execution_count": 20,
     "metadata": {},
     "output_type": "execute_result"
    }
   ],
   "source": [
    "'_'.join(['a', 'b', 'c'])"
   ]
  },
  {
   "cell_type": "code",
   "execution_count": 23,
   "id": "01ad57c0-bbbf-42b9-a0cc-e74905e2bf94",
   "metadata": {},
   "outputs": [],
   "source": [
    "def process_data(data, item_sep=',', line_sep='\\n'):\n",
    "    output = ''\n",
    "    for row in data:\n",
    "        row_str = item_sep.join([str(el) for el in row])\n",
    "        output = output + row_str + line_sep\n",
    "    return output"
   ]
  },
  {
   "cell_type": "code",
   "execution_count": 24,
   "id": "0b1bebce-32ed-448e-b7ce-7847819c6946",
   "metadata": {},
   "outputs": [
    {
     "name": "stdout",
     "output_type": "stream",
     "text": [
      "10,20,30\n",
      "100,200,300\n",
      "1000,2000,3000\n",
      "\n"
     ]
    }
   ],
   "source": [
    "print(process_data(data))"
   ]
  },
  {
   "cell_type": "code",
   "execution_count": 26,
   "id": "703cb8cc-4bf7-4f8a-be53-6248ba3e59a3",
   "metadata": {},
   "outputs": [],
   "source": [
    "def process_data(data, item_sep=',', line_sep='\\n'):\n",
    "    output = ''\n",
    "    for row in data:\n",
    "        gen = (str(el) for el in row)\n",
    "        row_str = item_sep.join(gen)\n",
    "        output = output + row_str + line_sep\n",
    "    return output"
   ]
  },
  {
   "cell_type": "code",
   "execution_count": 27,
   "id": "1af6c5db-af26-4f78-9323-b144e1d4cc8c",
   "metadata": {},
   "outputs": [
    {
     "name": "stdout",
     "output_type": "stream",
     "text": [
      "10,20,30\n",
      "100,200,300\n",
      "1000,2000,3000\n",
      "\n"
     ]
    }
   ],
   "source": [
    "print(process_data(data))"
   ]
  },
  {
   "cell_type": "code",
   "execution_count": 28,
   "id": "f8e5680d-88ee-4cdf-bd5b-9b60c1f6acb3",
   "metadata": {},
   "outputs": [],
   "source": [
    "def process_data(data, item_sep=',', line_sep='\\n'):\n",
    "    output = ''\n",
    "    for row in data:\n",
    "        gen = (str(el) for el in row)\n",
    "        row_str = item_sep.join(gen)\n",
    "        output = output + row_str + line_sep\n",
    "    return output"
   ]
  },
  {
   "cell_type": "code",
   "execution_count": 31,
   "id": "1964ed1a-5e0c-42f9-8998-e81930441db4",
   "metadata": {},
   "outputs": [],
   "source": [
    "def process_data(data, item_sep=',', line_sep='\\n'):\n",
    "    row_strings = [\n",
    "        item_sep.join(str(el) for el in row)\n",
    "        for row in data\n",
    "    ]\n",
    "    return line_sep.join(row_strings)"
   ]
  },
  {
   "cell_type": "code",
   "execution_count": 32,
   "id": "93d68356-9b70-42f7-8f6c-05f3eba1c2d1",
   "metadata": {},
   "outputs": [
    {
     "name": "stdout",
     "output_type": "stream",
     "text": [
      "10,20,30\n",
      "100,200,300\n",
      "1000,2000,3000\n"
     ]
    }
   ],
   "source": [
    "print(process_data(data))"
   ]
  },
  {
   "cell_type": "code",
   "execution_count": 34,
   "id": "a0933342-4c8e-4ee2-ba58-6bbee6df82aa",
   "metadata": {},
   "outputs": [],
   "source": [
    "def process_row(row, item_sep):\n",
    "    return item_sep.join(str(el) for el in row)"
   ]
  },
  {
   "cell_type": "code",
   "execution_count": 39,
   "id": "e142216f-91b3-4def-82be-0c3b972af1ef",
   "metadata": {},
   "outputs": [],
   "source": [
    "def process_data(data, item_sep=',', line_sep='\\n'):\n",
    "    row_strings = (process_row(row, item_sep) for row in data)\n",
    "    return line_sep.join(row_strings)"
   ]
  },
  {
   "cell_type": "code",
   "execution_count": 40,
   "id": "433fcaeb-58c7-4506-b343-3fb724204ba2",
   "metadata": {},
   "outputs": [
    {
     "name": "stdout",
     "output_type": "stream",
     "text": [
      "10,20,30\n",
      "100,200,300\n",
      "1000,2000,3000\n"
     ]
    }
   ],
   "source": [
    "print(process_data(data))"
   ]
  },
  {
   "cell_type": "code",
   "execution_count": null,
   "id": "505eb560-3a80-4ea9-a662-a6d32d563a7d",
   "metadata": {},
   "outputs": [],
   "source": []
  }
 ],
 "metadata": {
  "kernelspec": {
   "display_name": "Python 3 (ipykernel)",
   "language": "python",
   "name": "python3"
  },
  "language_info": {
   "codemirror_mode": {
    "name": "ipython",
    "version": 3
   },
   "file_extension": ".py",
   "mimetype": "text/x-python",
   "name": "python",
   "nbconvert_exporter": "python",
   "pygments_lexer": "ipython3",
   "version": "3.11.7"
  }
 },
 "nbformat": 4,
 "nbformat_minor": 5
}
