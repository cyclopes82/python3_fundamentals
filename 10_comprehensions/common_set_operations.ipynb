{
 "cells": [
  {
   "cell_type": "markdown",
   "id": "179be5ef-8182-489a-a01b-d8e26a4b3a59",
   "metadata": {},
   "source": [
    "## Common Set Operations"
   ]
  },
  {
   "cell_type": "code",
   "execution_count": 6,
   "id": "513a8983-5b42-4ac8-bdd6-ce29f10a2f34",
   "metadata": {},
   "outputs": [],
   "source": [
    "s1 = set('abc')\n",
    "s2 = {True, False}\n",
    "s3 = {'a', 100, 200}"
   ]
  },
  {
   "cell_type": "code",
   "execution_count": 7,
   "id": "5016b13c-27c1-49f6-8f8d-b1249db64aa4",
   "metadata": {},
   "outputs": [
    {
     "data": {
      "text/plain": [
       "True"
      ]
     },
     "execution_count": 7,
     "metadata": {},
     "output_type": "execute_result"
    }
   ],
   "source": [
    "s1.isdisjoint(s2)"
   ]
  },
  {
   "cell_type": "code",
   "execution_count": 8,
   "id": "2ecf3b32-7d62-4a2a-9378-02afc519cd42",
   "metadata": {},
   "outputs": [],
   "source": [
    "s = set()"
   ]
  },
  {
   "cell_type": "code",
   "execution_count": 9,
   "id": "264d4796-fdba-43b8-ad7b-85a6fc4b54e0",
   "metadata": {},
   "outputs": [],
   "source": [
    "s.add(100)"
   ]
  },
  {
   "cell_type": "code",
   "execution_count": 10,
   "id": "2b943e45-4216-4394-b5aa-ccbf1a7908f6",
   "metadata": {},
   "outputs": [
    {
     "data": {
      "text/plain": [
       "{100}"
      ]
     },
     "execution_count": 10,
     "metadata": {},
     "output_type": "execute_result"
    }
   ],
   "source": [
    "s"
   ]
  },
  {
   "cell_type": "code",
   "execution_count": 11,
   "id": "4bcc575a-ac94-4c9b-9315-6f267af6b680",
   "metadata": {},
   "outputs": [],
   "source": [
    "s = set('abc')"
   ]
  },
  {
   "cell_type": "code",
   "execution_count": 12,
   "id": "4b4df13e-a4f2-4f59-8a8e-278a933a7841",
   "metadata": {},
   "outputs": [
    {
     "data": {
      "text/plain": [
       "{'a', 'b', 'c'}"
      ]
     },
     "execution_count": 12,
     "metadata": {},
     "output_type": "execute_result"
    }
   ],
   "source": [
    "s"
   ]
  },
  {
   "cell_type": "code",
   "execution_count": 13,
   "id": "3343543c-bb35-4d76-8943-9056b2a21a87",
   "metadata": {},
   "outputs": [],
   "source": [
    "s.remove('a')"
   ]
  },
  {
   "cell_type": "code",
   "execution_count": 14,
   "id": "d310ef34-7938-4596-9230-b263867b788f",
   "metadata": {},
   "outputs": [
    {
     "data": {
      "text/plain": [
       "{'b', 'c'}"
      ]
     },
     "execution_count": 14,
     "metadata": {},
     "output_type": "execute_result"
    }
   ],
   "source": [
    "s"
   ]
  },
  {
   "cell_type": "code",
   "execution_count": 15,
   "id": "c5daa0e1-ca23-45be-b35e-47c669190777",
   "metadata": {},
   "outputs": [],
   "source": [
    "s.discard('b')"
   ]
  },
  {
   "cell_type": "code",
   "execution_count": 16,
   "id": "183b40ad-cdad-4b67-907a-37175fc75821",
   "metadata": {},
   "outputs": [
    {
     "data": {
      "text/plain": [
       "{'c'}"
      ]
     },
     "execution_count": 16,
     "metadata": {},
     "output_type": "execute_result"
    }
   ],
   "source": [
    "s"
   ]
  },
  {
   "cell_type": "code",
   "execution_count": 17,
   "id": "cda7e583-add0-4277-817a-6ab106573cf2",
   "metadata": {},
   "outputs": [],
   "source": [
    "s.discard('x')"
   ]
  },
  {
   "cell_type": "code",
   "execution_count": 18,
   "id": "3eb36ef4-ca09-45dd-a2f9-0fa38b1539ba",
   "metadata": {},
   "outputs": [
    {
     "ename": "KeyError",
     "evalue": "'x'",
     "output_type": "error",
     "traceback": [
      "\u001b[1;31m---------------------------------------------------------------------------\u001b[0m",
      "\u001b[1;31mKeyError\u001b[0m                                  Traceback (most recent call last)",
      "Cell \u001b[1;32mIn[18], line 1\u001b[0m\n\u001b[1;32m----> 1\u001b[0m \u001b[43ms\u001b[49m\u001b[38;5;241;43m.\u001b[39;49m\u001b[43mremove\u001b[49m\u001b[43m(\u001b[49m\u001b[38;5;124;43m'\u001b[39;49m\u001b[38;5;124;43mx\u001b[39;49m\u001b[38;5;124;43m'\u001b[39;49m\u001b[43m)\u001b[49m\n",
      "\u001b[1;31mKeyError\u001b[0m: 'x'"
     ]
    }
   ],
   "source": [
    "s.remove('x')"
   ]
  },
  {
   "cell_type": "code",
   "execution_count": 19,
   "id": "ed7f49aa-ad93-4962-9cd2-861ac33ddffd",
   "metadata": {},
   "outputs": [],
   "source": [
    "s1 = set('abc')"
   ]
  },
  {
   "cell_type": "code",
   "execution_count": 20,
   "id": "6d0b0854-3012-4ad6-a26a-c79d361e66ec",
   "metadata": {},
   "outputs": [],
   "source": [
    "import string"
   ]
  },
  {
   "cell_type": "code",
   "execution_count": 21,
   "id": "d846862a-2ef2-4aac-b87a-54a835ab159e",
   "metadata": {},
   "outputs": [
    {
     "data": {
      "text/plain": [
       "'abcdefghijklmnopqrstuvwxyz'"
      ]
     },
     "execution_count": 21,
     "metadata": {},
     "output_type": "execute_result"
    }
   ],
   "source": [
    "string.ascii_lowercase"
   ]
  },
  {
   "cell_type": "code",
   "execution_count": null,
   "id": "588438ea-92f3-4746-a3c1-327c5e11fa1c",
   "metadata": {},
   "outputs": [],
   "source": []
  }
 ],
 "metadata": {
  "kernelspec": {
   "display_name": "Python 3 (ipykernel)",
   "language": "python",
   "name": "python3"
  },
  "language_info": {
   "codemirror_mode": {
    "name": "ipython",
    "version": 3
   },
   "file_extension": ".py",
   "mimetype": "text/x-python",
   "name": "python",
   "nbconvert_exporter": "python",
   "pygments_lexer": "ipython3",
   "version": "3.11.7"
  }
 },
 "nbformat": 4,
 "nbformat_minor": 5
}
