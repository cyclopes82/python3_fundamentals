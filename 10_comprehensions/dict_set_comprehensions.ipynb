{
 "cells": [
  {
   "cell_type": "markdown",
   "id": "f8644ed2-85bf-4e3f-8950-de130378a0a6",
   "metadata": {},
   "source": [
    "## Dict & Set Comprehensions"
   ]
  },
  {
   "cell_type": "code",
   "execution_count": 2,
   "id": "be6878e4-aa47-4b31-a482-8d214879fd78",
   "metadata": {},
   "outputs": [],
   "source": [
    "widget_sales = [\n",
    "    {'name': 'widget 1', 'sales': 10},\n",
    "    {'name': 'widget 2', 'sales': 5},\n",
    "    {'name': 'widget 3', 'sales': 0},\n",
    "]"
   ]
  },
  {
   "cell_type": "code",
   "execution_count": 4,
   "id": "c2b93992-36c8-4bab-88a0-ee5ff4cf30db",
   "metadata": {},
   "outputs": [
    {
     "data": {
      "text/plain": [
       "{'widget 1': 10, 'widget 2': 5, 'widget 3': 0}"
      ]
     },
     "execution_count": 4,
     "metadata": {},
     "output_type": "execute_result"
    }
   ],
   "source": [
    "sales_by_widget = {}\n",
    "for d in widget_sales:\n",
    "     widget_name = d['name']\n",
    "     sales = d['sales']\n",
    "     sales_by_widget[widget_name] = sales\n",
    "\n",
    "sales_by_widget"
   ]
  },
  {
   "cell_type": "code",
   "execution_count": 5,
   "id": "3ff22408-05b3-4fc6-b00b-8a1d4ad97fba",
   "metadata": {},
   "outputs": [],
   "source": [
    "sales_by_widget = {d['name']:d['sales'] for d in widget_sales}"
   ]
  },
  {
   "cell_type": "code",
   "execution_count": 6,
   "id": "943bbf4d-262d-46b8-9470-9b900310b5a3",
   "metadata": {},
   "outputs": [
    {
     "data": {
      "text/plain": [
       "{'widget 1': 10, 'widget 2': 5, 'widget 3': 0}"
      ]
     },
     "execution_count": 6,
     "metadata": {},
     "output_type": "execute_result"
    }
   ],
   "source": [
    "sales_by_widget"
   ]
  },
  {
   "cell_type": "code",
   "execution_count": 7,
   "id": "ad8dd06c-3918-4f2a-97af-b77470eaafe2",
   "metadata": {},
   "outputs": [],
   "source": [
    "sales_by_widget = {d['name']:d['sales'] for d in widget_sales if d['sales']>0}"
   ]
  },
  {
   "cell_type": "code",
   "execution_count": 8,
   "id": "a60e3cb6-6a0d-4e27-858a-7298a1af85e0",
   "metadata": {},
   "outputs": [
    {
     "data": {
      "text/plain": [
       "{'widget 1': 10, 'widget 2': 5}"
      ]
     },
     "execution_count": 8,
     "metadata": {},
     "output_type": "execute_result"
    }
   ],
   "source": [
    "sales_by_widget"
   ]
  },
  {
   "cell_type": "code",
   "execution_count": 9,
   "id": "6c212097-04e4-450c-8448-29b305a01d5d",
   "metadata": {},
   "outputs": [],
   "source": [
    "freq = {\n",
    "    'a': 3,\n",
    "    'b': 2,\n",
    "    'c': 3,\n",
    "    'd': 1\n",
    "}"
   ]
  },
  {
   "cell_type": "code",
   "execution_count": 13,
   "id": "5218f76b-d020-418c-a3f4-aa1a07335328",
   "metadata": {},
   "outputs": [],
   "source": [
    "data = ['a', 'a', 'a', 'b', 'b', 'b', 'c', 'c','c', 'd']"
   ]
  },
  {
   "cell_type": "code",
   "execution_count": 14,
   "id": "58e26cb8-68d5-40d1-a7fb-1d649daa7765",
   "metadata": {},
   "outputs": [
    {
     "data": {
      "text/plain": [
       "{'c': 3, 'd': 1, 'b': 3, 'a': 3}"
      ]
     },
     "execution_count": 14,
     "metadata": {},
     "output_type": "execute_result"
    }
   ],
   "source": [
    "freq = {element: len([char for char in data if char == element])\n",
    "        for element in set(data)}\n",
    "freq"
   ]
  },
  {
   "cell_type": "code",
   "execution_count": 15,
   "id": "0b734801-7361-4b01-9111-55267e2a628e",
   "metadata": {},
   "outputs": [],
   "source": [
    "from collections import Counter\n",
    "freq = Counter(data)"
   ]
  },
  {
   "cell_type": "code",
   "execution_count": 21,
   "id": "6194c3b9-d3ab-460c-abd8-a3b00a326e0f",
   "metadata": {},
   "outputs": [
    {
     "data": {
      "text/plain": [
       "{'P': 1,\n",
       " 'r': 2,\n",
       " 'a': 1,\n",
       " 't': 4,\n",
       " 'i': 3,\n",
       " 'k': 1,\n",
       " ' ': 7,\n",
       " 's': 2,\n",
       " 'h': 2,\n",
       " 'e': 3,\n",
       " 'b': 2,\n",
       " 'o': 2,\n",
       " 'y': 1,\n",
       " 'n': 1,\n",
       " 'w': 1,\n",
       " 'l': 1,\n",
       " 'd': 1}"
      ]
     },
     "execution_count": 21,
     "metadata": {},
     "output_type": "execute_result"
    }
   ],
   "source": [
    "dict(freq)"
   ]
  },
  {
   "cell_type": "code",
   "execution_count": 27,
   "id": "b2fa35cb-c1dc-4990-b86e-18dd10935638",
   "metadata": {},
   "outputs": [],
   "source": [
    "sen = \"Pratik is the best boy, in the world.\""
   ]
  },
  {
   "cell_type": "code",
   "execution_count": 22,
   "id": "05c2a190-7f07-4f14-8034-a0dc99d620d8",
   "metadata": {},
   "outputs": [
    {
     "data": {
      "text/plain": [
       "{'P': 1,\n",
       " 'r': 2,\n",
       " 'a': 1,\n",
       " 't': 4,\n",
       " 'i': 3,\n",
       " 'k': 1,\n",
       " ' ': 7,\n",
       " 's': 2,\n",
       " 'h': 2,\n",
       " 'e': 3,\n",
       " 'b': 2,\n",
       " 'o': 2,\n",
       " 'y': 1,\n",
       " 'n': 1,\n",
       " 'w': 1,\n",
       " 'l': 1,\n",
       " 'd': 1}"
      ]
     },
     "execution_count": 22,
     "metadata": {},
     "output_type": "execute_result"
    }
   ],
   "source": [
    "freq = Counter(sen)\n",
    "dict(freq)"
   ]
  },
  {
   "cell_type": "code",
   "execution_count": 33,
   "id": "e1a3872f-0b7b-4c51-b2d5-9795e13ccf96",
   "metadata": {},
   "outputs": [],
   "source": [
    "ignored = \",.\\n \""
   ]
  },
  {
   "cell_type": "code",
   "execution_count": 28,
   "id": "deb7dad7-39f8-46bb-985e-49827981df91",
   "metadata": {},
   "outputs": [
    {
     "data": {
      "text/plain": [
       "{'p': 1,\n",
       " 'r': 2,\n",
       " 'a': 1,\n",
       " 't': 4,\n",
       " 'i': 3,\n",
       " 'k': 1,\n",
       " ' ': 7,\n",
       " 's': 2,\n",
       " 'h': 2,\n",
       " 'e': 3,\n",
       " 'b': 2,\n",
       " 'o': 2,\n",
       " 'y': 1,\n",
       " ',': 1,\n",
       " 'n': 1,\n",
       " 'w': 1,\n",
       " 'l': 1,\n",
       " 'd': 1,\n",
       " '.': 1}"
      ]
     },
     "execution_count": 28,
     "metadata": {},
     "output_type": "execute_result"
    }
   ],
   "source": [
    "freq = Counter(sen.casefold())\n",
    "dict(freq)"
   ]
  },
  {
   "cell_type": "code",
   "execution_count": 34,
   "id": "cc8df5db-dfe2-4de7-a0db-967840bb9766",
   "metadata": {},
   "outputs": [
    {
     "data": {
      "text/plain": [
       "{'p': 1,\n",
       " 'r': 2,\n",
       " 'a': 1,\n",
       " 't': 4,\n",
       " 'i': 3,\n",
       " 'k': 1,\n",
       " 's': 2,\n",
       " 'h': 2,\n",
       " 'e': 3,\n",
       " 'b': 2,\n",
       " 'o': 2,\n",
       " 'y': 1,\n",
       " 'n': 1,\n",
       " 'w': 1,\n",
       " 'l': 1,\n",
       " 'd': 1}"
      ]
     },
     "execution_count": 34,
     "metadata": {},
     "output_type": "execute_result"
    }
   ],
   "source": [
    "cleaned_freq = { key:value for key, value in freq.items() if key not in ignored}\n",
    "cleaned_freq"
   ]
  },
  {
   "cell_type": "code",
   "execution_count": null,
   "id": "ab6f47e5-edf7-4736-a945-528bc18d5a01",
   "metadata": {},
   "outputs": [],
   "source": []
  }
 ],
 "metadata": {
  "kernelspec": {
   "display_name": "Python 3 (ipykernel)",
   "language": "python",
   "name": "python3"
  },
  "language_info": {
   "codemirror_mode": {
    "name": "ipython",
    "version": 3
   },
   "file_extension": ".py",
   "mimetype": "text/x-python",
   "name": "python",
   "nbconvert_exporter": "python",
   "pygments_lexer": "ipython3",
   "version": "3.11.7"
  }
 },
 "nbformat": 4,
 "nbformat_minor": 5
}
