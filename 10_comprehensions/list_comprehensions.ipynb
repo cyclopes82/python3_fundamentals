{
 "cells": [
  {
   "cell_type": "markdown",
   "id": "af69d156-bfde-44b4-9eed-bb35180bd9f4",
   "metadata": {},
   "source": [
    "## List Comprehensions"
   ]
  },
  {
   "cell_type": "code",
   "execution_count": 1,
   "id": "ede5eb5c-b5d4-4f4e-bb7b-a197be3062a3",
   "metadata": {},
   "outputs": [],
   "source": [
    "vectors = [(0, 0), (0, 1), (1, 0), (1, 1)]"
   ]
  },
  {
   "cell_type": "code",
   "execution_count": 2,
   "id": "dfb1e944-51f1-430c-a75f-24e128eb1c30",
   "metadata": {},
   "outputs": [],
   "source": [
    "from math import sqrt"
   ]
  },
  {
   "cell_type": "code",
   "execution_count": 3,
   "id": "d0fdbd60-b8bf-4525-9b3c-ebecbcbf77ce",
   "metadata": {},
   "outputs": [
    {
     "data": {
      "text/plain": [
       "[0.0, 1.0, 1.0, 1.4142135623730951]"
      ]
     },
     "execution_count": 3,
     "metadata": {},
     "output_type": "execute_result"
    }
   ],
   "source": [
    "magnitudes = []\n",
    "\n",
    "for vector in vectors:\n",
    "    magnitude = sqrt(vector[0] ** 2 + vector[1] ** 2)\n",
    "    magnitudes.append(magnitude)\n",
    "\n",
    "magnitudes\n",
    "    "
   ]
  },
  {
   "cell_type": "code",
   "execution_count": 4,
   "id": "809f78ec-9886-4d0c-9671-e64264ecad86",
   "metadata": {},
   "outputs": [
    {
     "data": {
      "text/plain": [
       "[0.0, 1.0, 1.0, 1.4142135623730951]"
      ]
     },
     "execution_count": 4,
     "metadata": {},
     "output_type": "execute_result"
    }
   ],
   "source": [
    "magnitudes = [sqrt(vector[0] ** 2 + vector[1] ** 2) for vector in vectors]\n",
    "magnitudes"
   ]
  },
  {
   "cell_type": "code",
   "execution_count": 6,
   "id": "f761c7e9-6e1d-474e-8e3a-100610b01c63",
   "metadata": {},
   "outputs": [],
   "source": [
    "from time import  perf_counter"
   ]
  },
  {
   "cell_type": "code",
   "execution_count": 12,
   "id": "f4b4c304-e358-4577-9518-bff086240b5d",
   "metadata": {},
   "outputs": [
    {
     "data": {
      "text/plain": [
       "0.1667654002085328"
      ]
     },
     "execution_count": 12,
     "metadata": {},
     "output_type": "execute_result"
    }
   ],
   "source": [
    "start = perf_counter()\n",
    "\n",
    "for i in range(100_000):\n",
    "    magnitudes = []\n",
    "\n",
    "    for vector in vectors:\n",
    "        magnitude = sqrt(vector[0] ** 2 + vector[1] ** 2)\n",
    "        magnitudes.append(magnitude)\n",
    "\n",
    "end = perf_counter()\n",
    "\n",
    "end-start\n",
    "    "
   ]
  },
  {
   "cell_type": "code",
   "execution_count": 11,
   "id": "3edf0e69-5b54-4251-84be-7b54faa1853e",
   "metadata": {},
   "outputs": [
    {
     "data": {
      "text/plain": [
       "0.14053509989753366"
      ]
     },
     "execution_count": 11,
     "metadata": {},
     "output_type": "execute_result"
    }
   ],
   "source": [
    "start = perf_counter()\n",
    "\n",
    "for i in range(100_000):\n",
    "    magnitudes = [sqrt(vector[0] ** 2 + vector[1] ** 2) for vector in vectors]\n",
    "\n",
    "end = perf_counter()\n",
    "\n",
    "end-start"
   ]
  },
  {
   "cell_type": "code",
   "execution_count": 13,
   "id": "643dd7ca-bb7d-42b3-8ad2-213b81c0c3fe",
   "metadata": {},
   "outputs": [
    {
     "data": {
      "text/plain": [
       "['Python', 'is', 'an', 'awesome', 'language']"
      ]
     },
     "execution_count": 13,
     "metadata": {},
     "output_type": "execute_result"
    }
   ],
   "source": [
    "strings = 'Python is an awesome language'.split(\" \")\n",
    "strings"
   ]
  },
  {
   "cell_type": "code",
   "execution_count": 14,
   "id": "9d54b2ce-0ace-447b-921b-5f0409ed284a",
   "metadata": {},
   "outputs": [
    {
     "data": {
      "text/plain": [
       "['Python', 'awesome', 'language']"
      ]
     },
     "execution_count": 14,
     "metadata": {},
     "output_type": "execute_result"
    }
   ],
   "source": [
    "filtered = [ item for item in strings if len(item)> 5]\n",
    "filtered"
   ]
  },
  {
   "cell_type": "code",
   "execution_count": 15,
   "id": "e3ce6368-05c3-41ab-86d0-f6ebdd1c48c0",
   "metadata": {},
   "outputs": [],
   "source": [
    "sales = {\n",
    "    'widget 1': 0,\n",
    "    'widget 2': 5,\n",
    "    'widget 3': 10,\n",
    "    'widget 4': 2\n",
    "}"
   ]
  },
  {
   "cell_type": "code",
   "execution_count": 16,
   "id": "4584f821-7724-42dc-8e04-a201e047bc12",
   "metadata": {},
   "outputs": [
    {
     "data": {
      "text/plain": [
       "['widget 2', 'widget 3']"
      ]
     },
     "execution_count": 16,
     "metadata": {},
     "output_type": "execute_result"
    }
   ],
   "source": [
    "high_sales = [key for key, value in sales.items() if value >= 5]\n",
    "high_sales\n"
   ]
  },
  {
   "cell_type": "code",
   "execution_count": 23,
   "id": "2cf8fde5-e6aa-4906-8dc0-2c366375f66d",
   "metadata": {},
   "outputs": [
    {
     "data": {
      "text/plain": [
       "[[1, 0, 0], [0, 1, 0], [0, 0, 1]]"
      ]
     },
     "execution_count": 23,
     "metadata": {},
     "output_type": "execute_result"
    }
   ],
   "source": [
    "m = [ \n",
    "    [1 if row == col else 0 for col in range(3)] \n",
    "     for row in range(3)\n",
    "    ]\n",
    "m"
   ]
  }
 ],
 "metadata": {
  "kernelspec": {
   "display_name": "Python 3 (ipykernel)",
   "language": "python",
   "name": "python3"
  },
  "language_info": {
   "codemirror_mode": {
    "name": "ipython",
    "version": 3
   },
   "file_extension": ".py",
   "mimetype": "text/x-python",
   "name": "python",
   "nbconvert_exporter": "python",
   "pygments_lexer": "ipython3",
   "version": "3.11.7"
  }
 },
 "nbformat": 4,
 "nbformat_minor": 5
}
